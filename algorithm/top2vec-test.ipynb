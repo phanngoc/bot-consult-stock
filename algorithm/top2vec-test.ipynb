{
 "cells": [
  {
   "cell_type": "code",
   "execution_count": 35,
   "metadata": {},
   "outputs": [],
   "source": [
    "import json"
   ]
  },
  {
   "cell_type": "code",
   "execution_count": 36,
   "metadata": {},
   "outputs": [],
   "source": [
    "\n",
    "from top2vec import Top2Vec\n",
    "model = Top2Vec.load(\"./cached/top2vec.model\")"
   ]
  },
  {
   "cell_type": "code",
   "execution_count": 37,
   "metadata": {},
   "outputs": [
    {
     "data": {
      "text/plain": [
       "47"
      ]
     },
     "execution_count": 37,
     "metadata": {},
     "output_type": "execute_result"
    }
   ],
   "source": [
    "model.get_num_topics()"
   ]
  },
  {
   "cell_type": "code",
   "execution_count": 38,
   "metadata": {},
   "outputs": [
    {
     "name": "stdout",
     "output_type": "stream",
     "text": [
      "(47, 50)\n"
     ]
    }
   ],
   "source": [
    "print(model.topic_words.shape)"
   ]
  },
  {
   "cell_type": "code",
   "execution_count": 39,
   "metadata": {},
   "outputs": [
    {
     "name": "stdout",
     "output_type": "stream",
     "text": [
      "['nmld_dung_quất' 'đối_tác_chiến_lược' 'vũ_vinh_phú' 'ký_kết_hợp_tác'\n",
      " 'hợp_tác_chiến_lược' 'nguyễn_công_phú' 'ixora_ho_tram'\n",
      " 'hành_lang_pháp_lý' 'fpt_long_châu' 'thị_trường_chứng_khoán'\n",
      " 'vạn_thịnh_phát' 'đô_thị_vệ_tinh' 'dablewidget_qxedqqel' 'buôn_ma_thuột'\n",
      " 'hòa_lợi_ích' 'ngay_lập_tức' 'chi_phí_sản_xuất' 'bánh_trung_thu'\n",
      " 'phan_văn_mãi' 'trịnh_văn_quyết' 'bộ_tài_nguyên_và_môi_trường'\n",
      " 'bến_xe_buýt' 'phan_hậu_' 'nguyễn_quốc_việt' 'tài_nguyên_và_môi_trường'\n",
      " 'trần_quốc_hoàn' 'trương_mỹ_lan' 'phương_pháp_định_giá'\n",
      " 'kinh_tế_phục_hồi' 'khu_công_nghiệp' 'nguyễn_hữu_thọ' 'phú_mỹ_hưng'\n",
      " 'lê_đạt_chí' 'chuyên_gia_tài_chính' 'trần_thanh_hải'\n",
      " 'gran_meliá_nha_trang' 'nguyễn_văn_sinh' 'nhu_yếu_phẩm' 'tnhh_mtv'\n",
      " 'quản_lý_tài_sản' 'địa_chính_trị' 'nguyễn_hữu_huân' 'tân_phú'\n",
      " 'cơ_sở_vật_chất' 'lê_văn_lương' 'phấn_khởi' 'lê_xuân_nghĩa' 'câu_lạc_bộ'\n",
      " 'nguyễn_trí_hiếu' 'nguyễn_văn_thắng']\n",
      "['dầu_wti' 'dầu_diesel' 'dầu_dầu' 'dầu_dầu_thô' 'dầu_khí' 'dầu_mỏ'\n",
      " 'dầu_hỏa' 'dầu_brent' 'dầu_xăng' 'dầu_thô' 'xăng_dầu' 'dầu_ăn' 'dầu_giây'\n",
      " 'pv_oil' 'đối_tác_chiến_lược' 'ký_kết_hợp_tác' 'hợp_tác_chiến_lược' 'dầu'\n",
      " 'nmld_dung_quất' 'vạn_thịnh_phát' 'nsh_petro' 'hành_lang_pháp_lý'\n",
      " 'fpt_long_châu' 'lê_đạt_chí' 'đô_thị_vệ_tinh' 'ixora_ho_tram'\n",
      " 'ngay_lập_tức' 'thị_trường_chứng_khoán' 'nguyễn_công_phú'\n",
      " 'dablewidget_qxedqqel' 'phương_pháp_định_giá' 'gran_meliá_nha_trang'\n",
      " 'bến_xe_buýt' 'quản_lý_tài_sản' 'trương_mỹ_lan' 'lê_văn_lương'\n",
      " 'vũ_vinh_phú' 'cây_xăng' 'chi_phí_sản_xuất' 'chuyên_gia_tài_chính'\n",
      " 'lê_xuân_nghĩa' 'sở_giao_dịch' 'hòa_lợi_ích' 'quản_lý_tài_chính'\n",
      " 'nguyễn_quốc_việt' 'nguyễn_văn_thắng' 'phan_văn_mãi' 'bánh_trung_thu'\n",
      " 'tăng_thu' 'địa_chính_trị']\n",
      "['quản_lý_tài_sản' 'khu_công_nghiệp' 'nmld_dung_quất' 'đối_tác_chiến_lược'\n",
      " 'ký_kết_hợp_tác' 'hành_lang_pháp_lý' 'suất_lợi_nhuận' 'vạn_thịnh_phát'\n",
      " 'chi_phí_sản_xuất' 'ngay_lập_tức' 'hợp_tác_chiến_lược' 'doanh_nghiệp'\n",
      " 'bất_động_sản' 'gran_meliá_nha_trang' 'tổng_tài_sản' 'quản_lý_tài_chính'\n",
      " 'tổng_doanh_thu' 'chuyên_gia_tài_chính' 'thị_trường_chứng_khoán'\n",
      " 'nguyễn_công_phú' 'buôn_ma_thuột' 'phương_pháp_định_giá'\n",
      " 'trịnh_văn_quyết' 'đô_thị_vệ_tinh' 'hòa_lợi_ích' 'vũ_vinh_phú'\n",
      " 'sở_giao_dịch' 'phan_văn_mãi' 'ixora_ho_tram' 'dablewidget_qxedqqel'\n",
      " 'phó_chủ_tịch' 'trần_quốc_hoàn' 'lê_đạt_chí' 'nhà_chức_trách'\n",
      " 'trương_mỹ_lan' 'lê_văn_lương' 'bánh_trung_thu' 'kinh_tế_phục_hồi'\n",
      " 'doanh_thu' 'cơ_sở_vật_chất' 'phan_hậu_' 'địa_chính_trị' 'tỉ_phú'\n",
      " 'fpt_long_châu' 'bến_xe_buýt' 'nguyễn_quốc_việt' 'hội_đồng_quản_trị'\n",
      " 'thủy_hải_sản' 'làm_giàu' 'nhu_yếu_phẩm']\n"
     ]
    }
   ],
   "source": [
    "print(model.topic_words[0])\n",
    "print(model.topic_words[1])\n",
    "print(model.topic_words[2])"
   ]
  },
  {
   "cell_type": "code",
   "execution_count": 40,
   "metadata": {},
   "outputs": [],
   "source": [
    "\n",
    "topic_words, word_scores, topic_scores, topic_nums = model.search_topics(keywords=[\"thị_trường_chứng_khoán\"], num_topics=5)"
   ]
  },
  {
   "cell_type": "code",
   "execution_count": 41,
   "metadata": {},
   "outputs": [
    {
     "name": "stdout",
     "output_type": "stream",
     "text": [
      "[array(['nmld_dung_quất', 'đối_tác_chiến_lược', 'vũ_vinh_phú',\n",
      "       'ký_kết_hợp_tác', 'hợp_tác_chiến_lược', 'nguyễn_công_phú',\n",
      "       'ixora_ho_tram', 'hành_lang_pháp_lý', 'fpt_long_châu',\n",
      "       'thị_trường_chứng_khoán', 'vạn_thịnh_phát', 'đô_thị_vệ_tinh',\n",
      "       'dablewidget_qxedqqel', 'buôn_ma_thuột', 'hòa_lợi_ích',\n",
      "       'ngay_lập_tức', 'chi_phí_sản_xuất', 'bánh_trung_thu',\n",
      "       'phan_văn_mãi', 'trịnh_văn_quyết', 'bộ_tài_nguyên_và_môi_trường',\n",
      "       'bến_xe_buýt', 'phan_hậu_', 'nguyễn_quốc_việt',\n",
      "       'tài_nguyên_và_môi_trường', 'trần_quốc_hoàn', 'trương_mỹ_lan',\n",
      "       'phương_pháp_định_giá', 'kinh_tế_phục_hồi', 'khu_công_nghiệp',\n",
      "       'nguyễn_hữu_thọ', 'phú_mỹ_hưng', 'lê_đạt_chí',\n",
      "       'chuyên_gia_tài_chính', 'trần_thanh_hải', 'gran_meliá_nha_trang',\n",
      "       'nguyễn_văn_sinh', 'nhu_yếu_phẩm', 'tnhh_mtv', 'quản_lý_tài_sản',\n",
      "       'địa_chính_trị', 'nguyễn_hữu_huân', 'tân_phú', 'cơ_sở_vật_chất',\n",
      "       'lê_văn_lương', 'phấn_khởi', 'lê_xuân_nghĩa', 'câu_lạc_bộ',\n",
      "       'nguyễn_trí_hiếu', 'nguyễn_văn_thắng'], dtype='<U27'), array(['đối_tác_chiến_lược', 'nmld_dung_quất', 'ký_kết_hợp_tác',\n",
      "       'hợp_tác_chiến_lược', 'vạn_thịnh_phát', 'hành_lang_pháp_lý',\n",
      "       'thị_trường_chứng_khoán', 'phương_pháp_định_giá', 'ngay_lập_tức',\n",
      "       'hòa_lợi_ích', 'ixora_ho_tram', 'nguyễn_công_phú',\n",
      "       'trịnh_văn_quyết', 'hanoi_melody_residences', 'đô_thị_vệ_tinh',\n",
      "       'vũ_vinh_phú', 'chi_phí_sản_xuất', 'bánh_trung_thu',\n",
      "       'trần_quốc_hoàn', 'địa_chính_trị', 'trương_mỹ_lan', 'lê_đạt_chí',\n",
      "       'phan_văn_mãi', 'bến_xe_buýt', 'quản_lý_tài_sản',\n",
      "       'khu_công_nghiệp', 'fpt_long_châu', 'dablewidget_qxedqqel',\n",
      "       'phan_hậu_', 'hội_đồng_quản_trị', 'gran_meliá_nha_trang',\n",
      "       'quản_lý_tài_chính', 'lê_xuân_nghĩa', 'nguyễn_quốc_việt',\n",
      "       'chuyên_gia_tài_chính', 'buôn_ma_thuột', 'nguyễn_văn_thắng',\n",
      "       'đinh_trọng_thịnh', 'sunshine_sky_city', 'lê_văn_lương',\n",
      "       'phú_mỹ_hưng', 'nhu_yếu_phẩm', 'akari_city', 'kinh_tế_phục_hồi',\n",
      "       'lê_văn_thành', 'nam_trung_bộ', 'phùng_đức_tiến',\n",
      "       'nguyễn_trí_hiếu', 'điều_tra', 'trần_thanh_hải'], dtype='<U27'), array(['biến_đổi', 'chuyển_biến', 'ký_kết_hợp_tác', 'hợp_tác_chiến_lược',\n",
      "       'chuyển_đổi', 'dịch_chuyển', 'chuyển_dịch', 'đối_tác_chiến_lược',\n",
      "       'hành_lang_pháp_lý', 'nmld_dung_quất', 'phương_pháp_định_giá',\n",
      "       'thị_trường_chứng_khoán', 'nguyễn_công_phú', 'vạn_thịnh_phát',\n",
      "       'vũ_vinh_phú', 'đô_thị_vệ_tinh', 'sở_giao_dịch', 'tổng_công_ty',\n",
      "       'ixora_ho_tram', 'chuyển_nhượng', 'kỹ_thuật_số', 'quản_lý_tài_sản',\n",
      "       'thay_đổi', 'ngay_lập_tức', 'trịnh_văn_quyết', 'phan_văn_mãi',\n",
      "       'tổng_doanh_thu', 'chi_phí_sản_xuất', 'chuyên_gia_tài_chính',\n",
      "       'quản_lý_tài_chính', 'lê_đạt_chí', 'trần_quốc_hoàn', 'di_chuyển',\n",
      "       'trung_chuyển', 'tổng_giá_trị', 'bộ_tài_nguyên_và_môi_trường',\n",
      "       'hòa_lợi_ích', 'đa_dạng_hóa', 'trương_mỹ_lan', 'phan_hậu_',\n",
      "       'tổng_sản_lượng', 'phó_tổng_giám_đốc', 'sửa_đổi', 'địa_chính_trị',\n",
      "       'tổng_kim_ngạch', 'phó_chủ_tịch', 'fpt_long_châu', 'chuyển_tiếp',\n",
      "       'hội_đồng_quản_trị', 'buôn_ma_thuột'], dtype='<U27'), array(['nmld_dung_quất', 'ký_kết_hợp_tác', 'quản_lý_tài_sản',\n",
      "       'hợp_tác_chiến_lược', 'hành_lang_pháp_lý', 'đối_tác_chiến_lược',\n",
      "       'ixora_ho_tram', 'thị_trường_chứng_khoán', 'biến_đổi',\n",
      "       'chi_phí_sản_xuất', 'nguyễn_công_phú', 'vạn_thịnh_phát',\n",
      "       'đô_thị_vệ_tinh', 'vũ_vinh_phú', 'sở_giao_dịch',\n",
      "       'quản_lý_tài_chính', 'trịnh_văn_quyết', 'hòa_lợi_ích',\n",
      "       'phương_pháp_định_giá', 'chuyên_gia_tài_chính', 'ngay_lập_tức',\n",
      "       'phan_văn_mãi', 'khu_công_nghiệp', 'gran_meliá_nha_trang',\n",
      "       'buôn_ma_thuột', 'hiện_đại_hóa', 'lê_văn_lương', 'fpt_long_châu',\n",
      "       'dablewidget_qxedqqel', 'tài_nguyên_và_môi_trường',\n",
      "       'bộ_tài_nguyên_và_môi_trường', 'tổng_doanh_thu',\n",
      "       'hội_đồng_quản_trị', 'bánh_trung_thu', 'thay_đổi',\n",
      "       'trần_quốc_hoàn', 'sửa_đổi', 'bến_xe_buýt', 'trương_mỹ_lan',\n",
      "       'địa_chính_trị', 'hiện_thực_hóa', 'lê_xuân_nghĩa', 'lê_đạt_chí',\n",
      "       'thủy_hải_sản', 'trần_thanh_hải', 'phó_chủ_tịch', 'phan_hậu_',\n",
      "       'tổng_tài_sản', 'kinh_tế_phục_hồi', 'nguyễn_quốc_việt'],\n",
      "      dtype='<U27'), array(['quản_lý_tài_sản', 'bán_phá_giá', 'ký_kết_hợp_tác',\n",
      "       'hợp_tác_chiến_lược', 'nmld_dung_quất', 'hành_lang_pháp_lý',\n",
      "       'đối_tác_chiến_lược', 'thị_trường_chứng_khoán', 'chi_phí_sản_xuất',\n",
      "       'vạn_thịnh_phát', 'quản_lý_tài_chính', 'sở_giao_dịch',\n",
      "       'gran_meliá_nha_trang', 'khu_công_nghiệp', 'chuyên_gia_tài_chính',\n",
      "       'nguyễn_công_phú', 'phương_pháp_định_giá', 'tổng_doanh_thu',\n",
      "       'ixora_ho_tram', 'trịnh_văn_quyết', 'ngay_lập_tức',\n",
      "       'buôn_ma_thuột', 'hội_đồng_quản_trị', 'vũ_vinh_phú',\n",
      "       'đô_thị_vệ_tinh', 'phan_văn_mãi', 'suất_lợi_nhuận', 'hòa_lợi_ích',\n",
      "       'tỉ_phú', 'lê_đạt_chí', 'tổng_tài_sản', 'lê_văn_lương', 'bán_buôn',\n",
      "       'phó_chủ_tịch', 'ban_hành_quyết_định', 'bán_đảo', 'bánh_trung_thu',\n",
      "       'the_grand_manhattan', 'trương_mỹ_lan', 'phan_hậu_', '_triệu',\n",
      "       'fpt_long_châu', 'địa_chính_trị', 'trần_quốc_hoàn', 'bến_xe_buýt',\n",
      "       'dablewidget_qxedqqel', 'tổng_công_ty', 'kinh_tế_phục_hồi',\n",
      "       'câu_lạc_bộ', 'nguyễn_văn_thắng'], dtype='<U27')]\n"
     ]
    }
   ],
   "source": [
    "print(topic_words)"
   ]
  },
  {
   "cell_type": "code",
   "execution_count": 42,
   "metadata": {},
   "outputs": [
    {
     "name": "stdout",
     "output_type": "stream",
     "text": [
      "bộ_chính_trị 0.9599344572875242\n",
      "trịnh_văn_quyết 0.957539031016106\n",
      "nội_địa 0.9496339382769352\n",
      "địa_ốc 0.9375460936810152\n",
      "địa_phương 0.9366343711690924\n",
      "đô_thị_vệ_tinh 0.9348927358680601\n",
      "lê_văn_thành 0.9332557853233945\n",
      "nguyễn_văn_sinh 0.9320362776872096\n",
      "hành_chính 0.931837737085951\n",
      "quyết_liệt 0.9316540769354186\n",
      "chính_trị 0.931178331594967\n",
      "chuyên_gia_tài_chính 0.93090545942294\n",
      "bộ_tài_chính 0.9300157906524678\n",
      "công_nghệ_cao 0.9284974178610577\n",
      "khu_chế_xuất 0.9282380961149425\n",
      "hòa_lợi_ích 0.9274556019295868\n",
      "xác_lập 0.9270957450453188\n",
      "đề_cao 0.9265622173688803\n",
      "câu_lạc_bộ 0.9262648860469171\n",
      "thị_trường_chứng_khoán 0.925999694274391\n"
     ]
    }
   ],
   "source": [
    "words, word_scores = model.similar_words(keywords=[\"địa_chính_trị\"], keywords_neg=[], num_words=20)\n",
    "for word, score in zip(words, word_scores):\n",
    "    print(f\"{word} {score}\")\n"
   ]
  },
  {
   "cell_type": "code",
   "execution_count": 50,
   "metadata": {},
   "outputs": [
    {
     "name": "stdout",
     "output_type": "stream",
     "text": [
      "['ký_kết_hợp_tác phát_triển nông_nghiệp xanh quang_thuần gmt chiều cục bảo_vệ thực_vật bvtv sở nn-ptnt_long_an cùng công_ty tnhh tập_đoàn an_nông đã ký_kết_hợp_tác phát_triển nông_nghiệp nhằm mục_đích hướng_dẫn nông_dân sử_dụng thuốc bảo_vệ thực_vật phân_bón tiết_kiệm an_toàn và hiệu_quả arfasync push k911czvz lễ ký_kết_hợp_tác phát_triển nông_nghiệp nhằm mục_đích hướng_dẫn nông_dân sử_dụng thuốc bảo_vệ thực_vật phân_bón tiết_kiệm an_toàn và hiệu_quả quang thuần theo biên_bản ký_kết_hợp_tác ba bên cùng thống_nhất các nội_dung_hợp_tác trong giai_đoạn tập_huấn sử_dụng phân_bón thuốc bảo_vệ thực_vật an_toàn và hiệu_quả cho cán_bộ kỹ_thuật tại địa_phương đại_lý và người dân trong đó tập_trung ưu_tiên sử_dụng thuốc sinh_học phân_bón hữu_cơ xây_dựng tài_liệu quy_trình phòng_trừ sinh_vật gây hại trên một_số cây_trồng chủ_lực xây_dựng các quy_trình phòng_trừ sinh_vật gây hại trên các cây_trồng chủ_lực cho các vùng trồng trọng_điểm ưu_tiên sử_dụng thuốc sinh_học quy_trình giám_sát vùng trồng gắn với yêu_cầu xuất_khẩu hướng_dẫn nông_dân ghi_chép nhật_ký canh_tác truy_xuất vật_tư nông_nghiệp đã sử_dụng phấn_đấu cán_bộ được tập_huấn chuyên_môn sâu về sử_dụng thuốc bảo_vệ thực_vật phân_bón tiết_kiệm an_toàn và hiệu_quả thông_qua chương_trình hợp_tác tại tỉnh long_an lần này cục_bvtv sở nn-ptnt_long_an cũng như công_ty tnhh tập_đoàn an_nông đặt mục_tiêu hỗ_trợ nâng cao nhận_thức trang_bị cho nông_dân long_an những kiến_thức và kỹ_năng cần_thiết để sử_dụng các sản_phẩm nông_nghiệp đầu_vào trong đó có các sản_phẩm thuốc bvtv đúng cách có trách_nhiệm hiệu_quả từ đó chương_trình hợp_tác này sẽ giúp nâng cao giá_trị nông_sản của tỉnh long_an nói_riêng và vị_thế nông_sản việt_nam nói_chung trong thời_gian tới ông hoàng_hải chủ_tịch hội_đồng thành_viên công_ty tnhh tập_đoàn an_nông chia_sẻ chương_trình này là tiền_đề và là cơ_sở để chúng_tôi tiến tới đầu_tư xây_dựng nhà_máy chế_biến sản_phẩm nước_ép thanh_long ngay tại tỉnh long_an ngay từ bây_giờ chúng_tôi bắt_tay vào tập_huấn cho nông_dân để có được quy_trình sản_xuất an_toàn để phát_triển vùng nguyên_liệu không_chỉ giúp nông_dân sản_xuất nông_sản sạch mà_còn đa_dạng_hóa sản_phẩm mở_rộng thị_trường tiêu_thụ ông phạm_văn_út chủ_tịch ubnd tỉnh long_an cam_kết sẽ hỗ_trợ hết_sức để dự_án thành_công đồng_thời đặt kỳ_vọng sản_phẩm chế_biến từ thanh_long sẽ là loại nông_sản đặc_trưng tiêu_biểu cho địa_phương và mang lại niềm tự_hào cho tỉnh chèn ads giữa bài runinit window.runinit [ ] push function { nếu k chạy ads thì return if typeof _chkprlink undefined _chkprlink return var mutexads < zone id l2srqb > < zone > var content [ data-role content ] if content.length > { var childnodes content [ ] childnodes for i i < childnodes length i { var childnode childnodes [ i ] var isphotoorvideo false if childnode nodename tolowercase div { kiem tra xem co la anh khong ? var type childnode attr class if type indexof _vcsortableinpreviewmode_ > { isphotoorvideo true } } try { if i > childnodes length i < childnodes length isphotoorvideo { if i < childnodes length { childnode after htmltoelement mutexads arfasync push l2srqb } break } } catch e { } } } } function htmltoelement html { var template document createelement template template innerhtml html return template.content firstchild } if pagesettings allowads { function d a b l e _ { if d [ b ] d [ b ] q return d [ b ] function { d [ b ] q d [ b ] q [ ] push arguments } e a createelement l e.async e.charset utf e.src static.dable.io/dist/plugin.min.js _ a getelementsbytagname l [ ] _ parentnode insertbefore e _ } window document dable script dable setservice thanhnien.vn/inarticle dable sendlogonce dable renderwidget dablewidget_qxedqqel } tin liên_quan nâng tầm cho sản_phẩm ocop xây_dựng đề_án từ cách đây gần năm chính_thức triển_khai năm chương_trình “ mỗi làng một sản_phẩm ” ocop đang dần lan tỏa mạnh tại các địa_phương và không ít sản_phẩm chế_biến từ nông_sản đã được nâng tầm để phát_triển giá heo hơi hôm_nay chững lại ở mốc đồng kg khai_mạc hội_chợ du_lịch quốc_tế tp.hcm cục bảo_vệ thực_vật sở nn&ptnt_long_an thuốc bảo_vệ thực_vật cục bvtv phạm_văn_út phòng_trừ bao_gói phân_bón nông_sản lễ ký_kết arfasync push kxgtakp bình_luận gửi bình_luận quan_tâm nhất mới nhất xem thêm bình_luận'\n",
      " 'chính_phủ yêu_cầu giải_quyết kiến_nghị quản_lý chất_lượng thép nhập_khẩu mai_phương maiphuongthanhnien@gmail.com gmt văn_phòng chính_phủ yêu_cầu các bộ ngành xem_xét giải_quyết kiến_nghị của hiệp_hội thép việt_nam về quản_lý chất_lượng thép nhập_khẩu arfasync push k911czvz văn_phòng chính_phủ ngày có công_văn số vpcp-cn gửi bộ công_thương bộ_khoa_học_và_công_nghệ truyền_đạt ý_kiến chỉ_đạo của phó_thủ_tướng chính_phủ trần_hồng_hà về kiến_nghị của hiệp_hội thép việt_nam về xây_dựng quy_định quản_lý chất_lượng thép sản_xuất trong nước và thép nhập_khẩu theo đó phó_thủ_tướng trần_hồng_hà yêu_cầu bộ_công_thương bộ_khoa_học_và_công_nghệ nghiên_cứu giải_quyết theo thẩm_quyền báo_cáo thủ_tướng chính_phủ các vấn_đề vượt thẩm_quyền và kết_quả giải_quyết các kiến_nghị trước giải_quyết kiến_nghị về xây_dựng quy_trình quản_lý chất_lượng thép nhập_khẩu của hiệp_hội thép việt_namngọc_thắngngày_ vừa_qua hiệp_hội thép việt_nam gửi đơn kiến_nghị đến thủ_tướng chính_phủ bộ_công_thương bộ_khoa_học_và_công_nghệ đề_xuất xem_xét xây_dựng hàng_rào kỹ_thuật với thép sản_xuất trong nước thủ_tục kiểm_tra chất_lượng đối_với thép nhập_khẩu vào việt_nam theo hiệp_hội thép việt_nam thép là mặt_hàng có lượng nhập_khẩu lớn lại là ngành công_nghiệp cốt_lõi xương_sống do_vậy chất_lượng thép tác_động đến nhiều ngành kinh_tế khác nhau hiện_nay các quốc_gia trên thế_giới đang tăng_cường áp_dụng triệt_để các hàng_rào kỹ_thuật và biện_pháp phòng_vệ thương_mại để bảo_vệ ngành sản_xuất trong nước các rào_cản kỹ_thuật được áp_dụng rõ_ràng tại các quốc_gia như thái_lan indonesia malaysia hàn_quốc ấn_độ úc anh … cụ_thể các sản_phẩm khi xuất_khẩu sang các quốc_gia này đều yêu_cầu có chứng_nhận tuân_thủ tiêu_chuẩn chất_lượng của quốc_gia nhập_khẩu đối_với các sản_phẩm đáp_ứng các tiêu_chuẩn của nước nhập_khẩu mục_tiêu của các giấy_phép này là ngăn_chặn lượng nhập_khẩu sản_phẩm kém chất_lượng tăng_cường khâu kiểm_soát với thép nhập_khẩu trong khi đó gần_như các sản_phẩm thép nhập_khẩu vào việt_nam đều có thuế nhập_khẩu bằng hơn_nữa các biện_pháp phòng_vệ thương_mại như tự_vệ phôi thép đã bị dỡ bỏ các sản_phẩm thép khác như tôn mạ tôn màu ống thép thép dự_ứng_lực … đều không phải chịu bất_kỳ biện_pháp phòng_vệ thương_mại nào đồng_thời các sản_phẩm thép cũng không nằm trong danh_mục hàng_hóa nhóm theo quyết_định của bộ công_thương nên không thuộc đối_tượng phải kiểm_tra chuyên_ngành về chất_lượng sản_phẩm hàng_hóa do_vậy việc nhập_khẩu các sản_phẩm thép vào việt_nam không có quy_trình kiểm_tra chất_lượng như các quốc_gia khác dẫn đến thép nhập_khẩu đa_dạng về chủng_loại chất_lượng chưa được đánh_giá sự phù_hợp với tiêu_chuẩn việt_nam chưa có sự kiểm_soát về chất_lượng và chủng_loại chèn ads giữa bài runinit window.runinit [ ] push function { nếu k chạy ads thì return if typeof _chkprlink undefined _chkprlink return var mutexads < zone id l2srqb > < zone > var content [ data-role content ] if content.length > { var childnodes content [ ] childnodes for i i < childnodes length i { var childnode childnodes [ i ] var isphotoorvideo false if childnode nodename tolowercase div { kiem tra xem co la anh khong ? var type childnode attr class if type indexof _vcsortableinpreviewmode_ > { isphotoorvideo true } } try { if i > childnodes length i < childnodes length isphotoorvideo { if i < childnodes length { childnode after htmltoelement mutexads arfasync push l2srqb } break } } catch e { } } } } function htmltoelement html { var template document createelement template template innerhtml html return template.content firstchild } if pagesettings allowads { function d a b l e _ { if d [ b ] d [ b ] q return d [ b ] function { d [ b ] q d [ b ] q [ ] push arguments } e a createelement l e.async e.charset utf e.src static.dable.io/dist/plugin.min.js _ a getelementsbytagname l [ ] _ parentnode insertbefore e _ } window document dable script dable setservice thanhnien.vn/inarticle dable sendlogonce dable renderwidget dablewidget_qxedqqel } tin liên_quan nguy_cơ thép ngoại đè thép nội làm thế_nào để ngăn_chặn ? nhiều sản_phẩm thép dù trong nước đã sản_xuất được nhưng thép nhập_khẩu vẫn gia_tăng khiến doanh_nghiệp gặp khó_khăn muôn bề cắt_giảm sản_xuất giảm nhân_viên thép nhập_khẩu kiểm_tra chất_lượng hàng_rào kỹ_thuật quản_lý chất_lượng arfasync push kxgtakp bình_luận gửi bình_luận quan_tâm nhất mới nhất xem thêm bình_luận'\n",
      " 'tiếp_tục đẩy_mạnh kiểm_tra thị_trường trái_phiếu doanh_nghiệp m.phương gmt ngày bộ_trưởng bộ tài_chính hồ_đức_phớc_ký công_văn số btc-vp yêu_cầu tiếp_tục đẩy_mạnh thanh_tra kiểm_tra chấn_chỉnh thị_trường trái_phiếu doanh_nghiệp tpdn arfasync push k911czvz theo đó sau khi bộ_trưởng bộ tài_chính có chỉ_thị số ct-btc chỉ_đạo tăng_cường kiểm_tra giám_sát và chấn_chỉnh hoạt_động phát_hành đầu_tư cung_cấp dịch_vụ trên thị_trường tpdn riêng_lẻ việc phát_hành tpdn có giảm mạnh trong tháng nhưng đã tăng trở_lại trong tháng và tháng tổng khối_lượng phát_hành lũy kế tháng đầu năm đạt tỉ đồng tăng so với cùng kỳ năm qua theo_dõi giám_sát cho thấy xuất_hiện một_số hành_vi bất_thường tiềm_ẩn nhiều rủi_ro cho nhà_đầu_tư và thị_trường_chứng_khoán do_đó bộ_trưởng bộ tài_chính yêu_cầu các đơn_vị chủ_động tăng_cường quản_lý giám_sát việc phát_hành huy_động tpdn riêng_lẻ đẩy_mạnh thanh_tra kiểm_tra các hoạt_động trên thị_trường tpdn chèn ads giữa bài runinit window.runinit [ ] push function { nếu k chạy ads thì return if typeof _chkprlink undefined _chkprlink return var mutexads < zone id l2srqb > < zone > var content [ data-role content ] if content.length > { var childnodes content [ ] childnodes for i i < childnodes length i { var childnode childnodes [ i ] var isphotoorvideo false if childnode nodename tolowercase div { kiem tra xem co la anh khong ? var type childnode attr class if type indexof _vcsortableinpreviewmode_ > { isphotoorvideo true } } try { if i > childnodes length i < childnodes length isphotoorvideo { if i < childnodes length { childnode after htmltoelement mutexads arfasync push l2srqb } break } } catch e { } } } } function htmltoelement html { var template document createelement template template innerhtml html return template.content firstchild } if pagesettings allowads { function d a b l e _ { if d [ b ] d [ b ] q return d [ b ] function { d [ b ] q d [ b ] q [ ] push arguments } e a createelement l e.async e.charset utf e.src static.dable.io/dist/plugin.min.js _ a getelementsbytagname l [ ] _ parentnode insertbefore e _ } window document dable script dable setservice thanhnien.vn/inarticle dable sendlogonce dable renderwidget dablewidget_qxedqqel } tin liên_quan không siết tín_dụng bất_động_sản bất hợp_lý chỉ_đạo này được thủ_tướng phạm_minh_chính nhấn_mạnh khi chủ_trì hội_nghị phát_triển thị_trường bất_động_sản an_toàn lành_mạnh bền_vững được tổ_chức chiều qua bộ tài_chính thanh_tra trọng_tâm các doanh_nghiệp phát_hành trái_phiếu thống_đốc nguyễn_thị_hồng ngăn_chặn thổi giá đầu_cơ bất_động_sản bộ_trưởng tài_chính chỉ_thị số ct-btc tpdn trái_phiếu doanh_nghiệp chứng_khoán phát_hành riêng_lẻ thị_trường chứng_khoán arfasync push kxgtakp bình_luận gửi bình_luận quan_tâm nhất mới nhất xem thêm bình_luận'\n",
      " 'saigontel nhận quyết_định đầu_tư khu_công_nghiệp tân_tập với vốn tỉ đồng mai_phương maiphuongthanhnien@gmail.com gmt sáng ubnd tỉnh long_an trao quyết_định chủ_trương đầu_tư khu_công_nghiệp tân_tập cho công_ty cp đầu_tư phát_triển long_an thành_viên trực_thuộc công_ty cp_công_nghiệp viễn_thông sài_gòn saigontel_group arfasync push k911czvz theo quyết_định này khu_công_nghiệp kcn tân_tập tọa_lạc tại huyện cần_giuộc tỉnh long_an có diện_tích ha sẽ do công_ty cp đầu_tư phát_triển long_an thuộc saigontel làm_chủ đầu_tư với tổng vốn hơn tỉ đồng thời_gian hoạt_động của dự_án là năm kể từ ngày có quyết_định chấp_thuận chủ_trương đầu_tư công_ty cp đầu_tư phát_triển long_an nhận quyết_định đầu_tư kcn tân tập_sgt những năm gần đây tỉnh long_an đã huy_động nguồn_lực để đầu_tư mạnh_mẽ vào các kcn nhằm thu_hút đầu_tư trong và ngoài nước tăng_trưởng công_nghiệp chuyển_dịch cơ_cấu kinh_tế theo hướng công_nghiệp hóa hiện_đại hóa để đạt được điều đó tỉnh đã và đang tập_trung hoàn_thiện hạ_tầng để đẩy_mạnh phát_triển công_nghiệp lấy công_nghiệp làm động_lực cho sự phát_triển kinh_tế xã_hội dự_án kcn_tân_tập hiện có vị_trí chiến_lược cho việc phát_triển kinh_tế và nằm trong vùng kinh_tế trọng_điểm phía nam một trong những điểm nhấn khác_biệt của kcn_tân_tập so với các mô_hình kcn truyền_thống đó chính là việc xây_dựng trung_tâm đổi_mới sáng_tạo tân_tập la_innovation_techno_park với diện_tích ha nằm trong khuôn_viên kcn trung_tâm sẽ là nơi có các chính_sách tốt nhất được đề_xuất và thực_thi cho việc thúc_đẩy khoa_học công_nghệ và đổi_mới sáng_tạo nhằm quy_tụ các nhà_khoa_học đội_ngũ trí_thức và các tài_năng trẻ về đây làm_việc sinh_sống thu_hút các hãng công_nghệ công_ty lớn là các ‘ con sếu đầu_đàn ’ chọn làm nơi làm_việc đặt nhà_máy sản_xuất kcn_tân_tập dự_kiến sẽ thu_hút hơn tỉ usd nguồn vốn fdi từ các nhà_đầu_tư các tập_đoàn lớn và uy_tín đặc_biệt trong lĩnh_vực điện_tử và cơ_khí chính_xác đồng_thời các nhà_đầu_tư này cũng là vệ_tinh cho các tập_đoàn lớn trên thế_giới khi đi vào hoạt_động ngoài gia_tăng giá_trị sản_xuất công_nghiệp kim_ngạch xuất_khẩu nâng cao hiệu_quả sử_dụng đất chuyển hóa những vùng nông_thôn kém phát_triển thành những khu_công_nghiệp mới dự_án còn góp_phần thực_hiện thắng_lợi nhiệm_vụ công_nghiệp hóa hiện_đại tạo ra một trung_tâm tăng_trưởng mới với mục_đích phát_triển kinh_tế nâng cao năng_lực cạnh_tranh vùng và quốc_gia cho tỉnh long_an chèn ads giữa bài runinit window.runinit [ ] push function { nếu k chạy ads thì return if typeof _chkprlink undefined _chkprlink return var mutexads < zone id l2srqb > < zone > var content [ data-role content ] if content.length > { var childnodes content [ ] childnodes for i i < childnodes length i { var childnode childnodes [ i ] var isphotoorvideo false if childnode nodename tolowercase div { kiem tra xem co la anh khong ? var type childnode attr class if type indexof _vcsortableinpreviewmode_ > { isphotoorvideo true } } try { if i > childnodes length i < childnodes length isphotoorvideo { if i < childnodes length { childnode after htmltoelement mutexads arfasync push l2srqb } break } } catch e { } } } } function htmltoelement html { var template document createelement template template innerhtml html return template.content firstchild } if pagesettings allowads { function d a b l e _ { if d [ b ] d [ b ] q return d [ b ] function { d [ b ] q d [ b ] q [ ] push arguments } e a createelement l e.async e.charset utf e.src static.dable.io/dist/plugin.min.js _ a getelementsbytagname l [ ] _ parentnode insertbefore e _ } window document dable script dable setservice thanhnien.vn/inarticle dable sendlogonce dable renderwidget dablewidget_qxedqqel } tin liên_quan saigontel hỗ_trợ lập_quy_hoạch đồng_nai thời_kỳ – tầm nhìn đến saigontel là đơn_vị tài_trợ kinh_phí lập_quy_hoạch tỉnh đồng_nai và sẽ giúp tỉnh sớm hoàn_thành tiến_độ theo nhiệm_vụ được giao long_an_id giúp cư_dân dễ tìm việc_làm thuê nhà mua đồ giảm_giá saigontel rót hơn tỉ đồng lập khu_công_nghiệp tại long_an cơ_khí chính_xác khu_công_nghiệp vùng kinh_tế trọng_điểm phía nam kcn_tân tập_công_nghiệp_hoá cần_giuộc saigontel arfasync push kxgtakp bình_luận gửi bình_luận quan_tâm nhất mới nhất xem thêm bình_luận'\n",
      " 'yêu_cầu xác_thực thông_tin cá_nhân người tham_gia giao_dịch chứng_khoán trước mai_phương maiphuongthanhnien@gmail.com gmt phó_thủ_tướng chính_phủ trần_lưu_quang yêu_cầu nhanh_chóng xác_thực thông_tin cá_nhân người tham_gia giao_dịch chứng_khoán arfasync push k911czvz văn_phòng chính_phủ ngày truyền_đạt chỉ_đạo của phó_thủ_tướng trần_lưu_quang yêu_cầu các bộ ngành địa_phương khẩn_trương rà_soát triển_khai các nhiệm_vụ chậm tiến_độ theo đánh_giá của bộ công_an chịu trách_nhiệm trước thủ_tướng chính_phủ đối_với các nhiệm_vụ không bảo_đảm lộ_trình triển_khai_đề_án đề_án phát_triển ứng_dụng dữ_liệu về dân_cư định_danh và xác_thực điện_tử phục_vụ chuyển_đổi số quốc_gia giai_đoạn trong đó yêu_cầu thực_hiện xác_thực thông_tin cá_nhân người giao_dịch chứng_khoán thông_tin người tham_gia giao_dịch chứng_khoán phải được xác_thực với cơ_sở dữ_liệu quốc_gia về dân cưngọc thắngcụ_thể giao bộ tài_chính chỉ_đạo ủy_ban chứng_khoán nhà_nước sở_giao_dịch chứng_khoán và tổng_công_ty lưu_ký và bù_trừ chứng_khoán việt_nam kết_nối cơ_sở dữ_liệu quốc_gia về dân_cư hệ_thống định_danh và xác_thực điện_tử đồng_thời thực_hiện rà_soát xác_thực làm sạch dữ_liệu thông_tin về người tham_gia giao_dịch chứng_khoán trong đó có thông_tin người_thân tham_gia giao_dịch chứng_khoán báo_cáo thủ_tướng chính_phủ kết_quả thực_hiện trước ngày theo tổng_công_ty lưu_ký và bù_trừ chứng_khoán việt_nam đến hết tháng có hơn triệu tài_khoản giao_dịch chứng_khoán của nhà_đầu_tư trong nước trong đó bao_gồm triệu tài_khoản nhà đầu_tư cá_nhân và tài_khoản nhà_đầu_tư tổ_chức bên_cạnh đó có tài_khoản nhà_đầu_tư nước_ngoài gồm tài_khoản cá_nhân và tài_khoản nhà_đầu_tư tổ_chức phó_thủ_tướng chính_phủ trần_lưu_quang cũng yêu_cầu bộ công_an chủ_trì cùng các bộ thông_tin và truyền_thông xây_dựng tài_nguyên_và_môi_trường nghiên_cứu bổ_sung thông_tin địa_chỉ_số quốc_gia vào cơ_sở dữ_liệu quốc_gia về dân_cư tích_hợp tài_khoản định_danh điện_tử cá_nhân tổ_chức doanh_nghiệp với sàn giao_dịch bất_động_sản quốc_gia hệ_thống cơ_sở dữ_liệu đất_đai quốc_gia ngân_hàng bộ y_tế hướng_dẫn bệnh_viện và người dân sử_dụng sổ sức_khỏe điện_tử trên vneid văn_phòng chính_phủ chủ_trì phối_hợp với tổ công_tác triển_khai_đề_án đôn_đốc các bộ công_an tư_pháp y_tế lao_động thương_binh_và_xã_hội bảo_hiểm_xã_hội việt_nam và các địa_phương giải_quyết các khó_khăn vướng_mắc trong quá_trình thực_hiện nhóm dịch_vụ công_liên_thông bảo_đảm vận_hành thông_suốt hiệu_quả báo_cáo thủ_tướng chính_phủ kết_quả thực_hiện trước ngày chèn ads giữa bài runinit window.runinit [ ] push function { nếu k chạy ads thì return if typeof _chkprlink undefined _chkprlink return var mutexads < zone id l2srqb > < zone > var content [ data-role content ] if content.length > { var childnodes content [ ] childnodes for i i < childnodes length i { var childnode childnodes [ i ] var isphotoorvideo false if childnode nodename tolowercase div { kiem tra xem co la anh khong ? var type childnode attr class if type indexof _vcsortableinpreviewmode_ > { isphotoorvideo true } } try { if i > childnodes length i < childnodes length isphotoorvideo { if i < childnodes length { childnode after htmltoelement mutexads arfasync push l2srqb } break } } catch e { } } } } function htmltoelement html { var template document createelement template template innerhtml html return template.content firstchild } if pagesettings allowads { function d a b l e _ { if d [ b ] d [ b ] q return d [ b ] function { d [ b ] q d [ b ] q [ ] push arguments } e a createelement l e.async e.charset utf e.src static.dable.io/dist/plugin.min.js _ a getelementsbytagname l [ ] _ parentnode insertbefore e _ } window document dable script dable setservice thanhnien.vn/inarticle dable sendlogonce dable renderwidget dablewidget_qxedqqel } tin liên_quan việc giao_dịch các đồng_tiền ảo pi usdt busd._ là chưa được phép ủy_ban chứng_khoán nhà_nước vừa đưa ra cảnh_báo về việc giao_dịch các đồng_tiền mã_hóa tiền ảo như đồng_pi usdt busd thông_tin cá_nhân_chứng_khoán nhà_đầu_tư xác_thực điện_tử arfasync push kxgtakp bình_luận gửi bình_luận quan_tâm nhất mới nhất xem thêm bình_luận'] [0.54254474 0.54065399 0.51876151 0.51670399 0.51483958] [6561 2081 7771 4593 1055]\n"
     ]
    }
   ],
   "source": [
    "documents, document_scores, document_ids = model.search_documents_by_keywords(keywords=[\"fpt_long_châu\", \"thị_trường_chứng_khoán\"], num_docs=5)\n",
    "\n",
    "print(documents, document_scores, document_ids)\n"
   ]
  },
  {
   "cell_type": "code",
   "execution_count": 44,
   "metadata": {},
   "outputs": [],
   "source": [
    "doc = []\n",
    "\n",
    "with open('./cached/X_2.model', 'r') as file:\n",
    "    doc = json.load(file)"
   ]
  },
  {
   "cell_type": "code",
   "execution_count": 45,
   "metadata": {},
   "outputs": [
    {
     "name": "stdout",
     "output_type": "stream",
     "text": [
      "0\n"
     ]
    }
   ],
   "source": [
    "# check doc and find element have empty string\n",
    "\n",
    "count = 0\n",
    "for i in range(len(doc)):\n",
    "    if doc[i] == \"\":\n",
    "        count += 1\n",
    "        # print(i)\n",
    "        # print(doc[i])\n",
    "        # print(\"-----------\")\n",
    "        # print()\n",
    "print(count)"
   ]
  },
  {
   "cell_type": "code",
   "execution_count": 46,
   "metadata": {},
   "outputs": [
    {
     "name": "stdout",
     "output_type": "stream",
     "text": [
      "8555 5 5\n",
      "doc ne: giá xăng dầu hôm_nay đã giảm sao giá hàng_hóa chưa xuống ? nguyên_nga ngngathanhnien@gmail.com gmt giá xăng trong nước giảm mạnh giá hàng_hóa và cước_vận_tải chưa giảm tương_xứng _phó_thủ_tướng vừa có chỉ_đạo các bộ ngành quản_lý điều_hành rà_soát giá_cả hàng_hóa và cước_vận_tải arfasync push k911czvz cụ_thể phó_thủ_tướng lê_minh_khái vừa có văn_bản yêu_cầu các bộ liên_quan ubnd các tỉnh thành_phố trực_thuộc trung_ương nghiên_cứu vấn_đề quản_lý điều_hành giá trong đó yêu_cầu bộ tài_chính tăng_cường quản_lý kê_khai giá đặc_biệt là việc theo_dõi cập_nhật thông_tin giá cước_vận_tải giá xăng_dầu bộ gtvt tăng_cường kiểm_tra rà_soát giá dịch_vụ của các loại_hình vận_tải đường_bộ đường_biển hàng_không và giá cước_vận_tải_biển quốc_tế nội_địa trường_hợp có_thể giảm_giá thì yêu_cầu đơn_vị thực_hiện kê_khai giảm_giá kịp_thời xăng giảm hơn trong gần tháng qua nhật thịnh sau khi lập kỷ_lục vào ngày giá xăng_dầu liên_tục giảm mạnh trong thời_gian qua xăng ron iii từ mức đồng lít nay giảm đồng xuống còn đồng xăng e giảm đồng dầu_diesel cũng giảm hơn tuy_nhiên giá cước_vận_tải và giá hàng_hóa đến nay chưa được điều_chỉnh giảm theo giá xăng trên thế_giới giá dầu_thô sau khi tăng vọt gần usd vào phiên trước sáng nay giảm nhẹ nhưng dầu brent_chuẩn toàn_cầu vẫn neo trên mốc usd thùng lúc giờ sáng dầu_thô ngọt nhẹ wti lùi cent giao_dịch ngưỡng usd thùng dầu brent mất cent về usd thùng kết_thúc phiên khuya giá dầu_thô brent tăng lên usd thùng trong khi giá dầu_wti của mỹ tăng lên usd._thị_trường đang ngóng_chờ tin về sản_lượng của tổ_chức các nước xuất_khẩu dầu_mỏ và đồng_minh opec được quyết vào cuộc họp hôm_nay các hãng tin dự_báo opec có_thể cắt từ triệu thùng mỗi ngày chưa rõ chính_xác bao_nhiêu song theo các nhà phân_tích sẽ có đợt cắt_giảm sản_lượng do opec muốn kiểm_soát và giữ giá dầu để không giảm mạnh nếu quyết_định này được công_bố chính_thức đây sẽ là mức cắt_giảm mạnh nhất kể từ khi đại_dịch covid bùng_phát khiến giá dầu_thô sụt giảm hiện mỹ đang kêu_gọi opec không nên cắt_giảm sản_lượng dầu bởi điều này sẽ dẫn đến việc giá dầu tăng cao trở_lại ngân_hàng goldman_sachs cho rằng việc giảm mục_tiêu sản_lượng của opec có_thể coi là động_thái ngăn_chặn đà giảm của giá dầu trong thời_gian gần đây giá dầu_thô thế_giới đã tăng lên gần usd thùng vào tháng năm nay sau khi xảy ra xung_đột ở ukraine và đã giảm sau đó xuống còn khoảng usd thùng do lo_ngại suy_thoái kinh_tế trong những tháng gần đây opec cũng không đạt được mức tăng sản_lượng theo kế_hoạch thiếu khoảng triệu thùng ngày trong tháng chèn ads giữa bài runinit window.runinit [ ] push function { nếu k chạy ads thì return if typeof _chkprlink undefined _chkprlink return var mutexads < zone id l2srqb > < zone > var content [ data-role content ] if content.length > { var childnodes content [ ] childnodes for i i < childnodes length i { var childnode childnodes [ i ] var isphotoorvideo false if childnode nodename tolowercase div { kiem tra xem co la anh khong ? var type childnode attr class if type indexof _vcsortableinpreviewmode_ > { isphotoorvideo true } } try { if i > childnodes length i < childnodes length isphotoorvideo { if i < childnodes length { childnode after htmltoelement mutexads arfasync push l2srqb } break } } catch e { } } } } function htmltoelement html { var template document createelement template template innerhtml html return template.content firstchild } if pagesettings allowads { function d a b l e _ { if d [ b ] d [ b ] q return d [ b ] function { d [ b ] q d [ b ] q [ ] push arguments } e a createelement l e.async e.charset utf e.src static.dable.io/dist/plugin.min.js _ a getelementsbytagname l [ ] _ parentnode insertbefore e _ } window document dable script dable setservice thanhnien.vn/inarticle dable sendlogonce dable renderwidget dablewidget_qxedqqel } tin liên_quan bộ công_thương kiên_quyết không để thiếu nguồn cung xăng dầu đó là chỉ_đạo của bộ công_thương trong báo_cáo về tình_hình sản_xuất công_nghiệp và hoạt_động thương_mại tháng của năm và giải_pháp tháng cuối năm liên_quan đến nguồn cung xăng dầu giá xăng dầu hôm_nay tăng mạnh usd thùng giá xăng dầu giảm về mức tương_đương tháng xăng e ngân_hàng goldman_sachs giá xăng dầu_dầu_thô brent dầu wti_xăng_ron iii dầu_brent_giá dầu_thô opec lê_minh_khái giá cước arfasync push kxgtakp bình_luận gửi bình_luận quan_tâm nhất mới nhất xem thêm bình_luận\n"
     ]
    }
   ],
   "source": [
    "print(len(doc), len(document_scores), len(document_ids))\n",
    "print('doc ne:', doc[6000])"
   ]
  },
  {
   "cell_type": "code",
   "execution_count": null,
   "metadata": {},
   "outputs": [],
   "source": []
  },
  {
   "cell_type": "code",
   "execution_count": 47,
   "metadata": {},
   "outputs": [
    {
     "name": "stdout",
     "output_type": "stream",
     "text": [
      "Document: 6561, Score: 0.5425447405963923\n",
      "-----------\n",
      "ký_kết_hợp_tác phát_triển nông_nghiệp xanh quang_thuần gmt chiều cục bảo_vệ thực_vật bvtv sở nn-ptnt_long_an cùng công_ty tnhh tập_đoàn an_nông đã ký_kết_hợp_tác phát_triển nông_nghiệp nhằm mục_đích hướng_dẫn nông_dân sử_dụng thuốc bảo_vệ thực_vật phân_bón tiết_kiệm an_toàn và hiệu_quả arfasync push k911czvz lễ ký_kết_hợp_tác phát_triển nông_nghiệp nhằm mục_đích hướng_dẫn nông_dân sử_dụng thuốc bảo_vệ thực_vật phân_bón tiết_kiệm an_toàn và hiệu_quả quang thuần theo biên_bản ký_kết_hợp_tác ba bên cùng thống_nhất các nội_dung_hợp_tác trong giai_đoạn tập_huấn sử_dụng phân_bón thuốc bảo_vệ thực_vật an_toàn và hiệu_quả cho cán_bộ kỹ_thuật tại địa_phương đại_lý và người dân trong đó tập_trung ưu_tiên sử_dụng thuốc sinh_học phân_bón hữu_cơ xây_dựng tài_liệu quy_trình phòng_trừ sinh_vật gây hại trên một_số cây_trồng chủ_lực xây_dựng các quy_trình phòng_trừ sinh_vật gây hại trên các cây_trồng chủ_lực cho các vùng trồng trọng_điểm ưu_tiên sử_dụng thuốc sinh_học quy_trình giám_sát vùng trồng gắn với yêu_cầu xuất_khẩu hướng_dẫn nông_dân ghi_chép nhật_ký canh_tác truy_xuất vật_tư nông_nghiệp đã sử_dụng phấn_đấu cán_bộ được tập_huấn chuyên_môn sâu về sử_dụng thuốc bảo_vệ thực_vật phân_bón tiết_kiệm an_toàn và hiệu_quả thông_qua chương_trình hợp_tác tại tỉnh long_an lần này cục_bvtv sở nn-ptnt_long_an cũng như công_ty tnhh tập_đoàn an_nông đặt mục_tiêu hỗ_trợ nâng cao nhận_thức trang_bị cho nông_dân long_an những kiến_thức và kỹ_năng cần_thiết để sử_dụng các sản_phẩm nông_nghiệp đầu_vào trong đó có các sản_phẩm thuốc bvtv đúng cách có trách_nhiệm hiệu_quả từ đó chương_trình hợp_tác này sẽ giúp nâng cao giá_trị nông_sản của tỉnh long_an nói_riêng và vị_thế nông_sản việt_nam nói_chung trong thời_gian tới ông hoàng_hải chủ_tịch hội_đồng thành_viên công_ty tnhh tập_đoàn an_nông chia_sẻ chương_trình này là tiền_đề và là cơ_sở để chúng_tôi tiến tới đầu_tư xây_dựng nhà_máy chế_biến sản_phẩm nước_ép thanh_long ngay tại tỉnh long_an ngay từ bây_giờ chúng_tôi bắt_tay vào tập_huấn cho nông_dân để có được quy_trình sản_xuất an_toàn để phát_triển vùng nguyên_liệu không_chỉ giúp nông_dân sản_xuất nông_sản sạch mà_còn đa_dạng_hóa sản_phẩm mở_rộng thị_trường tiêu_thụ ông phạm_văn_út chủ_tịch ubnd tỉnh long_an cam_kết sẽ hỗ_trợ hết_sức để dự_án thành_công đồng_thời đặt kỳ_vọng sản_phẩm chế_biến từ thanh_long sẽ là loại nông_sản đặc_trưng tiêu_biểu cho địa_phương và mang lại niềm tự_hào cho tỉnh chèn ads giữa bài runinit window.runinit [ ] push function { nếu k chạy ads thì return if typeof _chkprlink undefined _chkprlink return var mutexads < zone id l2srqb > < zone > var content [ data-role content ] if content.length > { var childnodes content [ ] childnodes for i i < childnodes length i { var childnode childnodes [ i ] var isphotoorvideo false if childnode nodename tolowercase div { kiem tra xem co la anh khong ? var type childnode attr class if type indexof _vcsortableinpreviewmode_ > { isphotoorvideo true } } try { if i > childnodes length i < childnodes length isphotoorvideo { if i < childnodes length { childnode after htmltoelement mutexads arfasync push l2srqb } break } } catch e { } } } } function htmltoelement html { var template document createelement template template innerhtml html return template.content firstchild } if pagesettings allowads { function d a b l e _ { if d [ b ] d [ b ] q return d [ b ] function { d [ b ] q d [ b ] q [ ] push arguments } e a createelement l e.async e.charset utf e.src static.dable.io/dist/plugin.min.js _ a getelementsbytagname l [ ] _ parentnode insertbefore e _ } window document dable script dable setservice thanhnien.vn/inarticle dable sendlogonce dable renderwidget dablewidget_qxedqqel } tin liên_quan nâng tầm cho sản_phẩm ocop xây_dựng đề_án từ cách đây gần năm chính_thức triển_khai năm chương_trình “ mỗi làng một sản_phẩm ” ocop đang dần lan tỏa mạnh tại các địa_phương và không ít sản_phẩm chế_biến từ nông_sản đã được nâng tầm để phát_triển giá heo hơi hôm_nay chững lại ở mốc đồng kg khai_mạc hội_chợ du_lịch quốc_tế tp.hcm cục bảo_vệ thực_vật sở nn&ptnt_long_an thuốc bảo_vệ thực_vật cục bvtv phạm_văn_út phòng_trừ bao_gói phân_bón nông_sản lễ ký_kết arfasync push kxgtakp bình_luận gửi bình_luận quan_tâm nhất mới nhất xem thêm bình_luận\n",
      "-----------\n",
      "\n",
      "Document: 2081, Score: 0.5406539862197641\n",
      "-----------\n",
      "chính_phủ yêu_cầu giải_quyết kiến_nghị quản_lý chất_lượng thép nhập_khẩu mai_phương maiphuongthanhnien@gmail.com gmt văn_phòng chính_phủ yêu_cầu các bộ ngành xem_xét giải_quyết kiến_nghị của hiệp_hội thép việt_nam về quản_lý chất_lượng thép nhập_khẩu arfasync push k911czvz văn_phòng chính_phủ ngày có công_văn số vpcp-cn gửi bộ công_thương bộ_khoa_học_và_công_nghệ truyền_đạt ý_kiến chỉ_đạo của phó_thủ_tướng chính_phủ trần_hồng_hà về kiến_nghị của hiệp_hội thép việt_nam về xây_dựng quy_định quản_lý chất_lượng thép sản_xuất trong nước và thép nhập_khẩu theo đó phó_thủ_tướng trần_hồng_hà yêu_cầu bộ_công_thương bộ_khoa_học_và_công_nghệ nghiên_cứu giải_quyết theo thẩm_quyền báo_cáo thủ_tướng chính_phủ các vấn_đề vượt thẩm_quyền và kết_quả giải_quyết các kiến_nghị trước giải_quyết kiến_nghị về xây_dựng quy_trình quản_lý chất_lượng thép nhập_khẩu của hiệp_hội thép việt_namngọc_thắngngày_ vừa_qua hiệp_hội thép việt_nam gửi đơn kiến_nghị đến thủ_tướng chính_phủ bộ_công_thương bộ_khoa_học_và_công_nghệ đề_xuất xem_xét xây_dựng hàng_rào kỹ_thuật với thép sản_xuất trong nước thủ_tục kiểm_tra chất_lượng đối_với thép nhập_khẩu vào việt_nam theo hiệp_hội thép việt_nam thép là mặt_hàng có lượng nhập_khẩu lớn lại là ngành công_nghiệp cốt_lõi xương_sống do_vậy chất_lượng thép tác_động đến nhiều ngành kinh_tế khác nhau hiện_nay các quốc_gia trên thế_giới đang tăng_cường áp_dụng triệt_để các hàng_rào kỹ_thuật và biện_pháp phòng_vệ thương_mại để bảo_vệ ngành sản_xuất trong nước các rào_cản kỹ_thuật được áp_dụng rõ_ràng tại các quốc_gia như thái_lan indonesia malaysia hàn_quốc ấn_độ úc anh … cụ_thể các sản_phẩm khi xuất_khẩu sang các quốc_gia này đều yêu_cầu có chứng_nhận tuân_thủ tiêu_chuẩn chất_lượng của quốc_gia nhập_khẩu đối_với các sản_phẩm đáp_ứng các tiêu_chuẩn của nước nhập_khẩu mục_tiêu của các giấy_phép này là ngăn_chặn lượng nhập_khẩu sản_phẩm kém chất_lượng tăng_cường khâu kiểm_soát với thép nhập_khẩu trong khi đó gần_như các sản_phẩm thép nhập_khẩu vào việt_nam đều có thuế nhập_khẩu bằng hơn_nữa các biện_pháp phòng_vệ thương_mại như tự_vệ phôi thép đã bị dỡ bỏ các sản_phẩm thép khác như tôn mạ tôn màu ống thép thép dự_ứng_lực … đều không phải chịu bất_kỳ biện_pháp phòng_vệ thương_mại nào đồng_thời các sản_phẩm thép cũng không nằm trong danh_mục hàng_hóa nhóm theo quyết_định của bộ công_thương nên không thuộc đối_tượng phải kiểm_tra chuyên_ngành về chất_lượng sản_phẩm hàng_hóa do_vậy việc nhập_khẩu các sản_phẩm thép vào việt_nam không có quy_trình kiểm_tra chất_lượng như các quốc_gia khác dẫn đến thép nhập_khẩu đa_dạng về chủng_loại chất_lượng chưa được đánh_giá sự phù_hợp với tiêu_chuẩn việt_nam chưa có sự kiểm_soát về chất_lượng và chủng_loại chèn ads giữa bài runinit window.runinit [ ] push function { nếu k chạy ads thì return if typeof _chkprlink undefined _chkprlink return var mutexads < zone id l2srqb > < zone > var content [ data-role content ] if content.length > { var childnodes content [ ] childnodes for i i < childnodes length i { var childnode childnodes [ i ] var isphotoorvideo false if childnode nodename tolowercase div { kiem tra xem co la anh khong ? var type childnode attr class if type indexof _vcsortableinpreviewmode_ > { isphotoorvideo true } } try { if i > childnodes length i < childnodes length isphotoorvideo { if i < childnodes length { childnode after htmltoelement mutexads arfasync push l2srqb } break } } catch e { } } } } function htmltoelement html { var template document createelement template template innerhtml html return template.content firstchild } if pagesettings allowads { function d a b l e _ { if d [ b ] d [ b ] q return d [ b ] function { d [ b ] q d [ b ] q [ ] push arguments } e a createelement l e.async e.charset utf e.src static.dable.io/dist/plugin.min.js _ a getelementsbytagname l [ ] _ parentnode insertbefore e _ } window document dable script dable setservice thanhnien.vn/inarticle dable sendlogonce dable renderwidget dablewidget_qxedqqel } tin liên_quan nguy_cơ thép ngoại đè thép nội làm thế_nào để ngăn_chặn ? nhiều sản_phẩm thép dù trong nước đã sản_xuất được nhưng thép nhập_khẩu vẫn gia_tăng khiến doanh_nghiệp gặp khó_khăn muôn bề cắt_giảm sản_xuất giảm nhân_viên thép nhập_khẩu kiểm_tra chất_lượng hàng_rào kỹ_thuật quản_lý chất_lượng arfasync push kxgtakp bình_luận gửi bình_luận quan_tâm nhất mới nhất xem thêm bình_luận\n",
      "-----------\n",
      "\n",
      "Document: 7771, Score: 0.5187615088190579\n",
      "-----------\n",
      "tiếp_tục đẩy_mạnh kiểm_tra thị_trường trái_phiếu doanh_nghiệp m.phương gmt ngày bộ_trưởng bộ tài_chính hồ_đức_phớc_ký công_văn số btc-vp yêu_cầu tiếp_tục đẩy_mạnh thanh_tra kiểm_tra chấn_chỉnh thị_trường trái_phiếu doanh_nghiệp tpdn arfasync push k911czvz theo đó sau khi bộ_trưởng bộ tài_chính có chỉ_thị số ct-btc chỉ_đạo tăng_cường kiểm_tra giám_sát và chấn_chỉnh hoạt_động phát_hành đầu_tư cung_cấp dịch_vụ trên thị_trường tpdn riêng_lẻ việc phát_hành tpdn có giảm mạnh trong tháng nhưng đã tăng trở_lại trong tháng và tháng tổng khối_lượng phát_hành lũy kế tháng đầu năm đạt tỉ đồng tăng so với cùng kỳ năm qua theo_dõi giám_sát cho thấy xuất_hiện một_số hành_vi bất_thường tiềm_ẩn nhiều rủi_ro cho nhà_đầu_tư và thị_trường_chứng_khoán do_đó bộ_trưởng bộ tài_chính yêu_cầu các đơn_vị chủ_động tăng_cường quản_lý giám_sát việc phát_hành huy_động tpdn riêng_lẻ đẩy_mạnh thanh_tra kiểm_tra các hoạt_động trên thị_trường tpdn chèn ads giữa bài runinit window.runinit [ ] push function { nếu k chạy ads thì return if typeof _chkprlink undefined _chkprlink return var mutexads < zone id l2srqb > < zone > var content [ data-role content ] if content.length > { var childnodes content [ ] childnodes for i i < childnodes length i { var childnode childnodes [ i ] var isphotoorvideo false if childnode nodename tolowercase div { kiem tra xem co la anh khong ? var type childnode attr class if type indexof _vcsortableinpreviewmode_ > { isphotoorvideo true } } try { if i > childnodes length i < childnodes length isphotoorvideo { if i < childnodes length { childnode after htmltoelement mutexads arfasync push l2srqb } break } } catch e { } } } } function htmltoelement html { var template document createelement template template innerhtml html return template.content firstchild } if pagesettings allowads { function d a b l e _ { if d [ b ] d [ b ] q return d [ b ] function { d [ b ] q d [ b ] q [ ] push arguments } e a createelement l e.async e.charset utf e.src static.dable.io/dist/plugin.min.js _ a getelementsbytagname l [ ] _ parentnode insertbefore e _ } window document dable script dable setservice thanhnien.vn/inarticle dable sendlogonce dable renderwidget dablewidget_qxedqqel } tin liên_quan không siết tín_dụng bất_động_sản bất hợp_lý chỉ_đạo này được thủ_tướng phạm_minh_chính nhấn_mạnh khi chủ_trì hội_nghị phát_triển thị_trường bất_động_sản an_toàn lành_mạnh bền_vững được tổ_chức chiều qua bộ tài_chính thanh_tra trọng_tâm các doanh_nghiệp phát_hành trái_phiếu thống_đốc nguyễn_thị_hồng ngăn_chặn thổi giá đầu_cơ bất_động_sản bộ_trưởng tài_chính chỉ_thị số ct-btc tpdn trái_phiếu doanh_nghiệp chứng_khoán phát_hành riêng_lẻ thị_trường chứng_khoán arfasync push kxgtakp bình_luận gửi bình_luận quan_tâm nhất mới nhất xem thêm bình_luận\n",
      "-----------\n",
      "\n",
      "Document: 4593, Score: 0.5167039896355915\n",
      "-----------\n",
      "saigontel nhận quyết_định đầu_tư khu_công_nghiệp tân_tập với vốn tỉ đồng mai_phương maiphuongthanhnien@gmail.com gmt sáng ubnd tỉnh long_an trao quyết_định chủ_trương đầu_tư khu_công_nghiệp tân_tập cho công_ty cp đầu_tư phát_triển long_an thành_viên trực_thuộc công_ty cp_công_nghiệp viễn_thông sài_gòn saigontel_group arfasync push k911czvz theo quyết_định này khu_công_nghiệp kcn tân_tập tọa_lạc tại huyện cần_giuộc tỉnh long_an có diện_tích ha sẽ do công_ty cp đầu_tư phát_triển long_an thuộc saigontel làm_chủ đầu_tư với tổng vốn hơn tỉ đồng thời_gian hoạt_động của dự_án là năm kể từ ngày có quyết_định chấp_thuận chủ_trương đầu_tư công_ty cp đầu_tư phát_triển long_an nhận quyết_định đầu_tư kcn tân tập_sgt những năm gần đây tỉnh long_an đã huy_động nguồn_lực để đầu_tư mạnh_mẽ vào các kcn nhằm thu_hút đầu_tư trong và ngoài nước tăng_trưởng công_nghiệp chuyển_dịch cơ_cấu kinh_tế theo hướng công_nghiệp hóa hiện_đại hóa để đạt được điều đó tỉnh đã và đang tập_trung hoàn_thiện hạ_tầng để đẩy_mạnh phát_triển công_nghiệp lấy công_nghiệp làm động_lực cho sự phát_triển kinh_tế xã_hội dự_án kcn_tân_tập hiện có vị_trí chiến_lược cho việc phát_triển kinh_tế và nằm trong vùng kinh_tế trọng_điểm phía nam một trong những điểm nhấn khác_biệt của kcn_tân_tập so với các mô_hình kcn truyền_thống đó chính là việc xây_dựng trung_tâm đổi_mới sáng_tạo tân_tập la_innovation_techno_park với diện_tích ha nằm trong khuôn_viên kcn trung_tâm sẽ là nơi có các chính_sách tốt nhất được đề_xuất và thực_thi cho việc thúc_đẩy khoa_học công_nghệ và đổi_mới sáng_tạo nhằm quy_tụ các nhà_khoa_học đội_ngũ trí_thức và các tài_năng trẻ về đây làm_việc sinh_sống thu_hút các hãng công_nghệ công_ty lớn là các ‘ con sếu đầu_đàn ’ chọn làm nơi làm_việc đặt nhà_máy sản_xuất kcn_tân_tập dự_kiến sẽ thu_hút hơn tỉ usd nguồn vốn fdi từ các nhà_đầu_tư các tập_đoàn lớn và uy_tín đặc_biệt trong lĩnh_vực điện_tử và cơ_khí chính_xác đồng_thời các nhà_đầu_tư này cũng là vệ_tinh cho các tập_đoàn lớn trên thế_giới khi đi vào hoạt_động ngoài gia_tăng giá_trị sản_xuất công_nghiệp kim_ngạch xuất_khẩu nâng cao hiệu_quả sử_dụng đất chuyển hóa những vùng nông_thôn kém phát_triển thành những khu_công_nghiệp mới dự_án còn góp_phần thực_hiện thắng_lợi nhiệm_vụ công_nghiệp hóa hiện_đại tạo ra một trung_tâm tăng_trưởng mới với mục_đích phát_triển kinh_tế nâng cao năng_lực cạnh_tranh vùng và quốc_gia cho tỉnh long_an chèn ads giữa bài runinit window.runinit [ ] push function { nếu k chạy ads thì return if typeof _chkprlink undefined _chkprlink return var mutexads < zone id l2srqb > < zone > var content [ data-role content ] if content.length > { var childnodes content [ ] childnodes for i i < childnodes length i { var childnode childnodes [ i ] var isphotoorvideo false if childnode nodename tolowercase div { kiem tra xem co la anh khong ? var type childnode attr class if type indexof _vcsortableinpreviewmode_ > { isphotoorvideo true } } try { if i > childnodes length i < childnodes length isphotoorvideo { if i < childnodes length { childnode after htmltoelement mutexads arfasync push l2srqb } break } } catch e { } } } } function htmltoelement html { var template document createelement template template innerhtml html return template.content firstchild } if pagesettings allowads { function d a b l e _ { if d [ b ] d [ b ] q return d [ b ] function { d [ b ] q d [ b ] q [ ] push arguments } e a createelement l e.async e.charset utf e.src static.dable.io/dist/plugin.min.js _ a getelementsbytagname l [ ] _ parentnode insertbefore e _ } window document dable script dable setservice thanhnien.vn/inarticle dable sendlogonce dable renderwidget dablewidget_qxedqqel } tin liên_quan saigontel hỗ_trợ lập_quy_hoạch đồng_nai thời_kỳ – tầm nhìn đến saigontel là đơn_vị tài_trợ kinh_phí lập_quy_hoạch tỉnh đồng_nai và sẽ giúp tỉnh sớm hoàn_thành tiến_độ theo nhiệm_vụ được giao long_an_id giúp cư_dân dễ tìm việc_làm thuê nhà mua đồ giảm_giá saigontel rót hơn tỉ đồng lập khu_công_nghiệp tại long_an cơ_khí chính_xác khu_công_nghiệp vùng kinh_tế trọng_điểm phía nam kcn_tân tập_công_nghiệp_hoá cần_giuộc saigontel arfasync push kxgtakp bình_luận gửi bình_luận quan_tâm nhất mới nhất xem thêm bình_luận\n",
      "-----------\n",
      "\n",
      "Document: 1055, Score: 0.5148395755592174\n",
      "-----------\n",
      "yêu_cầu xác_thực thông_tin cá_nhân người tham_gia giao_dịch chứng_khoán trước mai_phương maiphuongthanhnien@gmail.com gmt phó_thủ_tướng chính_phủ trần_lưu_quang yêu_cầu nhanh_chóng xác_thực thông_tin cá_nhân người tham_gia giao_dịch chứng_khoán arfasync push k911czvz văn_phòng chính_phủ ngày truyền_đạt chỉ_đạo của phó_thủ_tướng trần_lưu_quang yêu_cầu các bộ ngành địa_phương khẩn_trương rà_soát triển_khai các nhiệm_vụ chậm tiến_độ theo đánh_giá của bộ công_an chịu trách_nhiệm trước thủ_tướng chính_phủ đối_với các nhiệm_vụ không bảo_đảm lộ_trình triển_khai_đề_án đề_án phát_triển ứng_dụng dữ_liệu về dân_cư định_danh và xác_thực điện_tử phục_vụ chuyển_đổi số quốc_gia giai_đoạn trong đó yêu_cầu thực_hiện xác_thực thông_tin cá_nhân người giao_dịch chứng_khoán thông_tin người tham_gia giao_dịch chứng_khoán phải được xác_thực với cơ_sở dữ_liệu quốc_gia về dân cưngọc thắngcụ_thể giao bộ tài_chính chỉ_đạo ủy_ban chứng_khoán nhà_nước sở_giao_dịch chứng_khoán và tổng_công_ty lưu_ký và bù_trừ chứng_khoán việt_nam kết_nối cơ_sở dữ_liệu quốc_gia về dân_cư hệ_thống định_danh và xác_thực điện_tử đồng_thời thực_hiện rà_soát xác_thực làm sạch dữ_liệu thông_tin về người tham_gia giao_dịch chứng_khoán trong đó có thông_tin người_thân tham_gia giao_dịch chứng_khoán báo_cáo thủ_tướng chính_phủ kết_quả thực_hiện trước ngày theo tổng_công_ty lưu_ký và bù_trừ chứng_khoán việt_nam đến hết tháng có hơn triệu tài_khoản giao_dịch chứng_khoán của nhà_đầu_tư trong nước trong đó bao_gồm triệu tài_khoản nhà đầu_tư cá_nhân và tài_khoản nhà_đầu_tư tổ_chức bên_cạnh đó có tài_khoản nhà_đầu_tư nước_ngoài gồm tài_khoản cá_nhân và tài_khoản nhà_đầu_tư tổ_chức phó_thủ_tướng chính_phủ trần_lưu_quang cũng yêu_cầu bộ công_an chủ_trì cùng các bộ thông_tin và truyền_thông xây_dựng tài_nguyên_và_môi_trường nghiên_cứu bổ_sung thông_tin địa_chỉ_số quốc_gia vào cơ_sở dữ_liệu quốc_gia về dân_cư tích_hợp tài_khoản định_danh điện_tử cá_nhân tổ_chức doanh_nghiệp với sàn giao_dịch bất_động_sản quốc_gia hệ_thống cơ_sở dữ_liệu đất_đai quốc_gia ngân_hàng bộ y_tế hướng_dẫn bệnh_viện và người dân sử_dụng sổ sức_khỏe điện_tử trên vneid văn_phòng chính_phủ chủ_trì phối_hợp với tổ công_tác triển_khai_đề_án đôn_đốc các bộ công_an tư_pháp y_tế lao_động thương_binh_và_xã_hội bảo_hiểm_xã_hội việt_nam và các địa_phương giải_quyết các khó_khăn vướng_mắc trong quá_trình thực_hiện nhóm dịch_vụ công_liên_thông bảo_đảm vận_hành thông_suốt hiệu_quả báo_cáo thủ_tướng chính_phủ kết_quả thực_hiện trước ngày chèn ads giữa bài runinit window.runinit [ ] push function { nếu k chạy ads thì return if typeof _chkprlink undefined _chkprlink return var mutexads < zone id l2srqb > < zone > var content [ data-role content ] if content.length > { var childnodes content [ ] childnodes for i i < childnodes length i { var childnode childnodes [ i ] var isphotoorvideo false if childnode nodename tolowercase div { kiem tra xem co la anh khong ? var type childnode attr class if type indexof _vcsortableinpreviewmode_ > { isphotoorvideo true } } try { if i > childnodes length i < childnodes length isphotoorvideo { if i < childnodes length { childnode after htmltoelement mutexads arfasync push l2srqb } break } } catch e { } } } } function htmltoelement html { var template document createelement template template innerhtml html return template.content firstchild } if pagesettings allowads { function d a b l e _ { if d [ b ] d [ b ] q return d [ b ] function { d [ b ] q d [ b ] q [ ] push arguments } e a createelement l e.async e.charset utf e.src static.dable.io/dist/plugin.min.js _ a getelementsbytagname l [ ] _ parentnode insertbefore e _ } window document dable script dable setservice thanhnien.vn/inarticle dable sendlogonce dable renderwidget dablewidget_qxedqqel } tin liên_quan việc giao_dịch các đồng_tiền ảo pi usdt busd._ là chưa được phép ủy_ban chứng_khoán nhà_nước vừa đưa ra cảnh_báo về việc giao_dịch các đồng_tiền mã_hóa tiền ảo như đồng_pi usdt busd thông_tin cá_nhân_chứng_khoán nhà_đầu_tư xác_thực điện_tử arfasync push kxgtakp bình_luận gửi bình_luận quan_tâm nhất mới nhất xem thêm bình_luận\n",
      "-----------\n",
      "\n"
     ]
    }
   ],
   "source": [
    "for _, score, doc_id in zip(doc, document_scores, document_ids):\n",
    "    print(f\"Document: {doc_id}, Score: {score}\")\n",
    "    print(\"-----------\")\n",
    "    print(doc[doc_id])\n",
    "    print(\"-----------\")\n",
    "    print()"
   ]
  }
 ],
 "metadata": {
  "kernelspec": {
   "display_name": "Python 3",
   "language": "python",
   "name": "python3"
  },
  "language_info": {
   "codemirror_mode": {
    "name": "ipython",
    "version": 3
   },
   "file_extension": ".py",
   "mimetype": "text/x-python",
   "name": "python",
   "nbconvert_exporter": "python",
   "pygments_lexer": "ipython3",
   "version": "3.10.3"
  }
 },
 "nbformat": 4,
 "nbformat_minor": 2
}

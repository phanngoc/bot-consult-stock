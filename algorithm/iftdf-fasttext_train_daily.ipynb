{
 "cells": [
  {
   "cell_type": "markdown",
   "metadata": {},
   "source": [
    "## Dùng fasttext để train daily, update lại thêm cho model trước đó.\n",
    "\n",
    "https://www.kaggle.com/code/antonsruberts/sentence-embeddings-centorid-method-vs-doc2vec\n",
    "https://www.kaggle.com/code/inversion/calculating-stable-diffusion-prompt-embeddings\n"
   ]
  },
  {
   "cell_type": "code",
   "execution_count": 2,
   "metadata": {},
   "outputs": [
    {
     "name": "stdout",
     "output_type": "stream",
     "text": [
      "8\n"
     ]
    }
   ],
   "source": [
    "import gensim\n",
    "from gensim.models import Word2Vec\n",
    "import matplotlib.pyplot as plt\n",
    "from gensim.models.word2vec import LineSentence\n",
    "import multiprocessing\n",
    "import pandas as pd\n",
    "import numpy as np\n",
    "from sklearn.neighbors import NearestNeighbors                                                                            \n",
    "cores = multiprocessing.cpu_count()\n",
    "print(cores)"
   ]
  },
  {
   "cell_type": "code",
   "execution_count": 6,
   "metadata": {},
   "outputs": [
    {
     "name": "stdout",
     "output_type": "stream",
     "text": [
      "8\n"
     ]
    },
    {
     "name": "stderr",
     "output_type": "stream",
     "text": [
      "/Users/ngocp/Documents/projects/pyml/botapp/algorithm/regress_adapter.py:23: UserWarning: pandas only supports SQLAlchemy connectable (engine/connection) or database string URI or sqlite3 DBAPI2 connection. Other DBAPI2 objects are not tested. Please consider using SQLAlchemy.\n",
      "  df = pd.read_sql(query, connection)\n"
     ]
    },
    {
     "name": "stdout",
     "output_type": "stream",
     "text": [
      "                                                 text  close      date_y\n",
      "0   Ép khách hàng mua bảo hiểm bị phạt 100 triệu đ...  19050  2023-09-19\n",
      "20  Một cá nhân trở thành cổ đông lớn của SJCSau k...  19050  2023-09-19\n",
      "19  Ngày 19/09/2023: 10 cổ phiếu nóng dưới góc nh...  19050  2023-09-19\n",
      "18  Liên tiếp vi phạm công bố thông tin trong 1 nă...  19050  2023-09-19\n",
      "17  Cổ phiếu AGM sàn liên tiếp 5 phiên do thông ti...  19050  2023-09-19\n",
      "new data:23\n"
     ]
    }
   ],
   "source": [
    "import gensim\n",
    "from gensim.models import Word2Vec\n",
    "import matplotlib.pyplot as plt\n",
    "from gensim.models.word2vec import LineSentence\n",
    "import multiprocessing\n",
    "import pandas as pd\n",
    "cores = multiprocessing.cpu_count()\n",
    "print(cores)\n",
    "\n",
    "from regress_adapter import get_data\n",
    "\n",
    "# get last 2 day and format to '2023-09-19'\n",
    "date_end = pd.to_datetime('today').strftime('%Y-%m-%d')\n",
    "# get 2 day before date_end\n",
    "date_start = (pd.to_datetime(date_end) - pd.DateOffset(days=2)).strftime('%Y-%m-%d')\n",
    "\n",
    "data = get_data('TPB', date_start, date_end)\n",
    "print(data.head())\n",
    "print('new data:' + str(len(data)))"
   ]
  },
  {
   "cell_type": "code",
   "execution_count": 16,
   "metadata": {},
   "outputs": [
    {
     "name": "stdout",
     "output_type": "stream",
     "text": [
      "<class 'pandas.core.series.Series'>\n",
      "0     Ép khách_hàng mua bảo_hiểm bị phạt 100 triệu đ...\n",
      "20    Một cá_nhân trở_thành cổ_đông lớn của SJCSau k...\n",
      "19    Ngày 19/09/2023 : 10 cổ_phiếu nóng dưới góc nh...\n",
      "18    Liên_tiếp vi_phạm công_bố thông_tin trong 1 nă...\n",
      "17    Cổ_phiếu AGM sàn liên_tiếp 5 phiên do thông_ti...\n",
      "Name: text, dtype: object\n"
     ]
    }
   ],
   "source": [
    "# import word_tokenize\n",
    "from underthesea import word_tokenize\n",
    "\n",
    "print(type(data['text']))\n",
    "t = data['text'].apply(lambda x: word_tokenize(x, format=\"text\"))\n",
    "print(t.head())"
   ]
  },
  {
   "cell_type": "code",
   "execution_count": 20,
   "metadata": {},
   "outputs": [],
   "source": [
    "import helper\n",
    "import numpy as np\n",
    "from importlib import reload\n",
    "\n",
    "reload(helper)\n",
    "\n",
    "def clear_text_vi(texts = []):\n",
    "    clear_ld = lambda t: helper.NLP(t).get_words_feature()\n",
    "    t = map(clear_ld, texts)\n",
    "    return list(t)\n",
    "\n",
    "sent = clear_text_vi(data['text'])"
   ]
  },
  {
   "cell_type": "code",
   "execution_count": 22,
   "metadata": {},
   "outputs": [
    {
     "name": "stdout",
     "output_type": "stream",
     "text": [
      "[-2.92165041e-01  4.78152722e-01 -1.04250944e+00 -9.89680812e-02\n",
      "  2.15293452e-01  5.34926243e-02 -3.49078998e-02  1.35056242e-01\n",
      "  3.74158770e-01 -3.62638861e-01 -2.73760036e-02 -2.20389962e-01\n",
      "  2.12917641e-01  2.81357408e-01 -1.49783850e-01  3.87781769e-01\n",
      " -3.67246240e-01 -4.08129245e-01  5.59060216e-01 -6.49103880e-01\n",
      "  6.23349920e-02  1.97254598e-01 -3.72478157e-01 -1.97908387e-01\n",
      "  6.14449680e-02 -2.72229105e-01  2.31160477e-01 -1.17393225e-01\n",
      "  4.53517705e-01 -1.34577110e-01  2.77455091e-01 -2.31039282e-02\n",
      " -2.45647542e-02  2.25192048e-02  2.58990228e-01 -1.73478737e-01\n",
      "  7.31063948e-04  3.63867767e-02  5.45117743e-02  1.41076520e-01\n",
      " -2.67114729e-01 -1.90630928e-01 -3.31837311e-02  4.07149643e-01\n",
      " -7.60782287e-02 -3.44041407e-01 -5.05530834e-01 -2.18343750e-01\n",
      "  8.27507526e-02  2.67352551e-01  6.80616200e-01 -1.00240499e-01\n",
      "  2.33680215e-02  6.66829152e-03 -1.90532103e-01  5.62540233e-01\n",
      " -2.50921607e-01  5.19580722e-01 -1.84901297e-01  3.00185740e-01\n",
      "  2.94797063e-01  1.98652688e-03  7.12770000e-02 -7.75290132e-01\n",
      "  7.19373226e-02  5.65096915e-01  9.93474275e-02 -1.64855987e-01\n",
      " -5.14917254e-01 -3.11793596e-01 -1.89499840e-01 -7.92717859e-02\n",
      " -1.71650916e-01  6.95261955e-01  2.83779532e-01 -1.43590450e-01\n",
      "  1.37579106e-02 -6.81518763e-02  2.42007270e-01  2.34774813e-01\n",
      "  3.99813205e-01 -7.74095803e-02 -3.01648788e-02  4.23151463e-01\n",
      "  1.18422776e-01 -3.57975334e-01  1.77998215e-01  3.33593994e-01\n",
      "  2.74553597e-01 -3.18343006e-02  5.60974896e-01 -2.94290245e-01\n",
      "  8.27303678e-02 -1.96539447e-01 -5.06175347e-02 -2.98661679e-01\n",
      " -1.91447675e-01 -2.52847150e-02 -2.62910396e-01  1.34442762e-01]\n",
      "[('kinh_tế-xã', 0.8909651041030884), ('kinh_tế_thị_trường', 0.7793182730674744), ('kinh_tế_phục_hồi', 0.7649604678153992), ('nền', 0.7343772053718567), ('kinh_tế_thế_giới', 0.724388837814331), ('chuyển_động_kinh_tế', 0.7171555757522583), ('vĩ_mô', 0.7099416851997375), ('tổn_thất_kinh_tế', 0.7061760425567627), ('kinh', 0.6912028193473816), ('điều_hành_kinh_tế', 0.688438355922699)]\n"
     ]
    }
   ],
   "source": [
    "# FastText load pretrained model \n",
    "\n",
    "from gensim.models import FastText\n",
    "\n",
    "path = './data/fast_new.model'\n",
    "ft_model = FastText.load(path)\n",
    "\n",
    "print(ft_model.wv['kinh_tế'])\n",
    "\n",
    "t = ft_model.wv.most_similar('kinh_tế')\n",
    "print(t)\n"
   ]
  },
  {
   "cell_type": "code",
   "execution_count": 29,
   "metadata": {},
   "outputs": [
    {
     "name": "stdout",
     "output_type": "stream",
     "text": [
      "23\n"
     ]
    }
   ],
   "source": [
    "print(ft_model.corpus_count)"
   ]
  },
  {
   "cell_type": "code",
   "execution_count": 30,
   "metadata": {},
   "outputs": [
    {
     "name": "stdout",
     "output_type": "stream",
     "text": [
      "23\n",
      "sent ['ép', 'khách_hàng', 'mua', 'bảo_hiểm', 'bị', 'phạt', 'triệu', 'đồng', 'mai_phương', 'maiphuongthanhnien@gmail.com', 'gmt', 'nhân_viên', 'tư_vấn', 'sai', 'ép', 'khách_hàng', 'mua', 'bảo_hiểm', 'sẽ', 'bị', 'xử_phạt', 'mạnh_tay', 'hơn', 'theo', 'quy_định', 'trong', 'dự_thảo', 'mới', 'nhất', 'của', 'bộ', 'tài_chính', 'arfasync', 'push', 'k911czvz', 'tại', 'dự_thảo', 'nghị_định', 'sửa_đổi', 'bổ_sung', 'một_số', 'điều', 'của', 'chính_phủ', 'quy_định', 'về', 'kinh_doanh', 'bảo_hiểm', 'bh', 'xổ_số', 'bộ_tài_chính', 'đề_xuất', 'tăng', 'mức', 'xử_phạt', 'đối_với', 'hành_vi', 'vi_phạm', 'quy_định', 'về', 'triển_khai', 'bh', 'nhân_thọ', 'và', 'bh', 'sức_khỏe', 'lên', 'gấp', 'đôi', 'cụ_thể', 'nâng', 'mức', 'xử_phạt', 'hiện_hành', 'từ', 'triệu', 'đồng', 'lên', 'mức', 'triệu', 'đồng', 'với', 'nhiều', 'hành_vi', 'vi_phạm', 'các', 'hành_vi', 'vi_phạm', 'bị', 'phạt', 'trong', 'khung', 'này', 'như', 'tư_vấn', 'viên', 'không', 'giải_thích', 'rõ_ràng', 'đầy_đủ', 'cho', 'người', 'mua', 'về', 'quyền_lợi', 'điều_khoản', 'loại_trừ', 'trách_nhiệm', 'quyền', 'và', 'nghĩa_vụ', 'của', 'bên', 'mua', 'khi', 'giao_kết', 'hợp_đồng', 'bh', 'không', 'cung_cấp', 'cho', 'bên', 'mua', 'bằng_chứng', 'giao_kết', 'hợp_đồng', 'bh._hoặc', 'có', 'hiện_tượng', 'đe_dọa', 'cưỡng_ép', 'giao_kết', 'hợp_đồng', 'bh', 'tài_liệu', 'giới_thiệu', 'sản_phẩm', 'không', 'phản_ánh', 'trung_thực', 'các', 'thông_tin', 'cơ_bản', 'tại', 'quy_tắc', 'điều_khoản', 'của', 'sản_phẩm', 'bh', 'không', 'thể_hiện', 'rõ', 'việc', 'tham_gia', 'sản_phẩm', 'bh', 'không', 'phải', 'là', 'yêu_cầu', 'bắt_buộc', 'để', 'thực_hiện', 'hay', 'hưởng', 'một', 'dịch_vụ', 'nào', 'khác', 'của', 'đối_tác', 'phân_phối', 'triển_khai', 'sản_phẩm', 'bh', 'thuộc', 'nghiệp_vụ', 'bh', 'liên_kết', 'đầu_tư', 'bh', 'hưu_trí', 'bh', 'sức_khỏe', 'không', 'theo', 'quy_định', '…', 'cần', 'tăng', 'mức', 'xử_phạt', 'vi_phạm', 'trong', 'hoạt_động', 'bảo_hiểm', 'nhân', 'thọngọc', 'thắngdoanh', 'thu', 'ngàn', 'tỉ', 'xử_phạt', 'triệu', 'là', 'quá', 'thấptheo', 'ts', 'trần_nguyên_đán', 'trường', 'đh', 'kinh_tế', 'tp.hcm', 'mức', 'xử_phạt', 'tăng', 'lên', 'khoảng', 'triệu', 'đồng', 'nếu', 'vi_phạm', 'trong', 'lĩnh_vực', 'bh', 'là', 'chưa', 'đủ', 'để', 'răn_đe', 'ngăn_ngừa', 'đặc_biệt', 'với', 'những', 'hành_động', 'như', 'cưỡng_ép', 'người', 'mua', 'bh', 'tư_vấn', 'không', 'đầy_đủ', 'về', 'trách_nhiệm', 'quyền', 'và', 'nghĩa_vụ', 'của', 'khách_hàng', 'khiến', 'họ', 'hiểu_lầm', 'bản_chất', 'của', 'bh', 'đặc_biệt', 'doanh_thu', 'từ', 'hoạt_động', 'bh', 'có_thể', 'lên', 'hàng', 'ngàn', 'tỉ', 'đồng', 'mỗi', 'năm', 'mà', 'các', 'doanh_nghiệp', 'nhận', 'được', 'thì', 'mức', 'xử_phạt', 'trên', 'quá', 'thấp', 'đối_với', 'những', 'hành_động', 'như', 'ép_buộc', 'khách_hàng', 'tham_gia', 'mua', 'bh', 'hay', 'tư_vấn', 'thiếu', 'trách_nhiệm', 'chỉ', 'đưa', 'ra', 'quyền_lợi', 'nhiều', 'hơn', 'để', 'dụ_dỗ', 'người', 'mua', 'thì', 'nên', 'xử_phạt', 'theo', 'từng', 'trường_hợp', '_ông', 'ví_dụ', 'nếu_như', 'có', 'hiện_tượng', 'ép', 'khách_hàng', 'mua', 'bh', 'khi', 'có', 'nhiều', 'phản_ánh', 'khiếu_nại', 'thì', 'phải', 'xét', 'đến', 'cả', 'quá_trình', 'nếu', 'có', 'cả', 'ngàn', 'trường_hợp', 'như_vậy', 'thì', 'phải', 'tính', 'là', 'phạt', 'triệu', 'đồng', 'đối_với', 'một', 'hợp_đồng', 'chứ', 'không', 'phải', 'chỉ', 'phạt', 'triệu', 'đồng', 'cho', 'hành_vi', 'này', 'vì', 'có', 'đến', 'cả', 'ngàn', 'người', 'khác', 'bị', 'thiệt_hại', 'nhiều', 'nước', 'có', 'khung', 'xử_phạt', 'hành_chính', 'rất', 'nặng', 'liên_quan', 'hoạt_động', 'bh', 'mức', 'phạt', 'sẽ', 'tính', 'theo', 'tỷ_lệ', 'doanh_thu', 'chẳng_hạn', 'ở', 'anh', 'cũng', 'từng', 'xảy', 'ra', 'vụ', 'kiện', 'lớn', 'nhất', 'là', 'hàng', 'triệu', 'khách_hàng', 'bị', 'bán', 'cho', 'các', 'hợp_đồng', 'bh', 'thanh_toán', 'mà', 'họ', 'không', 'cần', 'kết_quả', 'là', 'ngân_hàng', 'và', 'công_ty', 'bh', 'liên_quan', 'đều', 'phải', 'bồi_thường', 'nhiều', 'tỉ', 'bảng', 'anh', 'vì_vậy', 'mức', 'phạt', 'trong', 'dự_thảo', 'do', 'bộ', 'tài_chính', 'đề_xuất', 'lần', 'này', 'vẫn', 'còn', 'quá', 'thấp', 'với', 'mức', 'lợi', 'lớn', 'hằng', 'năm', 'thì', 'các', 'công_ty', 'đại_lý', 'bh', 'vẫn', 'sẵn_sàng', 'rút', 'sẵn', 'tiền', 'nộp', 'phạt', 'để', 'thực_hiện', 'được', 'việc', 'bán', 'bh', 'mà', 'không', 'hề', 'lo_sợ', 'bị', 'phạt', 'ts', 'trần_nguyên_đán', 'nói', 'nghĩ', 'đến', 'phạt', 'phải', 'sợ', 'mới', 'đủ', 'sức', 'răn', 'đeluật', 'sư', 'trương_thanh_đức', 'giám_đốc', 'công_ty', 'luật_anvi', 'cũng', 'đánh_giá', 'dù', 'mức', 'phạt', 'đã', 'tăng', 'gấp', 'đôi', 'so', 'với', 'hiện_nay', 'thì', 'đây', 'cũng', 'là', 'mức', 'phạt', 'quá', 'ít', 'không', 'đủ', 'để', 'khiến', 'các', 'cá_nhân', 'hay', 'doanh_nghiệp', 'sợ', 'trong', 'khi', 'ở', 'nhiều', 'nước', 'nguyên_tắc', 'xử_phạt', 'là', 'phải', 'làm', 'thế_nào', 'để', 'cá_nhân', 'tổ_chức', 'nghĩ', 'đến', 'là', 'sợ', 'là', 'có_thể', 'tán', 'gia', 'bại_sản', 'nếu', 'vi_phạm', 'đặc_biệt', 'trong', 'một_số', 'lĩnh_vực', 'nguy_hiểm', 'liên_quan', 'đến', 'tính_mạng', 'lòng', 'tin', 'như', 'bh', 'thì', 'bắt_buộc', 'đơn_vị', 'bán', 'sản_phẩm', 'không', 'được', 'phép', 'vi_phạm', 'có', 'những', 'hành_vi', 'vi_phạm', 'gần', 'đây', 'đã', 'được', 'tăng', 'mức', 'phạt', 'lên', 'cao', 'như', 'vi_phạm', 'trong', 'lĩnh_vực', 'ngân_hàng', 'chứng_khoán', 'vì_vậy', 'nên', 'rà_soát', 'tổng_thể', 'các', 'quy_định', 'liên_quan', 'trong', 'đó', 'bắt_đầu', 'điều_chỉnh', 'từ', 'luật', 'xử_lý', 'vi_phạm', 'hành_chính', 'và', 'nêu', 'rõ', 'mức', 'xử_phạt', 'của', 'các', 'hoạt_động', 'cụ_thể', 'có', 'cả', 'kinh_doanh', 'bh.luật_sư', 'trương_thanh_đức', 'nhấn_mạnh', 'xử_phạt', 'phải', 'theo', 'hướng', 'tăng', 'cao', 'như', 'các', 'nước', 'đã', 'áp_dụng', 'cụ_thể', 'với', 'lĩnh_vực', 'bh', 'đối_với', 'cá_nhân', 'vi_phạm', 'phải', 'ở', 'mức', 'tiền', 'tỉ', 'là', 'phổ_biến', 'với', 'tổ_chức', 'cũng', 'từ', 'tiền', 'tỉ', 'trở_lên', 'và', 'tối_đa', 'có_thể', 'lên', 'hàng', 'trăm', 'tỉ', 'đồng', 'chỉ', 'có', 'phạt', 'nặng', 'mới', 'khiến', 'cá_nhân', 'đại_lý', 'bh', 'không', 'dám', 'có', 'hành_động', 'sai_phạm', 'hay', 'nhắm_mắt', 'làm_ngơ', 'cho', 'những', 'hành_vi', 'sai_trái', 'ép', 'khách_hàng', 'mua', 'bh', 'như', 'thời_gian', 'vừa_qua', 'bên_cạnh', 'đó', 'phải', 'quy_định', 'rõ', 'thẩm_quyền', 'xử_phạt', 'của', 'các', 'cơ_quan', 'liên_quan', 'từ', 'địa_phương', 'lên_bộ', 'tài_chính', 'đồng_thời', 'cơ_quan', 'quản_lý', 'nhà_nước', 'vẫn', 'đẩy_mạnh', 'tuyên_truyền', 'cho', 'khách_hàng', 'tham_gia', 'hoạt_động', 'bh', 'phải', 'hiểu', 'rõ', 'quy_định', 'về', 'quyền_lợi', 'và', 'trách_nhiệm', 'tăng_cường', 'thanh_tra', 'xử_phạt', 'ts', 'trần_nguyên_đán', 'đề_xuất', 'bộ', 'tài_chính', 'nên', 'quy_định', 'xử_phạt', 'chủ_thể', 'nào', 'khi', 'có', 'hành_vi', 'vi_phạm', 'ví_dụ', 'trong', 'việc', 'ép', 'khách_hàng', 'mua', 'bh', 'ở', 'đây', 'chủ_thể', 'bị', 'xử_phạt', 'phải', 'là', 'các', 'cá_nhân', 'đại_lý', 'lớn', 'như', 'ngân_hàng', 'khi', 'xảy', 'ra', 'vi_phạm', 'công_ty', 'bh', 'cũng', 'có_thể', 'bị', 'phạt', 'liên_đới', 'trách_nhiệm', 'khi', 'không', 'có', 'giám_sát', 'trong', 'quá_trình', 'kinh_doanh', 'ngoài_ra', 'cũng', 'cần', 'có', 'thêm', 'quy_định', 'về', 'vai_trò', 'giám_sát', 'của', 'bộ', 'tài_chính', 'đối_với', 'kênh', 'đại_lý', 'bh', 'là', 'các', 'ngân_hàng', 'tổ_chức', 'tài_chính', 'đây', 'là', 'lĩnh_vực', 'thuộc', 'quản_lý', 'của', 'bộ', 'tài_chính', 'nên', 'mọi', 'đối_tượng', 'tham_gia', 'thị_trường', 'bh', 'đều', 'có_thể', 'bị', 'thanh_tra', 'quá_trình', 'thực_hiện', 'triển_khai', 'bán', 'sản_phẩm', 'bh', 'để', 'bảo_vệ', 'khách_hàng', 'đặc_biệt', 'sau', 'câu_chuyện', 'xử_phạt', 'thì', 'hoạt_động', 'thanh_tra', 'giám_sát', 'quá_trình', 'thực_hiện', 'triển_khai', 'sản_phẩm', 'bh', 'cũng', 'phải', 'được', 'đẩy_mạnh', 'hơn', 'để', 'hạn_chế', 'những', 'hành_vi', 'sai_trái', 'trên', 'thị_trường', 'lấy', 'lại', 'niềm', 'tin', 'của', 'người', 'dân', 'nghị_quyết', 'kỳ', 'họp', 'thứ', 'của', 'quốc_hội', 'khóa', 'xv', 'công_bố', 'trong', 'tháng', 'nêu', 'rõ', 'một', 'trong', 'những', 'việc', 'cần', 'làm', 'là', 'thanh_tra', 'toàn_diện', 'thị_trường', 'bh', 'nhân_thọ', 'tập_trung', 'vào', 'loại_hình', 'bh', 'liên_kết', 'đầu_tư', '_năm', 'bộ_tài_chính', 'xây_dựng', 'kế_hoạch', 'thanh_tra', 'kiểm_tra', 'doanh_nghiệp', 'bh._cuối', 'tháng', 'bộ_tài_chính', 'đã', 'công_bố', 'kết_quả', 'thanh_tra', 'đối_với', 'doanh_nghiệp', 'bh', 'nhân_thọ', 'và', 'triển_khai', 'hoạt_động', 'thông_qua', 'liên_kết', 'với', 'ngân_hàng', 'để', 'kinh_doanh', 'bh', 'nhân_thọ', 'với', 'nhiều', 'sai_phạm', 'cơ_quan', 'này', 'cho', 'biết', 'sẽ', 'tiếp_tục', 'triển_khai', 'xây_dựng', 'kế_hoạch', 'thanh_tra', 'các', 'doanh_nghiệp', 'bh', 'cũng', 'như', 'xây_dựng', 'kế_hoạch', 'thanh_tra', 'trong', 'năm', 'chèn', 'ads', 'giữa', 'bài', 'runinit', 'window.runinit', '[', ']', 'push', 'function', '{', 'nếu', 'k', 'chạy', 'ads', 'thì', 'return', 'if', 'typeof', '_chkprlink', 'undefined', '_chkprlink', 'return', 'var', 'mutexads', '<', 'zone', 'id', 'l2srqb', '>', '<', 'zone', '>', 'var', 'content', '[', 'data-role', 'content', ']', 'if', 'content.length', '>', '{', 'var', 'childnodes', 'content', '[', ']', 'childnodes', 'for', 'i', 'i', '<', 'childnodes', 'length', 'i', '{', 'var', 'childnode', 'childnodes', '[', 'i', ']', 'var', 'isphotoorvideo', 'false', 'if', 'childnode', 'nodename', 'tolowercase', 'div', '{', 'kiem', 'tra', 'xem', 'co', 'la', 'anh', 'khong', '?', 'var', 'type', 'childnode', 'attr', 'class', 'if', 'type', 'indexof', '_vcsortableinpreviewmode_', '>', '{', 'isphotoorvideo', 'true', '}', '}', 'try', '{', 'if', 'i', '>', 'childnodes', 'length', 'i', '<', 'childnodes', 'length', 'isphotoorvideo', '{', 'if', 'i', '<', 'childnodes', 'length', '{', 'childnode', 'after', 'htmltoelement', 'mutexads', 'arfasync', 'push', 'l2srqb', '}', 'break', '}', '}', 'catch', 'e', '{', '}', '}', '}', '}', 'function', 'htmltoelement', 'html', '{', 'var', 'template', 'document', 'createelement', 'template', 'template', 'innerhtml', 'html', 'return', 'template.content', 'firstchild', '}', 'function', 'd', 'a', 'b', 'l', 'e', '_', '{', 'if', 'd', '[', 'b', ']', 'd', '[', 'b', ']', 'q', 'return', 'd', '[', 'b', ']', 'function', '{', 'd', '[', 'b', ']', 'q', 'd', '[', 'b', ']', 'q', '[', ']', 'push', 'arguments', '}', 'e', 'a', 'createelement', 'l', 'e.async', 'e.charset', 'utf', 'e.src', 'static.dable.io/dist/plugin.min.js', '_', 'a', 'getelementsbytagname', 'l', '[', ']', '_', 'parentnode', 'insertbefore', 'e', '_', '}', 'window', 'document', 'dable', 'script', 'dable', 'setservice', 'thanhnien.vn/inarticle', 'dable', 'sendlogonce', 'dable', 'renderwidget', 'dablewidget_qxedqqel', 'tin', 'liên_quan', 'sẽ', 'tăng', 'mức', 'xử_phạt', 'khi', 'cưỡng_ép', 'người', 'mua', 'bảo_hiểm', 'bộ', 'tài_chính', 'đề_xuất', 'tăng', 'mức', 'phạt', 'đối_với', 'một_số', 'hành_vi', 'vi_phạm', 'trong', 'lĩnh_vực', 'bảo_hiểm', 'như', 'không', 'giải_thích', 'rõ', 'quyền', 'và', 'nghĩa_vụ', 'cho', 'người', 'mua', 'cưỡng_ép', 'người', 'mua', 'bảo_hiểm', 'mua', 'bảo_hiểm', 'bảo_hiểm', 'nhân_thọ', 'doanh_nghiệp', 'bảo_hiểm', 'sức_khỏe', 'arfasync', 'push', 'kxgtakp', 'bình_luận', 'gửi', 'bình_luận', 'quan_tâm', 'nhất', 'mới', 'nhất', 'xem', 'thêm', 'bình_luận']\n"
     ]
    },
    {
     "data": {
      "text/plain": [
       "(46385, 59090)"
      ]
     },
     "execution_count": 30,
     "metadata": {},
     "output_type": "execute_result"
    }
   ],
   "source": [
    "print(len(sent))\n",
    "print('sent', sent[0])\n",
    "ft_model.build_vocab(sent, update=True)\n",
    "ft_model.train(corpus_iterable=sent, total_examples=ft_model.corpus_count, epochs=5)"
   ]
  },
  {
   "cell_type": "code",
   "execution_count": 33,
   "metadata": {},
   "outputs": [
    {
     "name": "stdout",
     "output_type": "stream",
     "text": [
      "23\n",
      "[('mai_phương_', 0.967894434928894), ('mai_phương_thuý', 0.9289407730102539), ('mai_phương_thúy', 0.9234344959259033), ('maiphuongthanhnien@gmail.com', 0.88444584608078), ('đối_phương', 0.8210639953613281), ('m.phương', 0.7708355784416199), ('lê_phương_mai', 0.7610512375831604), ('đồng_thanh_xuân', 0.7270358204841614), ('đỗ_hà_phương', 0.7269174456596375), ('ngovutb@gmail.com', 0.7227888703346252)]\n"
     ]
    }
   ],
   "source": [
    "print(ft_model.corpus_count)\n",
    "print(ft_model.wv.most_similar('mai_phương'))"
   ]
  },
  {
   "cell_type": "code",
   "execution_count": 34,
   "metadata": {},
   "outputs": [],
   "source": [
    "ft_model.save('./data/fast_new.model')"
   ]
  },
  {
   "cell_type": "markdown",
   "metadata": {},
   "source": [
    "Translated into plain English, importance of a term is high when it occurs a lot in a given document and rarely in others\n",
    "\n"
   ]
  }
 ],
 "metadata": {
  "kernelspec": {
   "display_name": "Python 3",
   "language": "python",
   "name": "python3"
  },
  "language_info": {
   "codemirror_mode": {
    "name": "ipython",
    "version": 3
   },
   "file_extension": ".py",
   "mimetype": "text/x-python",
   "name": "python",
   "nbconvert_exporter": "python",
   "pygments_lexer": "ipython3",
   "version": "3.10.3"
  },
  "orig_nbformat": 4
 },
 "nbformat": 4,
 "nbformat_minor": 2
}

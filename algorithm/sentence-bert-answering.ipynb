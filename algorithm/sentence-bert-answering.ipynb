{
 "cells": [
  {
   "cell_type": "markdown",
   "metadata": {},
   "source": [
    "# Dùng sentence bert cho bài toán searching dùng embedding (Question Answering).\n",
    "\n",
    "Dùng code từ file:\n",
    "https://github.com/UKPLab/sentence-transformers/blob/master/examples/applications/retrieve_rerank/retrieve_rerank_simple_wikipedia.ipynb\n",
    "\n",
    "Thuật toán search:\n",
    "https://en.wikipedia.org/wiki/Okapi_BM25"
   ]
  },
  {
   "cell_type": "code",
   "execution_count": 1,
   "metadata": {},
   "outputs": [
    {
     "name": "stderr",
     "output_type": "stream",
     "text": [
      "/var/folders/g6/37kt02914kx36yzcbbqfyck00000gn/T/ipykernel_25456/3777221515.py:6: TqdmExperimentalWarning: Using `tqdm.autonotebook.tqdm` in notebook mode. Use `tqdm.tqdm` instead to force console mode (e.g. in jupyter console)\n",
      "  from tqdm.autonotebook import tqdm\n"
     ]
    }
   ],
   "source": [
    "# We also compare the results to lexical search (keyword search). Here, we use \n",
    "# the BM25 algorithm which is implemented in the rank_bm25 package.\n",
    "\n",
    "from sklearn.feature_extraction import _stop_words\n",
    "import string\n",
    "from tqdm.autonotebook import tqdm\n",
    "import numpy as np\n",
    "import json\n",
    "from sentence_transformers import SentenceTransformer, CrossEncoder, util\n",
    "import gzip\n",
    "import os\n",
    "import torch\n"
   ]
  },
  {
   "cell_type": "code",
   "execution_count": 2,
   "metadata": {},
   "outputs": [],
   "source": [
    "# This function will search all wikipedia articles for passages that\n",
    "# answer the query\n",
    "\n",
    "bi_encoder = SentenceTransformer('multi-qa-MiniLM-L6-cos-v1')\n",
    "bi_encoder.max_seq_length = 256     #Truncate long passages to 256 tokens\n",
    "top_k = 32                          #Number of passages we want to retrieve with the bi-encoder"
   ]
  },
  {
   "cell_type": "code",
   "execution_count": 3,
   "metadata": {},
   "outputs": [],
   "source": [
    "#The bi-encoder will retrieve 100 documents. We use a cross-encoder, to re-rank the results list to improve the quality\n",
    "cross_encoder = CrossEncoder('cross-encoder/ms-marco-MiniLM-L-6-v2')"
   ]
  },
  {
   "cell_type": "code",
   "execution_count": 4,
   "metadata": {},
   "outputs": [
    {
     "name": "stderr",
     "output_type": "stream",
     "text": [
      "/Users/ngocp/Documents/projects/pyml/botapp/algorithm/regress_adapter.py:28: UserWarning: pandas only supports SQLAlchemy connectable (engine/connection) or database string URI or sqlite3 DBAPI2 connection. Other DBAPI2 objects are not tested. Please consider using SQLAlchemy.\n",
      "  df = pd.read_sql(query, connection)\n"
     ]
    },
    {
     "name": "stdout",
     "output_type": "stream",
     "text": [
      "                                                   text  close      date_y\n",
      "3778  VNDIRECT: Hầu hết giá cổ phiếu của dệt may hiệ...  27680  2022-01-04\n",
      "3777  Cách tốt nhất để các nhà đầu tư bảo vệ mình kh...  27680  2022-01-04\n",
      "3776  Đảng uỷ cơ quan Uỷ ban Chứng khoán Nhà nước: S...  27680  2022-01-04\n",
      "3775  Truyền hình K+ tặng đầu thu miễn phí đón ‘Tết ...  27680  2022-01-04\n",
      "3774  Licogi 14 (L14) “bơm” thêm 214 tỷ đồng đầu tư ...  27190  2022-01-05\n"
     ]
    }
   ],
   "source": [
    "import pandas as pd\n",
    "from regress_adapter import get_data\n",
    "\n",
    "data = get_data('TPB', '2022-01-01', '2023-09-29')\n",
    "print(data.head())"
   ]
  },
  {
   "cell_type": "code",
   "execution_count": 5,
   "metadata": {},
   "outputs": [],
   "source": [
    "import helper\n",
    "import numpy as np\n",
    "from importlib import reload\n",
    "\n",
    "reload(helper)\n",
    "\n",
    "def clear_text_vi(texts = []):\n",
    "    clear_ld = lambda t: helper.NLP(t).get_string_sanitize()\n",
    "    t = map(clear_ld, texts)\n",
    "    return list(t)"
   ]
  },
  {
   "cell_type": "code",
   "execution_count": 6,
   "metadata": {},
   "outputs": [],
   "source": [
    "data_list = data['text'].values.tolist()\n",
    "sent = clear_text_vi(data_list)"
   ]
  },
  {
   "cell_type": "code",
   "execution_count": null,
   "metadata": {},
   "outputs": [],
   "source": [
    "# save sent to file use joblib\n",
    "import joblib\n",
    "joblib.dump(sent, './data/sba-sentences.pkl')\n"
   ]
  },
  {
   "cell_type": "code",
   "execution_count": 7,
   "metadata": {},
   "outputs": [
    {
     "data": {
      "application/vnd.jupyter.widget-view+json": {
       "model_id": "ad118fa64f9549a4b2760c338d76d080",
       "version_major": 2,
       "version_minor": 0
      },
      "text/plain": [
       "Batches:   0%|          | 0/157 [00:00<?, ?it/s]"
      ]
     },
     "metadata": {},
     "output_type": "display_data"
    },
    {
     "name": "stdout",
     "output_type": "stream",
     "text": [
      "5004\n"
     ]
    }
   ],
   "source": [
    "# sent = [\n",
    "#     \"This is an example sentence\",\n",
    "#     \"Each sentence is converted bert embeddings\",\n",
    "#     \"Sentences are passed as a list of string.\",\n",
    "#     \"Cách tốt nhất để các nhà đầu tư bảo vệ mình\",\n",
    "# ]\n",
    "corpus_embeddings = bi_encoder.encode(sent, convert_to_tensor=True, show_progress_bar=True)\n",
    "print(len(corpus_embeddings))"
   ]
  },
  {
   "cell_type": "code",
   "execution_count": 12,
   "metadata": {},
   "outputs": [
    {
     "data": {
      "text/plain": [
       "['./cached/sba-corpus_embeddings.pkl']"
      ]
     },
     "execution_count": 12,
     "metadata": {},
     "output_type": "execute_result"
    }
   ],
   "source": [
    "import joblib\n",
    "joblib.dump(corpus_embeddings, './cached/sba-corpus_embeddings.pkl')"
   ]
  },
  {
   "cell_type": "code",
   "execution_count": 13,
   "metadata": {},
   "outputs": [],
   "source": [
    "\n",
    "def search(query):\n",
    "    print(\"Input question:\", query)\n",
    "    ##### Sematic Search #####\n",
    "    query = clear_text_vi([query])[0]\n",
    "    # Encode the query using the bi-encoder and find potentially relevant passages\n",
    "    question_embedding = bi_encoder.encode(query, convert_to_tensor=True)\n",
    "    # question_embedding = question_embedding\n",
    "    hits = util.semantic_search(question_embedding, corpus_embeddings, top_k=top_k)\n",
    "    hits = hits[0]  # Get the hits for the first query\n",
    "\n",
    "    ##### Re-Ranking #####\n",
    "    # Now, score all retrieved passages with the cross_encoder\n",
    "    cross_inp = [[query, sent[hit['corpus_id']]] for hit in hits]\n",
    "    cross_scores = cross_encoder.predict(cross_inp)\n",
    "\n",
    "    # Sort results by the cross-encoder scores\n",
    "    for idx in range(len(cross_scores)):\n",
    "        hits[idx]['cross-score'] = cross_scores[idx]\n",
    "\n",
    "\n",
    "    # Output of top-5 hits from re-ranker\n",
    "    print(\"\\n-------------------------\\n\")\n",
    "    print(\"Top-3 Cross-Encoder Re-ranker hits\")\n",
    "    hits = sorted(hits, key=lambda x: x['cross-score'], reverse=True)\n",
    "    for hit in hits[0:3]:\n",
    "        print(\"\\t{:.3f}\\t{}\".format(hit['cross-score'], sent[hit['corpus_id']].replace(\"\\n\", \" \")))"
   ]
  },
  {
   "cell_type": "code",
   "execution_count": 14,
   "metadata": {},
   "outputs": [
    {
     "name": "stdout",
     "output_type": "stream",
     "text": [
      "Input question: Tình hình chứng khoán thế giới ?\n",
      "\n",
      "-------------------------\n",
      "\n",
      "Top-3 Cross-Encoder Re-ranker hits\n",
      "\t5.768\tchứng_khoán tuần tình_hình đang xấu đithị trường_chứng_khoán thế_giới biến_động tiêu_cực các cổ_phiếu lớn đồng_loạt lao dốc và động_thái bán ròng của khối ngoại khiến tâm_lý nhà đầu_tư hoang_mang dẫn đến thị_trường giảm điểm mạnh vn-index rơi xuống dưới đường sma ngày cho thấy tình_hình càng bi_quan hơn i thị_trường chứng_khoán việt_nam tuần giao_dịch các chỉ_số chính giảm mạnh trong phiên cuối tuần kết phiên vn-index giảm điểm về mức điểm hnx-index giảm điểm kết phiên về mức điểm _xét cho cả tuần vn-index tổng_cộng giảm điểm hnx-index giảm điểm _thị_trường chứng_khoán ghi_nhận tuần giao_dịch đầy tiêu_cực với áp_lực bán vẫn còn khá mạnh các cây_nến đỏ chiếm số_lượng áp_đảo trong các phiên gần đây phiên cho thấy áp_lực bán mạnh đang hiện_diện riêng ngày giao_dịch cuối_cùng chỉ_số giảm điểm mạnh đã cắt xuống_đường sma ngày cho thấy tình_hình càng bi_quan hơn kết tuần vn-index giảm điểm tương_đương _xét theo mức_độ đóng_góp vhm vic và hpg là những mã có tác_động tiêu_cực nhất đến vn-index trong đó tính riêng vhm đã lấy đi hơn điểm của chỉ_số này ở chiều ngược_lại vcb bid và gas là những mã có tác_động tích_cực nhất tính riêng vcb đã bù lại hơn điểm cho chỉ_số chiều ngày ngân_hàng nhà_nước đã có thông_báo về việc phát_hành gần nghìn tỷ đồng tín_phiếu kỳ_hạn ngày với lãi_suất năm đây là đợt phát_hành tín_phiếu đầu_tiên của ngân_hàng nhà_nước kể từ tháng và động_thái này diễn ra trong bối_cảnh thanh khoản hệ_thống ngân_hàng đang ở trạng_thái dư_thừa điều này được cho là có ảnh_hưởng tiêu_cực tác_động lên nhóm cổ_phiếu nhạy với diễn_biến thanh khoản và lãi_suất trong đó có nhóm ngành chứng_khoán và bất_động_sản các mã cổ_phiếu nhóm ngành chứng_khoán giảm mạnh nhất là ssi vnd vci … và một_số mã cổ_phiếu nhóm ngành bất_động_sản bị ảnh_hưởng nặng_nề phải kể đến như vhm vic bcm vre …_nhà đầu_tư nước_ngoài tiếp_tục bán ròng hơn tỷ đồng trên cả hai sàn khối ngoại bán ròng hơn tỷ đồng trên sàn hose và bán ròng hơn tỷ đồng trên sàn hnx cổ_phiếu tăng tiêu_biểu trong tuần qua là tco_tco tăng tco ghi_nhận tuần giao_dịch khởi_sắc với mức tăng cổ_phiếu có chuỗi tăng phiên liên_tục với sự xuất_hiện của mẫu hình nến rising_window việc giá cổ_phiếu tco liên_tiếp tăng đến nay sau thông_tin miễn_nhiệm chức_vụ tổng_giám_đốc đối_với thành_viên hđqt nguyễn_nam_hùng và bổ_nhiệm ông bùi_lê_quốc_bảo giữ chức_vụ trên kể từ ngày cổ_phiếu giảm_giá mạnh trong tuần qua là st8_st giảm st tuần qua giao_dịch đầy biến_động với sự xuất_hiện mẫu hình nến black_marubozu mặt_khác khối_lượng giao_dịch vẫn duy_trì ngưỡng trung_bình ngày cho thấy lực bán vẫn còn rất mạnh ii thống_kê thị_trường chứng_khoán tuần qua bộ_phận phân_tích kinh_tế chiến_lược thị_trường phòng tư_vấn vietstock fili\n",
      "\t5.223\tchứng_khoán giảm mạnh nhà_đầu_tư làm gì ? tin mới trong phiên cuối tuần thị_trường_chứng_khoán rung lắc rất mạnh đặc_biệt là phiên giao_dịch nghẹt_thở cuối tuần đưa vn-index có thời_điểm rơi về điểm nhiều nhà_đầu_tư bày_tỏ lo_lắng khi nhiều thông_tin tiêu_cực tác_động tới thị_trường _dù_vậy tại talk show chứng_khoán với chủ_đề tỉ_giá tăng chứng_khoán còn biến_động mạnh ? do báo người lao_động tổ_chức cuối tuần qua các chuyên_gia đánh_giá xu_hướng tăng vẫn tích_cực phản_ứng thái quá với tin xấu ? ông nguyễn_thế_minh giám_đốc nghiên_cứu và phát_triển sản_phẩm khối khách_hàng cá_nhân công_ty chứng_khoán yuanta việt_nam cho rằng yếu_tố tác_động tiêu_cực đến phiên chứng_khoán gần nhất liên_quan việc cục dự_trữ liên_bang mỹ fed giữ nguyên lãi_suất tại kỳ họp tháng nhưng có thêm một lần tăng lãi_suất trong tháng tới một bất_ngờ là fed nhấn_mạnh chỉ cắt_giảm lãi_suất lần trong năm sau thay_vì lần như dự_đoán khiến giới đầu_tư thất_vọng chứng_khoán mỹ giảm mạnh gây tâm_lý xấu đối_với các nhà_đầu_tư trong nước chưa kể tỉ_giá usd vnđ nóng lên cộng thêm chỉ_số đồng usd neo cao ở mốc điểm cũng là yếu_tố không tích_cực cho chứng_khoán việt_nam ông thế_minh nói một yếu_tố kém vui khác được các chuyên_gia phân_tích là áp_lực rút vốn của những nhà_đầu_tư nước_ngoài vẫn chưa dừng lại tổng_cộng họ đã bán ròng khoảng tỉ đồng từ đầu năm đến nay chỉ riêng tuần qua khối ngoại bán ròng tới tỉ đồng trên cả sàn ông lê_tự_quốc_hưng chuyên_viên phân_tích cao_cấp công_ty chứng_khoán rồng_việt vdsc phân_tích động_thái của khối ngoại cho thấy họ lo_ngại khi tỉ_giá usd vnđ tăng lên làm giảm hiệu_suất sinh lời của các khoản đầu_tư _dù_vậy nếu nhìn ở góc_độ nhà_đầu_tư trong nước thì lại khác với mặt_bằng lãi_suất thấp từ tháng tới nay kênh gửi tiết_kiệm đang kém hấp_dẫn so với triển_vọng của chứng_khoán nên kênh đầu_tư này vẫn tích_cực trong thời_gian tới tỉ_lệ giao_dịch của khối ngoại chỉ chiếm khoảng so với quy_mô giao_dịch của thị_trường phần_lớn thị_trường đang phụ_thuộc dòng tiền của nhà_đầu_tư cá_nhân trong khi dòng tiền chảy chỗ trũng … do_đó trong ngắn_hạn vn-index có_thể gặp khó_khăn tâm_lý nhà_đầu_tư e_dè nhưng trong trung và dài_hạn thì vẫn tích_cực có_thể nói đây là cơ_hội cho người đang cầm tiền ông thế_minh_nêu quan_điểm nhiều nhà_đầu_tư băn_khoăn chưa biết xử_lý thế_nào trong bối_cảnh thị_trường_chứng_khoán giảm nhanh và mạnh ảnh hoàng_triềumột_số nhóm ngành được đánh_giá tích cựcmột yếu_tố khác tác_động xấu tới vn-index những phiên vừa_qua là động_thái của ngân_hàng nhà_nước khi phát_hành tín_hiệu để hút tiền về khoảng tỉ đồng _dù_vậy ông lê_tự_quốc_hưng cho rằng việc ngân_hàng nhà_nước hút ròng trở_lại nếu so con_số này với thời_điểm tháng và vào đầu năm khi lượng tiền hút ròng lên tới tỉ đồng thì không phải con_số quá lớn chưa kể trong đợt đấu_thầu tín_phiếu này chỉ có ngân_hàng thương_mại tham_gia và ngân_hàng trúng_thầu phản_ánh hệ_thống ngân_hàng dư_thừa thanh khoản do_đó đây chỉ là bước_đi của ngân_hàng nhà_nước để kiểm_soát lạm_phát và giảm áp_lực tỉ_giá từ đầu năm đến nay vn-index đã tăng khoảng dù thị_trường không phải còn quá rẻ nhưng cũng không phải quá cao so với mức trung_bình_định_giá p e trong năm gần nhất là x hiện_tại là x quan_trọng là thị_trường đang được hưởng lợi từ môi_trường lãi_suất thấp nên điều_chỉnh sẽ là cơ_hội tái_định_giá cổ_phiếu và vẫn có những cổ_phiếu có câu_chuyện riêng và có tiềm_năng tăng_trưởng ông quốc_hưng nói biến_động của thị_trường_chứng_khoán tuần đến về phía nhà đầu_tư chị khánh_thy ngụ quận tp hcm đang nắm giữ khá nhiều cổ_phiếu ngành chứng_khoán bất_động_sản và dầu_khí vẫn bày_tỏ sự lo_lắng khi các nhóm cổ_phiếu giảm mạnh tới chỉ trong phiên thị_trường đã kết_thúc đợt điều_chỉnh giảm chưa ? sắp tới tôi phải làm gì ? nếu giảm là cơ_hội mua tích_lũy thì nhóm ngành nào sẽ tích_cực ? chị thy băn_khoăn đáng chú_ý đây cũng là tâm_lý chung của nhiều nhà đầu_tư cá_nhân trên thị_trường_chứng_khoán hiện_nay người cầm cổ_phiếu nếu tiếp_tục nắm giữ thì sợ lỗ bán thì sợ mất hàng còn người cầm tiền cũng không dám mua vào vì chưa biết_đâu là đáy theo các chuyên_gia chứng_khoán những cổ_phiếu có câu_chuyện và được hưởng lợi từ mùa báo_cáo kết_quả kinh_doanh quý iii và cuối năm sẽ có tiềm_năng với dòng tiền đang chờ tham_gia thị_trường hiện_nay xu_hướng điều_chỉnh trong ngắn_hạn sẽ sớm kết_thúc và trở_lại tăng thời_gian tới ông nguyễn_thế_minh thừa nhận định_giá của vn-index và nhiều cổ_phiếu đúng là không còn quá rẻ nhưng vẫn hấp_dẫn trong bối_cảnh xu_hướng hồi_phục vào quý iii iv sắp tới của các doanh_nghiệp lãi_suất cho vay hạ nhiệt và sự phục_hồi kinh_tế của các nước bằng_chứng là trong phiên điều_chỉnh tuần qua vẫn có những mã cổ_phiếu thuộc nhóm ngành xuất_khẩu hóa_chất bán_lẻ đi ngược thị_trường … do_đó chuyên_gia của yuanta việt_nam đánh_giá tích_cực với nhóm cổ_phiếu hóa_chất khi nhu_cầu xuất_khẩu tăng trở_lại nhóm xuất_khẩu như cổ_phiếu thủy_sản và nhóm cổ_phiếu vận_tải … nhóm cổ_phiếu dịch_vụ dầu_khí nắm giữ về dài_hạn bất_động_sản khu_công_nghiệp là nhóm ngành dự_báo đang hưởng lợi từ bối_cảnh vĩ_mô các hiệp_định thương_mại tự_do mà việt_nam tham_gia hay mới_đây nhất là việc nâng tầm quan_hệ chiến_lược giữa việt_nam và mỹ kỳ_vọng thu_hút làn_sóng fdi mới các doanh_nghiệp ngành này có_thể hưởng lợi trong dài_hạn ông quốc_hưng nhận_định _vn-index có_thể ổn_định trở lạiông đinh_quang_hinh trưởng bộ_phận phân_tích vĩ_mô và chiến_lược thị_trường công_ty chứng_khoán vndirect nhận_định vn-index có_thể ổn_định trở_lại sau khi những tin_đồn liên_quan tới lãnh_đạo hose và việc điều_chỉnh danh_mục margin của một công_ty chứng_khoán tốp đầu được đính_chính và làm rõ đồng_thời mùa báo_cáo kết_quả kinh_doanh quý iii đang đến gần với kỳ_vọng cải_thiện tích_cực hơn sẽ là yếu_tố hỗ_trợ cho thị_trường trong những tuần giao_dịch tới _nhà đầu_tư nên ưu_tiên những doanh_nghiệp có triển_vọng kinh_doanh chuyển_biến tích_cực trong quý cuối năm như xuất_khẩu thủy_sản đồ gỗ hóa_chất bán_lẻ và đầu_tư công xây_lắp vật_liệu xây_dựng các chuyên_gia chứng_khoán nhận_định thị_trường còn cơ_hội và xu_hướng là tích_cực nhưng khuyến_nghị nhà_đầu_tư mua cổ_phiếu thời_điểm này hạn_chế sử_dụng đòn_bẩy tài_chính margin nhất_là những nhà_đầu_tư mới để phòng_ngừa rủi_ro đồng_loạt quay đầu giảm sâu sau nhịp tăng kéo_dài cổ_phiếu chứng_khoán còn hấp_dẫn ?\n",
      "\t4.661\tđọc gì trước giờ giao_dịch chứng_khoán ? cùng điểm qua những tin_tức tài_chính kinh_tế trong nước và quốc_tế đáng chú_ý diễn ra trong h qua trước giờ giao_dịch hôm_nay dòng tiền phân_hóa ở nhóm bất_động_sản xây_dựng _thanh khoản sụt giảm nhẹ trong tuần dòng tiền có sự phân_hóa ở nhóm bất_động_sản xây_dựng và vật_liệu xây_dựng >> > đình_chỉ một phần hoạt_động giao_dịch đối_với chứng_khoán tân_việt ngày sở_giao_dịch chứng_khoán việt_nam vnx quyết_định đình_chỉ hoạt_động mua chứng_khoán trên thị_trường_chứng_khoán niêm_yết và thị_trường đăng_ký giao_dịch đối_với ctcp chứng_khoán tân_việt tvsi tại sở_giao_dịch chứng_khoán tphcm hose và sở_giao_dịch chứng_khoán hà_nội hnx >> > ông lê_viết_hải nhận trách_nhiệm về khoản lỗ của hbc hé lộ tỷ đồng vay nợ đã được cấn trừ bằng cổ_phiếu trong thông_điệp gửi đến cổ_đông được đăng_tải trên website công_ty chủ_tịch hđqt_ctcp tập_đoàn xây_dựng hòa_bình hose hbc ông lê_viết_hải đã nhận trách_nhiệm về khoản lỗ tỷ đồng của hbc trong năm đồng_thời hé lộ về tình_hình tài_chính của công_ty hiện_tại >> > ir_awards chứng_khoán và ngân_hàng là hai ngành công_bố thông_tin tốt nhất thị_trường _xét trên những ngành tiêu_biểu chứng_khoán là ngành có tỷ_lệ doanh_nghiệp đạt chuẩn_cbtt năm cao nhất thị_trường cụ_thể ngành này có doanh_nghiệp đạt chuẩn_cbtt năm tương_đương tỷ_lệ con_số này lớn hơn rất nhiều so với ngành đứng sau là ngân_hàng với doanh_nghiệp tỷ_lệ đạt >> > choáng với mức tăng của một cổ_phiếu xây_lắp ngôi vương thị_giá của vnz bị lung_lay một doanh_nghiệp xây_lắp bình_thường nhưng cổ_phiếu lại bứt tốc như công_ty công_nghệ trên sàn nasdaq với mức tăng trong gần tháng _đây cũng là cổ_phiếu tăng mạnh nhất từ đầu năm đến nay >> > có nên đầu_tư vào frt pnj và hsg ? các công_ty chứng_khoán ctck khuyến_nghị giảm tỷ_trọng frt với kỳ_vọng lợi_nhuận long_châu tạo ra sẽ bù_đắp cho khoản lỗ của fpt_shop năm mua pnj với vị_thế là doanh_nghiệp bán_lẻ trang_sức số và dư_địa tăng_trưởng tốt trong năm tới tăng tỷ_trọng hsg với cơ_cấu tài_chính lành_mạnh và không có dư nợ dài_hạn >> > làn_sóng vỡ_nợ trỗi dậy ở mỹ cục dự_trữ liên_bang mỹ fed đánh_tiếng sẽ tiếp_tục tăng lãi_suất để kìm_hãm lạm_phát và điều này có_thể đẩy nhiều doanh_nghiệp mỹ vào tình_cảnh vỡ_nợ >> > cổ_phiếu “ họ apec ” dư bán sàn chất đống sau thông_tin khởi_tố vụ án thao_túng chứng_khoán ngay sau thông_tin khởi_tố vụ án thao_túng chứng_khoán bộ_ba nhóm cổ_phiếu họ apec gồm api aps và idj đồng_loạt giảm sàn với tổng dư bán sàn hơn triệu đơn_vị trong phiên >> > hướng gỡ khó cho dự_án tỷ usd của novaland bình_thuận đề_xuất giữ nguyên chủ_trương đầu_tư gộp các quyết_định cho thuê đất cho trả tiền thuê đất một lần để gỡ khó pháp_lý dự_án novaworld_phan_thiet >> > đhđcđ_petrolimex kế_hoạch lãi trước thuế tăng _đhđcđ thường_niên của tập_đoàn xăng_dầu việt_nam petrolimex hose plx diễn ra vào sáng ngày theo hình_thức trực_tuyến tại đại_hội petrolimex đặt mục_tiêu giảm mạnh về doanh_thu nhưng tăng_trưởng về lợi_nhuận trước thuế >> > vn-index phục_hồi mạnh_mẽ nửa cuối năm ? tuy áp_lực bán có xu_hướng gia_tăng quanh vùng điểm nhưng xu_hướng tăng của chỉ_số vn-index đã được xác_nhận với sự gia_tăng của khối_lượng vì_thế chỉ_số vnindex có_thể xuất_hiện một xu_hướng tăng mạnh_mẽ trong nửa cuối năm >> > chứng_khoán tiền lớn bắt_đầu rục_rịch dịch_chuyển ? với việc lượng tiền gửi tiết_kiệm ở vùng lãi_suất cao vào cuối năm_ngoái và đầu năm nay đang bắt_đầu đáo hạn dần cộng thêm việc ngân_hàng nhà_nước nhnn liên_tục giảm lãi_suất điều_hành dòng tiền lớn ở kênh gửi tiết_kiệm có_lẽ đã bắt_đầu rục_rịch dịch_chuyển >> > thị_trường chứng_khoán cii đã bán hết triệu cổ_phiếu quỹ còn lại với giá đồng cp một cá_nhân rời ghế cổ_đông lớn kpf cổ_đông lớn fairfax_asia_limited quay xe không mua thêm cổ_phần bic tập_đoàn địa_ốc hoàng_cát tiếp_tục lỗ tỷ đồng công_ty của đại_gia nguyễn_văn_niên chậm thanh_toán tỷ đồng trái_phiếu cổ_phiếu ytc thoát diện hạn_chế giao_dịch thị_trường trái_phiếu doanh_nghiệp riêng_lẻ chờ sàn giao_dịch thứ cấp ads đầu_tư gần tỷ đồng vào đất cụm công_nghiệp lãnh_đạo mua_bán cổ_phiếu bên mua áp_đảo vcp đón cổ_đông lớn mới công_ty mẹ dsc chưa bán được triệu quyền mua cổ_phiếu nbb chuẩn_bị nhận chuyển_nhượng tài_sản từ cii với giá tỷ đồng acg dự_kiến phát_hành gần triệu cp trả cổ_tức đợt tập_đoàn quản_lý_tài_sản trí việt lỗ gấp đôi sau kiểm_toán cựu thành_viên hđqt_ric trở_thành cổ_đông lớn hcd sắp nhận về tỷ đồng_từ việc thoái vốn tại nhựa trường_an tài_chính ngân_hàng quy_định hoạt_động đại_lý đổi tiền của nước có chung biên_giới kỳ_vọng đề_án triệu ha lúa chất_lượng cao giá dầu tại thị_trường châu_á tăng lên sau cuộc nổi_loạn ở nga vĩ_mô đầu_tư triển_khai các dự_án trọng_điểm ngành giao_thông vận_tải người mua_bán tự biết tìm đến sàn giao_dịch khi cần nhiều dự_án bđs lớn sẽ được tháo_gỡ nguồn cung tới đây dồi_dào chính_phủ ban_hành nghị_định cho_phép địa_phương được quyết_định phân lô bán nền tài_chính thế_giới thống_đốc fed chỉ_trích các đề_xuất tăng yêu_cầu về vốn của ngân_hàng anh thị_trường đặt_cược lãi_suất sẽ vọt lên mức cao nhất trong năm đồng nhân_dân_tệ xuống đáy tháng liệu_fed có tăng lãi_suất vào cuối tháng_bảy hay không ? hàn_đông_fili\n"
     ]
    }
   ],
   "source": [
    "search(query = \"Tình hình chứng khoán thế giới ?\")"
   ]
  },
  {
   "cell_type": "code",
   "execution_count": 10,
   "metadata": {},
   "outputs": [
    {
     "name": "stdout",
     "output_type": "stream",
     "text": [
      "Input question: Giá kim loại, vàng miếng hôm nay ?\n",
      "\n",
      "-------------------------\n",
      "\n",
      "Top-3 Cross-Encoder Re-ranker hits\n",
      "\t6.740\tgiá vàng hôm_nay vàng miếng sjc đắt hơn thế_giới triệu đồng lượng thanh_xuân xuanthanhnien@gmail.com gmt giá vàng miếng sjc ngày_càng đắt_đỏ so với thế_giới do kim_loại quý_quốc_tế liên_tục trượt giảm sâu còn vàng trong nước lại đứng ở mức cao arfasync push k911czvz sáng giá vàng miếng sjc tại eximbank giảm đồng mỗi lượng chiều mua vào còn triệu đồng và bán ra triệu đồng trong khi đó công_ty vàng_bạc đá_quý sài_gòn sjc giữ giá mua ở mức triệu đồng bán ra triệu đồng … ngược_lại giá vàng nhẫn số lại tăng nhẹ đồng mỗi lượng công_ty sjc mua vào với giá triệu đồng bán ra triệu đồng giá vàng trong nước neo ở mức cao trong những ngày qua và không thay_đổi nhiều so với đầu tháng trong khi giá thế_giới lại liên_tục đi xuống giảm usd ounce chính vì_vậy vàng miếng sjc ngày_càng có giá cao hơn quốc_tế lên triệu đồng lượng còn vàng nhẫn có giá cao hơn lên triệu đồng lượng giá vàng nhẫn số cao hơn thế_giới lên triệu đồng lượngngọc thắngkim loại quý trên thị_trường quốc_tế tiếp_tục trượt giảm usd ounce xuống còn usd ounce giá vàng chịu áp_lực sau khi dữ_liệu xuất_nhập_khẩu yếu đến bất_ngờ từ trung_quốc chỉ sau một đêm một_số dữ_liệu kinh_tế ảm_đạm của nền kinh_tế lớn thứ hai thế_giới xuất_hiện khi chứng_kiến xuất_khẩu giảm so với dự_kiến vào tháng mức giảm mạnh nhất kể từ đại_dịch covid từ tháng nhập_khẩu tháng giảm hơn dự_kiến với mức những con_số này có_thể sẽ sớm thúc_đẩy các biện_pháp kích_thích của ngân_hàng trung_ương trung_quốc ngoài_ra cơ_quan phân_tích kinh_tế mỹ cho biết cán_cân thương_mại nước này thâm_hụt tỉ usd trong tháng nhỏ hơn mức thâm_hụt tỉ của tháng và gần khớp với mức thâm_hụt tỉ theo dự_báo đây là tháng có mức thâm_hụt nhỏ nhất trong quý giá_trị xuất_khẩu của nước mỹ trong tháng đạt tỉ usd giảm nhẹ và giá_trị nhập_khẩu đạt tỉ usd giảm chèn ads giữa bài runinit window.runinit [ ] push function { nếu k chạy ads thì return if typeof _chkprlink undefined _chkprlink return var mutexads < zone id l2srqb > < zone > var content [ data-role content ] if content.length > { var childnodes content [ ] childnodes for i i < childnodes length i { var childnode childnodes [ i ] var isphotoorvideo false if childnode nodename tolowercase div { kiem tra xem co la anh khong ? var type childnode attr class if type indexof _vcsortableinpreviewmode_ > { isphotoorvideo true } } try { if i > childnodes length i < childnodes length isphotoorvideo { if i < childnodes length { childnode after htmltoelement mutexads arfasync push l2srqb } break } } catch e { } } } } function htmltoelement html { var template document createelement template template innerhtml html return template.content firstchild } function d a b l e _ { if d [ b ] d [ b ] q return d [ b ] function { d [ b ] q d [ b ] q [ ] push arguments } e a createelement l e.async e.charset utf e.src static.dable.io/dist/plugin.min.js _ a getelementsbytagname l [ ] _ parentnode insertbefore e _ } window document dable script dable setservice thanhnien.vn/inarticle dable sendlogonce dable renderwidget dablewidget_qxedqqel tin liên_quan giá vàng hôm_nay ngày_càng đắt_đỏ giá vàng trong nước tăng lên mức cao nhất trong nhiều tháng trở_lại đây điểm lạ là giá thế_giới lại có xu_hướng đi xuống khiến vàng miếng sjc tăng thêm phần đắt_đỏ cao hơn thế_giới lên triệu đồng lượng arfasync push kxgtakp giá vàng sjc_eximbank mỹ trung_quốc arfasync push kxgtakp bình_luận gửi bình_luận quan_tâm nhất mới nhất xem thêm bình_luận\n",
      "\t6.492\tgiá vàng hôm_nay vàng miếng sjc cao hơn quốc_tế trên triệu đồng lượng thanh_xuân xuanthanhnien@gmail.com gmt giá vàng trong nước không theo kịp đà trượt dốc của kim_loại quý trên thị_trường quốc_tế đã khiến giá vàng miếng sjc cao hơn quốc_tế vượt qua mức triệu đồng lượng arfasync push k911czvz giá vàng sáng giảm nhẹ đồng mỗi lượng công_ty vàng_bạc đá_quý sài_gòn sjc mua vào triệu đồng bán ra triệu đồng _eximbank mua vào triệu đồng bán ra triệu đồng … chênh_lệch giữa giá_mua và bán vàng miếng sjc duy_trì ổn_định ở mức đồng lượng riêng vàng nhẫn số có giá mua và bán vẫn ở mức cao với triệu đồng lượng công_ty sjc mua vào triệu đồng bán ra triệu đồng việc giá vàng trong nước duy_trì ở mức cao trong khi kim_loại quý trên thị_trường quốc_tế giảm sâu dẫn đến vàng miếng sjc cao hơn lên trên triệu đồng lượng vàng nhẫn cao hơn triệu đồng … giá vàng miếng sjc cao hơn quốc_tế triệu đồng lượngt xgiá vàng thế_giới sáng giảm nhẹ gần usd ounce xuống còn usd ounce những lo_ngại của thị_trường về những nỗ_lực của cục dự_trữ liên_bang mỹ fed trong chống lạm_phát ngày_càng gia_tăng điều này sẽ khiến lãi_suất tăng và ở mức cao_lâu hơn dự_kiến đang gây thiệt_hại đáng_kể cho vàng khi giá kết_thúc tuần gần mức thấp nhất trong tháng mặc_dù vẫn còn nhiều lạc_quan rằng vàng có_thể lấy lại đà tăng trong cuối năm nay nhưng các nhà phân_tích cảnh_báo các nhà_đầu_tư rằng về kỹ_thuật ngắn_hạn kim_loại quý có khả_năng giảm xuống trong tuần này theo dự_báo của các chuyên_gia phân_tích kỹ_thuật vàng đang tiến dần đến mức usd ounce trong khi lợi_suất trái_phiếu tăng đạt mức cao nhất trong năm trong tuần qua đã trở_thành sự cạnh_tranh đáng_kể đối_với vàng việc nắm giữ trái_phiếu đã trở_nên hấp_dẫn hơn vàng khi lợi_suất lên bà michele_schneider giám_đốc nghiên_cứu và giáo_dục giao_dịch tại marketgauge nhận_định dù vàng đã chứng_kiến áp_lực bán mạnh trong tuần qua nhưng thị_trường tiếp_tục thể_hiện sức_mạnh bền_bỉ vàng đang ở mức thấp nhất trong vòng tháng và cho rằng sẽ mua vàng bởi fed sẽ không_thể duy_trì các mức lãi_suất mạnh này khi nền kinh_tế bắt_đầu chậm lại họ sẽ phải cắt_giảm lãi_suất ngay cả khi lạm_phát vẫn ở mức cao và những kỳ_vọng đó đang hỗ_trợ_giá vàng trong tuần này một_số thông_tin quan_trọng cần chú_ý như doanh_số bán nhà hiện có chỉ_số pmi sản_xuất tăng vọt doanh_số bán nhà mới yêu_cầu thất_nghiệp hàng tuần đơn đặt_hàng lâu_bền hội_nghị chuyên_đề jackson_hole và chủ_tịch fed_jerome_powell phát_biểu tại jackson_hole chèn ads giữa bài runinit window.runinit [ ] push function { nếu k chạy ads thì return if typeof _chkprlink undefined _chkprlink return var mutexads < zone id l2srqb > < zone > var content [ data-role content ] if content.length > { var childnodes content [ ] childnodes for i i < childnodes length i { var childnode childnodes [ i ] var isphotoorvideo false if childnode nodename tolowercase div { kiem tra xem co la anh khong ? var type childnode attr class if type indexof _vcsortableinpreviewmode_ > { isphotoorvideo true } } try { if i > childnodes length i < childnodes length isphotoorvideo { if i < childnodes length { childnode after htmltoelement mutexads arfasync push l2srqb } break } } catch e { } } } } function htmltoelement html { var template document createelement template template innerhtml html return template.content firstchild } function d a b l e _ { if d [ b ] d [ b ] q return d [ b ] function { d [ b ] q d [ b ] q [ ] push arguments } e a createelement l e.async e.charset utf e.src static.dable.io/dist/plugin.min.js _ a getelementsbytagname l [ ] _ parentnode insertbefore e _ } window document dable script dable setservice thanhnien.vn dable sendlogonce dable renderwidget dablewidget_g7zjbw7w tin liên_quan giá vàng hôm_nay tăng cao nhất từ đầu năm nhưng người mua chỉ hòa vốn giá vàng sjc ghi_nhận lên mức cao nhất nhưng người nắm giữ từ đầu năm đến nay nếu bán ra cũng chỉ hòa vốn giá vàng sjc_eximbank mỹ lãi_suất arfasync push kxgtakp bình_luận gửi bình_luận quan_tâm nhất mới nhất xem thêm bình_luận\n",
      "\t6.342\tgiá vàng hôm_nay lạ_đời chênh_lệch mua_bán vàng nhẫn cao hơn miếng an yến gmt giá vàng sáng trong nước đi ngang dù thế_giới giảm nhẹ phiên cuối tuần arfasync push k911czvz sáng giá vàng miếng sjc được công_ty vàng_bạc đá_quý sài_gòn sjc mua vào triệu đồng lượng và bán ra triệu đồng lượng giữ nguyên như hôm_qua tương_tự vàng nhẫn số cũng duy_trì giá_mua vào triệu đồng lượng nhưng giảm đồng ở chiều bán ra xuống triệu đồng lượng _đáng ngạc_nhiên khi hiện_nay chênh_lệch giữa giá_mua và bán vàng nhẫn do sjc_đẩy lên sát triệu đồng lượng trong khi khoảng_cách này của vàng miếng lại giảm xuống còn đồng lượng chênh_lệch giữa mua_bán vàng nhẫn đã tăng gấp lần so với cuối năm qua chênh_lệch mua_bán vàng nhẫn cao hơn nhiều so với vàng miếng độc_lập chuyện lạ chênh_lệch mua_bán vàng nhẫn đang cao hơn vàng miếng giá vàng thế_giới chốt phiên cuối tuần ở mức usd ounce giảm nhẹ so với hôm_qua quy_đổi tương_đương kim_loại quý thế_giới đang ở mức triệu đồng lượng chưa bao_gồm thuế phí giá usd trên thị_trường quốc_tế tiếp_tục được đẩy lên cao khi giới quan_sát cho rằng nguy_cơ suy_thoái của kinh_tế mỹ đã tăng lên đáng_kể điều này khiến vàng mất đi động_lực gia_tăng _dù_vậy khả_năng tăng lãi_suất của mỹ cùng một_số ngân_hàng trung_ương nhằm kiềm_chế lạm_phát vẫn đang diễn ra khiến nhiều người chọn vàng làm nơi trú_ẩn an_toàn hôm_qua dữ_liệu từ cục thống_kê lao_động mỹ công_bố cho thấy nền kinh_tế nước này đã tạo ra thêm việc_làm trong tháng cao hơn so với dự_báo việc_làm từ dow_jones và tiếp_tục là một năm tăng_trưởng việc_làm mạnh_mẽ lợi_suất trái_phiếu chính_phủ mỹ tăng mạnh sau khi dữ_liệu việc_làm được công_bố nhưng lợi_suất trái_phiếu mỹ kỳ_hạn năm vẫn cao hơn lợi_suất trái_phiếu kỳ_hạn năm một sự đảo_ngược được nhiều người xem là một chỉ báo suy_thoái mặc_dù báo_cáo việc_làm là một dấu_hiệu tích_cực cho tình_hình hiện_tại của nền kinh_tế mỹ nhiều nhà_đầu_tư tin rằng điều đó sẽ cho_phép cục dự_trữ liên_bang mỹ fed quyết_liệt chống lạm_phát bằng cách nâng lãi_suất trong những tháng tới chèn ads giữa bài runinit window.runinit [ ] push function { nếu k chạy ads thì return if typeof _chkprlink undefined _chkprlink return var mutexads < zone id l2srqb > < zone > var content [ data-role content ] if content.length > { var childnodes content [ ] childnodes for i i < childnodes length i { var childnode childnodes [ i ] var isphotoorvideo false if childnode nodename tolowercase div { kiem tra xem co la anh khong ? var type childnode attr class if type indexof _vcsortableinpreviewmode_ > { isphotoorvideo true } } try { if i > childnodes length i < childnodes length isphotoorvideo { if i < childnodes length { childnode after htmltoelement mutexads arfasync push l2srqb } break } } catch e { } } } } function htmltoelement html { var template document createelement template template innerhtml html return template.content firstchild } function d a b l e _ { if d [ b ] d [ b ] q return d [ b ] function { d [ b ] q d [ b ] q [ ] push arguments } e a createelement l e.async e.charset utf e.src static.dable.io/dist/plugin.min.js _ a getelementsbytagname l [ ] _ parentnode insertbefore e _ } window document dable script dable setservice thanhnien.vn/inarticle dable sendlogonce dable renderwidget dablewidget_qxedqqel tin liên_quan giá vàng hôm_nay nữ_trang giảm mạnh đồng dù vàng miếng bật tăng_giá vàng sáng hồi_phục từ mức thấp khi nhà_đầu_tư gia tăng_lực mua vào giá vàng hôm_nay giảm đồng nhưng vẫn cao hơn thế_giới triệu đồng_giá vàng hôm_nay sụt giảm trước sức_mạnh của usd giá vàng giá vàng hôm_nay vàng miếng sjc_sjc_đẩy lên_giá_mua phiên cuối tuần nhẫn arfasync push kxgtakp bình_luận gửi bình_luận quan_tâm nhất mới nhất xem thêm bình_luận\n"
     ]
    }
   ],
   "source": [
    "search(query = \"Giá kim loại, vàng miếng hôm nay ?\")"
   ]
  }
 ],
 "metadata": {
  "kernelspec": {
   "display_name": "Python 3",
   "language": "python",
   "name": "python3"
  },
  "language_info": {
   "codemirror_mode": {
    "name": "ipython",
    "version": 3
   },
   "file_extension": ".py",
   "mimetype": "text/x-python",
   "name": "python",
   "nbconvert_exporter": "python",
   "pygments_lexer": "ipython3",
   "version": "3.10.3"
  },
  "orig_nbformat": 4
 },
 "nbformat": 4,
 "nbformat_minor": 2
}

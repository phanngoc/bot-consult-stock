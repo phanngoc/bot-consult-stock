{
 "cells": [
  {
   "cell_type": "markdown",
   "metadata": {},
   "source": [
    "# Training thêm data cho sentence bert.\n",
    "Bài toán sử dụng là dùng text, price tăng hay giảm của gía cổ phiếu ngày hôm đó, từ đó mapping được độ tương quan giữa đoạn text và các cụm từ \"giá chứng khoán tăng\"\n",
    "- label > 0.5 => Bài viết có xu hướng thiên về giá chứng khoán tăng.\n",
    "- label < 0.5 => Bài viết có xu hướng thiên về giá chứng khoán giảm. \n",
    "\n",
    "VD:\n",
    "    text| percentage_increase | text_compare\n",
    "    \"Fed tiếp tục chính sách nâng lãi suất\" | 0.3 | \"giá chứng khoán tăng\"\n",
    "    \"Nhật nới lỏng chính sách tiền tệ\" | 0.7 | \"giá chứng khoán tăng\"\n",
    "\n",
    "\n",
    "Dùng code từ file:\n",
    "https://github.com/UKPLab/sentence-transformers/blob/master/examples/applications/retrieve_rerank/retrieve_rerank_simple_wikipedia.ipynb\n",
    "\n"
   ]
  },
  {
   "cell_type": "code",
   "execution_count": 5,
   "metadata": {},
   "outputs": [],
   "source": [
    "# We also compare the results to lexical search (keyword search). Here, we use \n",
    "# the BM25 algorithm which is implemented in the rank_bm25 package.\n",
    "\n",
    "from sklearn.feature_extraction import _stop_words\n",
    "import string\n",
    "from tqdm.autonotebook import tqdm\n",
    "import numpy as np\n",
    "import json\n",
    "from sentence_transformers import SentenceTransformer, CrossEncoder, util\n",
    "import gzip\n",
    "import os\n",
    "import torch\n"
   ]
  },
  {
   "cell_type": "code",
   "execution_count": 51,
   "metadata": {},
   "outputs": [
    {
     "name": "stderr",
     "output_type": "stream",
     "text": [
      "/Users/ngocp/Documents/projects/pyml/botapp/algorithm/regress_adapter.py:23: UserWarning: pandas only supports SQLAlchemy connectable (engine/connection) or database string URI or sqlite3 DBAPI2 connection. Other DBAPI2 objects are not tested. Please consider using SQLAlchemy.\n",
      "  df = pd.read_sql(query, connection)\n"
     ]
    },
    {
     "name": "stdout",
     "output_type": "stream",
     "text": [
      "                                                   text  percentage_increase  \\\n",
      "3774  Licogi 14 (L14) “bơm” thêm 214 tỷ đồng đầu tư ...            -1.770231   \n",
      "3773  Dạo quanh miền duyên hải Việt Nam với các đại ...            -1.770231   \n",
      "3772  VNDirect: Thị trường đã tạo đáy thành công, đị...             0.000000   \n",
      "3771  Bất ngờ doanh nghiệp huy động vốn ngàn tỉ qua ...             0.000000   \n",
      "3770  Giá Bitcoin giảm gần 40% so với đỉnh cao\\n\\n\\n...             0.000000   \n",
      "\n",
      "          date_y  \n",
      "3774  2022-01-05  \n",
      "3773  2022-01-05  \n",
      "3772  2022-01-06  \n",
      "3771  2022-01-06  \n",
      "3770  2022-01-06  \n"
     ]
    }
   ],
   "source": [
    "import pandas as pd\n",
    "from regress_adapter import get_data, get_data_tendency\n",
    "\n",
    "data = get_data_tendency('TPB', '2022-01-01', '2023-09-29')\n",
    "print(data.head())\n"
   ]
  },
  {
   "cell_type": "code",
   "execution_count": 16,
   "metadata": {},
   "outputs": [
    {
     "name": "stdout",
     "output_type": "stream",
     "text": [
      "'float' object has no attribute 'decode'\n",
      "'float' object has no attribute 'decode'\n",
      "'float' object has no attribute 'decode'\n",
      "'float' object has no attribute 'decode'\n",
      "'float' object has no attribute 'decode'\n",
      "'float' object has no attribute 'decode'\n",
      "'float' object has no attribute 'decode'\n",
      "'float' object has no attribute 'decode'\n",
      "3602    Licogi 14 ( L14 ) “ bơm ” thêm 214 tỷ đồng đầu...\n",
      "3601    Dạo quanh miền duyên_hải Việt_Nam với các đại ...\n",
      "3600    VNDirect : Thị_trường đã tạo đáy thành_công , ...\n",
      "3599    Bất_ngờ doanh_nghiệp huy_động vốn ngàn tỉ qua ...\n",
      "3598    Giá Bitcoin giảm gần 40 % so với đỉnh cao_An Y...\n",
      "Name: text_filter, dtype: object\n"
     ]
    }
   ],
   "source": [
    "# # use undersea to tokenize data_list to array sentence\n",
    "# from underthesea import sent_tokenize, word_tokenize\n",
    "\n",
    "# def token_sent(t):\n",
    "#     try:\n",
    "#         a = word_tokenize(t, format=\"text\")\n",
    "#         a = a.split()\n",
    "#         a = [str(x.strip()) for x in a]\n",
    "#     except Exception as e:\n",
    "#         print(e)\n",
    "#         a = []\n",
    "\n",
    "#     return ' '.join(a)\n",
    "\n",
    "# data['text_filter'] = data['text'].apply(token_sent)\n",
    "# print(data['text_filter'].head())"
   ]
  },
  {
   "cell_type": "code",
   "execution_count": 21,
   "metadata": {},
   "outputs": [
    {
     "name": "stdout",
     "output_type": "stream",
     "text": [
      "cleaned_sentence The price of the product is $, and it weighs  kg.\n",
      "Exception and wrong sentence: expected string or bytes-like object nan\n",
      "Exception and wrong sentence: expected string or bytes-like object nan\n",
      "Exception and wrong sentence: expected string or bytes-like object nan\n",
      "Exception and wrong sentence: expected string or bytes-like object nan\n",
      "Exception and wrong sentence: expected string or bytes-like object nan\n",
      "Exception and wrong sentence: expected string or bytes-like object nan\n",
      "Exception and wrong sentence: expected string or bytes-like object nan\n",
      "Exception and wrong sentence: expected string or bytes-like object nan\n",
      "3602    Licogi 14 (L14) “bơm” thêm 214 tỷ đồng đầu tư ...\n",
      "3601    Dạo quanh miền duyên hải Việt Nam với các đại ...\n",
      "3600    VNDirect: Thị trường đã tạo đáy thành công, đị...\n",
      "3599    Bất ngờ doanh nghiệp huy động vốn ngàn tỉ qua ...\n",
      "3598    Giá Bitcoin giảm gần 40% so với đỉnh cao\\n\\n\\n...\n",
      "Name: text_filter_float, dtype: object\n"
     ]
    }
   ],
   "source": [
    "from nis import cat\n",
    "import re\n",
    "\n",
    "def exclude_floats(sentence):\n",
    "    # Regular expression to match float values\n",
    "    float_pattern = r\"\\d+\\.\\d+\"\n",
    "    try:\n",
    "        # Use re.sub to replace matched float values with an empty string\n",
    "        result = re.sub(float_pattern, '', sentence)\n",
    "    except Exception as e:\n",
    "        print(\"Exception and wrong sentence:\", e, sentence)\n",
    "        result = ''\n",
    "    return result\n",
    "\n",
    "# Example usage:\n",
    "# sentence = \"The price of the product is $19.99, and it weighs 2.5 kg.\"\n",
    "# cleaned_sentence = exclude_floats(sentence)\n",
    "# print('cleaned_sentence', cleaned_sentence)\n",
    "\n",
    "# data['text_filter_float'] = data['text'].apply(exclude_floats)\n",
    "# print(data['text_filter_float'].head())"
   ]
  },
  {
   "cell_type": "code",
   "execution_count": 52,
   "metadata": {},
   "outputs": [
    {
     "name": "stdout",
     "output_type": "stream",
     "text": [
      "                                                   text  percentage_increase  \\\n",
      "3774  Licogi 14 (L14) “bơm” thêm 214 tỷ đồng đầu tư ...            -1.770231   \n",
      "3773  Dạo quanh miền duyên hải Việt Nam với các đại ...            -1.770231   \n",
      "3772  VNDirect: Thị trường đã tạo đáy thành công, đị...             0.000000   \n",
      "3771  Bất ngờ doanh nghiệp huy động vốn ngàn tỉ qua ...             0.000000   \n",
      "3770  Giá Bitcoin giảm gần 40% so với đỉnh cao\\n\\n\\n...             0.000000   \n",
      "\n",
      "          date_y  \n",
      "3774  2022-01-05  \n",
      "3773  2022-01-05  \n",
      "3772  2022-01-06  \n",
      "3771  2022-01-06  \n",
      "3770  2022-01-06  \n"
     ]
    }
   ],
   "source": [
    "from math import nan\n",
    "\n",
    "\n",
    "mask = data['text'] != nan\n",
    "data_t = data[mask]\n",
    "print(data_t.head())"
   ]
  },
  {
   "cell_type": "code",
   "execution_count": 54,
   "metadata": {},
   "outputs": [
    {
     "name": "stdout",
     "output_type": "stream",
     "text": [
      "data reshape: [[-1.77023121]\n",
      " [-1.77023121]\n",
      " [ 0.        ]\n",
      " ...\n",
      " [-2.62467192]\n",
      " [-2.62467192]\n",
      " [-2.62467192]]\n",
      "scale_tendency 3774    0.373900\n",
      "3773    0.373900\n",
      "3772    0.500949\n",
      "3771    0.500949\n",
      "3770    0.500949\n",
      "Name: scale_tendency, dtype: float64\n"
     ]
    }
   ],
   "source": [
    "t = data_t['percentage_increase'].values.reshape(-1, 1)\n",
    "print('data reshape:', t)\n",
    "# data_t['movement'] = data_t['percentage_increase'].apply(lambda x: 'chứng khoán giảm' if x < 0 else 'chứng khoán tăng')\n",
    "# print(data_t['movement'].head())\n",
    "\n",
    "from sklearn.preprocessing import MinMaxScaler\n",
    "\n",
    "# Create a MinMaxScaler object\n",
    "scaler = MinMaxScaler(feature_range=(0, 1))\n",
    "\n",
    "# Reshape the \"price\" column because MinMaxScaler expects a 2D array\n",
    "data_t['scale_tendency'] = scaler.fit_transform(data_t['percentage_increase'].values.reshape(-1, 1))\n",
    "print('scale_tendency', data_t['scale_tendency'].head())"
   ]
  },
  {
   "cell_type": "code",
   "execution_count": 55,
   "metadata": {},
   "outputs": [],
   "source": [
    "from sentence_transformers import SentenceTransformer, SentencesDataset, InputExample, losses\n",
    "\n",
    "\n",
    "def is_float(value):\n",
    "  \"\"\"Returns True if the value is a float, False otherwise.\"\"\"\n",
    "  return isinstance(value, float)\n",
    "\n",
    "inputExpTrain = []\n",
    "for index, row in data_t.iterrows():\n",
    "    if is_float(row['text']):\n",
    "        continue\n",
    "\n",
    "    if row['text'].strip() == '':\n",
    "        continue\n",
    "    inputExp = InputExample(texts=[row['text'], 'chứng khoán tăng'], label=row['scale_tendency'])\n",
    "    inputExpTrain.append(inputExp)\n"
   ]
  },
  {
   "cell_type": "code",
   "execution_count": 56,
   "metadata": {},
   "outputs": [
    {
     "data": {
      "application/vnd.jupyter.widget-view+json": {
       "model_id": "f80d21cbdc9d4a55ab5cf6b2398ff3dc",
       "version_major": 2,
       "version_minor": 0
      },
      "text/plain": [
       "Epoch:   0%|          | 0/1 [00:00<?, ?it/s]"
      ]
     },
     "metadata": {},
     "output_type": "display_data"
    },
    {
     "data": {
      "application/vnd.jupyter.widget-view+json": {
       "model_id": "49426b10c5f748a1816eb215bf5d8089",
       "version_major": 2,
       "version_minor": 0
      },
      "text/plain": [
       "Iteration:   0%|          | 0/305 [00:00<?, ?it/s]"
      ]
     },
     "metadata": {},
     "output_type": "display_data"
    }
   ],
   "source": [
    "from sentence_transformers import SentenceTransformer, SentencesDataset, InputExample, losses\n",
    "from torch.utils.data import DataLoader\n",
    "\n",
    "# Load the pre-trained model\n",
    "model = SentenceTransformer('nli-distilroberta-base-v2')\n",
    "\n",
    "#Define your train dataset, the dataloader and the train loss\n",
    "train_dataloader = DataLoader(inputExpTrain, shuffle=True, batch_size=16)\n",
    "train_loss = losses.CosineSimilarityLoss(model)\n",
    "\n",
    "#Tune the model\n",
    "model.fit(train_objectives=[(train_dataloader, train_loss)], epochs=1, warmup_steps=100)\n"
   ]
  },
  {
   "cell_type": "code",
   "execution_count": 57,
   "metadata": {},
   "outputs": [],
   "source": [
    "model.save('./data/model_tendency')"
   ]
  },
  {
   "cell_type": "code",
   "execution_count": 58,
   "metadata": {},
   "outputs": [
    {
     "name": "stdout",
     "output_type": "stream",
     "text": [
      "tendency (5, 768)\n",
      "tensor([[0.5333],\n",
      "        [0.5375],\n",
      "        [0.5060],\n",
      "        [0.4872],\n",
      "        [0.4714]])\n"
     ]
    }
   ],
   "source": [
    "from sentence_transformers import util\n",
    "\n",
    "sent_test = [\n",
    "    '1,4 tỷ dân Trung Quốc cũng không ở hết tất cả nhà bỏ hoang',\n",
    "    'Quan chức Fed: Sẽ còn ít nhất 1 đợt nâng lãi suất',\n",
    "    'ASP làm gì để cổ phiếu ra khỏi diện cảnh báo',\n",
    "    'Cổ phiếu chứng khoán, bất động sản “tan nát” dù xuất hiện dòng tiền bắt đáy',\n",
    "    'Phiên giảm mạnh của chứng khoán và bất động diễn ra sau khi có thông tin NHNN bắt đầu rút lại thanh khoản trong nền kinh tế trong ngày 21/09. Ngoài ra, hai nhóm cổ phiếu mang nặng tính đầu cơ này đã leo dốc rất mạnh trong thời gian qua và là trụ cột chính cho đà tăng của thị trường',\n",
    "]\n",
    "t = model.encode(sent_test)\n",
    "t1 = model.encode('chứng khoán tăng')\n",
    "print('tendency', t.shape)\n",
    "\n",
    "# We use cosine-similarity and torch.topk to find the highest 5 scores\n",
    "cos_scores = util.cos_sim(t, t1)\n",
    "print(cos_scores)"
   ]
  }
 ],
 "metadata": {
  "kernelspec": {
   "display_name": "Python 3",
   "language": "python",
   "name": "python3"
  },
  "language_info": {
   "codemirror_mode": {
    "name": "ipython",
    "version": 3
   },
   "file_extension": ".py",
   "mimetype": "text/x-python",
   "name": "python",
   "nbconvert_exporter": "python",
   "pygments_lexer": "ipython3",
   "version": "3.10.3"
  },
  "orig_nbformat": 4
 },
 "nbformat": 4,
 "nbformat_minor": 2
}

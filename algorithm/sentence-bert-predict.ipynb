{
 "cells": [
  {
   "cell_type": "markdown",
   "metadata": {},
   "source": [
    "# Bài toán dự đoán khuynh hướng giá stock dựa trên model đã build trước đó.\n",
    "\n",
    "Bài toán sử dụng là dùng text, price tăng hay giảm của gía cổ phiếu ngày hôm đó, từ đó mapping được độ tương quan giữa đoạn text và các cụm từ \"giá chứng khoán tăng\"\n",
    "- label > 0.5 => Bài viết có xu hướng thiên về giá chứng khoán tăng.\n",
    "- label < 0.5 => Bài viết có xu hướng thiên về giá chứng khoán giảm. \n",
    "\n",
    "VD:\n",
    "    text| percentage_increase | text_compare\n",
    "    \"Fed tiếp tục chính sách nâng lãi suất\" | 0.3 | \"giá chứng khoán tăng\"\n",
    "    \"Nhật nới lỏng chính sách tiền tệ\" | 0.7 | \"giá chứng khoán tăng\"\n",
    "\n",
    "\n",
    "\n"
   ]
  },
  {
   "cell_type": "code",
   "execution_count": 2,
   "metadata": {},
   "outputs": [
    {
     "name": "stderr",
     "output_type": "stream",
     "text": [
      "/var/folders/g6/37kt02914kx36yzcbbqfyck00000gn/T/ipykernel_88864/3777221515.py:6: TqdmExperimentalWarning: Using `tqdm.autonotebook.tqdm` in notebook mode. Use `tqdm.tqdm` instead to force console mode (e.g. in jupyter console)\n",
      "  from tqdm.autonotebook import tqdm\n"
     ]
    }
   ],
   "source": [
    "# We also compare the results to lexical search (keyword search). Here, we use \n",
    "# the BM25 algorithm which is implemented in the rank_bm25 package.\n",
    "\n",
    "from sklearn.feature_extraction import _stop_words\n",
    "import string\n",
    "from tqdm.autonotebook import tqdm\n",
    "import numpy as np\n",
    "import json\n",
    "from sentence_transformers import SentenceTransformer, CrossEncoder, util\n",
    "import gzip\n",
    "import os\n",
    "import torch\n"
   ]
  },
  {
   "cell_type": "code",
   "execution_count": 3,
   "metadata": {},
   "outputs": [],
   "source": [
    "# load model pretrained\n",
    "model = SentenceTransformer('./data/model_tendency')"
   ]
  },
  {
   "cell_type": "code",
   "execution_count": 4,
   "metadata": {},
   "outputs": [
    {
     "name": "stdout",
     "output_type": "stream",
     "text": [
      "tendency (6, 768)\n",
      "tensor([[0.5333],\n",
      "        [0.5375],\n",
      "        [0.4498],\n",
      "        [0.4872],\n",
      "        [0.4714],\n",
      "        [0.4750]])\n"
     ]
    }
   ],
   "source": [
    "from sentence_transformers import util\n",
    "\n",
    "sent_test = [\n",
    "    '1,4 tỷ dân Trung Quốc cũng không ở hết tất cả nhà bỏ hoang',\n",
    "    'Quan chức Fed: Sẽ còn ít nhất 1 đợt nâng lãi suất',\n",
    "    'Lệnh cấm xuất khẩu xăng dầu của Nga sẽ ảnh hưởng ra sao đến thị trường toàn cầu?',\n",
    "    'Cổ phiếu chứng khoán, bất động sản “tan nát” dù xuất hiện dòng tiền bắt đáy',\n",
    "    'Phiên giảm mạnh của chứng khoán và bất động diễn ra sau khi có thông tin NHNN bắt đầu rút lại thanh khoản trong nền kinh tế trong ngày 21/09. Ngoài ra, hai nhóm cổ phiếu mang nặng tính đầu cơ này đã leo dốc rất mạnh trong thời gian qua và là trụ cột chính cho đà tăng của thị trường',\n",
    "    'Giá vàng thế giới hồi nhẹ, trong nước giữ mốc 69 triệu đồng/lượng',\n",
    "]\n",
    "t = model.encode(sent_test)\n",
    "t1 = model.encode('chứng khoán tăng')\n",
    "print('tendency', t.shape)\n",
    "\n",
    "# We use cosine-similarity and torch.topk to find the highest 5 scores\n",
    "cos_scores = util.cos_sim(t, t1)\n",
    "print(cos_scores)"
   ]
  },
  {
   "cell_type": "markdown",
   "metadata": {},
   "source": [
    "Chúng ta lấy data tin tức từ database để thực hiện việc dự đoán."
   ]
  },
  {
   "cell_type": "code",
   "execution_count": 10,
   "metadata": {},
   "outputs": [
    {
     "name": "stdout",
     "output_type": "stream",
     "text": [
      "                                               title  \\\n",
      "0     Các huyện ngoại thành 'đua nhau' lên thành phố   \n",
      "1     20/09: Đọc gì trước giờ giao dịch chứng khoán?   \n",
      "2                Cổ phiếu Novaland bất ngờ tăng trần   \n",
      "3  Công ty CP Vinam Land nói gì về việc huy động ...   \n",
      "4  Các huyện ngoại thành 'đua nhau' lên thành phố...   \n",
      "\n",
      "                                             content                date  \n",
      "0  \\n\\n\\n\\n\\n\\n\\n\\n\\n\\n\\n\\n\\nHà Mai\\n-\\nĐình Sơn\\... 2023-09-20 06:33:00  \n",
      "1  Cùng điểm lại những tin tức tài chính kinh tế ... 2023-09-20 06:21:51  \n",
      "2  \\n\\n\\n\\n\\nTIN MỚI\\n\\n\\n\\n\\n  Mở cửa phiên giao... 2023-09-20 16:36:00  \n",
      "3  \\n\\n\\n\\n\\nTIN MỚI\\n\\n\\n\\n\\nSáng 20-9, ông Nguy... 2023-09-20 07:45:00  \n",
      "4  \\n\\n\\n\\n\\n\\n\\n\\n\\n\\n\\n\\n\\nHà Mai\\n-\\nĐình Sơn\\... 2023-09-21 06:35:00  \n"
     ]
    },
    {
     "name": "stderr",
     "output_type": "stream",
     "text": [
      "/Users/ngocp/Documents/projects/pyml/botapp/algorithm/regress_adapter.py:28: UserWarning: pandas only supports SQLAlchemy connectable (engine/connection) or database string URI or sqlite3 DBAPI2 connection. Other DBAPI2 objects are not tested. Please consider using SQLAlchemy.\n",
      "  def get_data(stock, date_start, date_end, export_url=None):\n"
     ]
    }
   ],
   "source": [
    "# reload package \n",
    "\n",
    "import pandas as pd\n",
    "import regress_adapter\n",
    "import importlib\n",
    "importlib.reload(regress_adapter)\n",
    "\n",
    "data = regress_adapter.get_news_date('2023-09-20')\n",
    "print(data.head())"
   ]
  },
  {
   "cell_type": "code",
   "execution_count": 11,
   "metadata": {},
   "outputs": [
    {
     "name": "stdout",
     "output_type": "stream",
     "text": [
      "sentence embedding: [[ 0.07148299  0.05996135  0.02567843 ... -0.2907116   0.05045697\n",
      "   0.02025556]\n",
      " [ 0.03870054  0.03300888  0.02753336 ... -0.27316827  0.09998763\n",
      "  -0.09441629]]\n",
      "cos_scores: với cụm từ trên: tensor([[0.4528],\n",
      "        [0.4782]])\n",
      "câu thứ:0 :Chứng khoán Đông Á - Thành viên của ngân hàng Đông Á, một trong những ngân hàng cổ phần lớn nhất nướ tensor([[0.5247]])\n",
      "câu thứ:1 : Kinh tế Ukraine tăng trưởng gần 20%\n",
      "Số liệu do Cơ quan Thống kê Nhà nước Ukraine mới công bố. Tăng  tensor([[0.5144]])\n",
      "câu thứ:2 :Giá vàng hôm nay 20.9.2023: Vàng nhẫn tăng khoảng 4 triệu đồng/lượng\n",
      "\n",
      "\n",
      "\n",
      "\n",
      "\n",
      "\n",
      "\n",
      "Thanh Xuân\n",
      "-  xuanthanhn tensor([[0.5129]])\n",
      "câu thứ:3 : FPT Telecom lọt top 10 doanh nghiệp số xuất sắc\n",
      "Lễ vinh danh và trao chứng nhận \"Top 10 doanh nghiệ tensor([[0.5042]])\n",
      "câu thứ:4 :Chứng khoán Thành Công làm cổ đông lớn tại In Sách Giáo khoa Hòa PhátCTCP Chứng khoán Thành Công (UP tensor([[0.4996]])\n"
     ]
    }
   ],
   "source": [
    "import torch\n",
    "\n",
    "# We use cosine-similarity and torch.topk to find the highest 5 scores\n",
    "def predict_relavency(sent = [], query = '', topk = 5):\n",
    "    t = model.encode(sent)\n",
    "    print('sentence embedding:', t[:2])\n",
    "    t1 = model.encode(query)\n",
    "    cos_scores = util.cos_sim(t, t1)\n",
    "    print('cos_scores: với cụm từ trên:', cos_scores[:2])\n",
    "\n",
    "    topk_values, topk_indices = torch.topk(cos_scores, k=topk, dim=0)\n",
    "    return [(sent[i[0]], cos_scores[i]) for i in topk_indices]\n",
    "\n",
    "data_test = (data['title'] + data['content']).values.tolist()\n",
    "\n",
    "pred = predict_relavency(data_test, 'chứng khoán tăng', 5)\n",
    "for (index, c) in enumerate(pred):\n",
    "    print(\"câu thứ:\" + str(index) + \" :\" + c[0][:100], c[1])"
   ]
  }
 ],
 "metadata": {
  "kernelspec": {
   "display_name": "Python 3",
   "language": "python",
   "name": "python3"
  },
  "language_info": {
   "codemirror_mode": {
    "name": "ipython",
    "version": 3
   },
   "file_extension": ".py",
   "mimetype": "text/x-python",
   "name": "python",
   "nbconvert_exporter": "python",
   "pygments_lexer": "ipython3",
   "version": "3.10.3"
  },
  "orig_nbformat": 4
 },
 "nbformat": 4,
 "nbformat_minor": 2
}

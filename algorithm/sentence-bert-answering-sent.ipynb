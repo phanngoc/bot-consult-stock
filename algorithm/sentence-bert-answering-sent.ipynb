{
 "cells": [
  {
   "cell_type": "markdown",
   "metadata": {},
   "source": [
    "# Dùng sentence bert cho bài toán searching dùng embedding (Question Answering).\n",
    "\n",
    "## Các bước thực hiện:\n",
    "\n",
    "1. Load data từ database, dùng underthesea để tách câu.\n",
    "2. Dùng sentence bert (bi-encoder) để tạo embedding cho toàn bộ câu bóc tách. \n",
    "3. Compare embedding của câu hỏi với embedding của các câu bóc tách, lấy ra top k câu có embedding gần nhất.\n",
    "4. Dùng cross encoder để lấy ra 3 câu match nhất với câu hỏi.\n",
    "5. Load ra 3 câu sau mỗi câu match đúng nhất.\n",
    "\n",
    "- Dùng code từ file:\n",
    "\n",
    "https://github.com/UKPLab/sentence-transformers/blob/master/examples/applications/retrieve_rerank/retrieve_rerank_simple_wikipedia.ipynb\n",
    "\n",
    "- Document để hiểu hơn về bài toán:\n",
    "https://aclanthology.org/2022.emnlp-industry.16.pdf\n",
    "\n",
    "\n",
    "![Bi encoder and cross encoder](images/bi-encoder.png)"
   ]
  },
  {
   "cell_type": "code",
   "execution_count": 29,
   "metadata": {},
   "outputs": [],
   "source": [
    "# We also compare the results to lexical search (keyword search). Here, we use \n",
    "# the BM25 algorithm which is implemented in the rank_bm25 package.\n",
    "\n",
    "from sklearn.feature_extraction import _stop_words\n",
    "import string\n",
    "from tqdm.autonotebook import tqdm\n",
    "import numpy as np\n",
    "import json\n",
    "from sentence_transformers import SentenceTransformer, CrossEncoder, util\n",
    "import gzip\n",
    "import os\n",
    "import torch\n",
    "import pickle\n",
    "import pandas as pd\n",
    "\n",
    "from importlib import reload\n",
    "import helper\n",
    "reload(helper)\n",
    "from regress_adapter import get_data\n"
   ]
  },
  {
   "cell_type": "code",
   "execution_count": 3,
   "metadata": {},
   "outputs": [],
   "source": [
    "# This function will search all wikipedia articles for passages that\n",
    "# answer the query\n",
    "\n",
    "bi_encoder = SentenceTransformer('multi-qa-MiniLM-L6-cos-v1')\n",
    "bi_encoder.max_seq_length = 256     #Truncate long passages to 256 tokens\n",
    "top_k = 32                          #Number of passages we want to retrieve with the bi-encoder"
   ]
  },
  {
   "cell_type": "code",
   "execution_count": 4,
   "metadata": {},
   "outputs": [],
   "source": [
    "#The bi-encoder will retrieve 100 documents. We use a cross-encoder, to re-rank the results list to improve the quality\n",
    "cross_encoder = CrossEncoder('cross-encoder/ms-marco-MiniLM-L-6-v2')"
   ]
  },
  {
   "cell_type": "code",
   "execution_count": 5,
   "metadata": {},
   "outputs": [
    {
     "name": "stderr",
     "output_type": "stream",
     "text": [
      "/Users/ngocp/Documents/projects/pyml/botapp/algorithm/regress_adapter.py:28: UserWarning: pandas only supports SQLAlchemy connectable (engine/connection) or database string URI or sqlite3 DBAPI2 connection. Other DBAPI2 objects are not tested. Please consider using SQLAlchemy.\n",
      "  df = pd.read_sql(query, connection)\n"
     ]
    },
    {
     "name": "stdout",
     "output_type": "stream",
     "text": [
      "                                                   text  close      date_y\n",
      "3778  VNDIRECT: Hầu hết giá cổ phiếu của dệt may hiệ...  27680  2022-01-04\n",
      "3777  Cách tốt nhất để các nhà đầu tư bảo vệ mình kh...  27680  2022-01-04\n",
      "3776  Đảng uỷ cơ quan Uỷ ban Chứng khoán Nhà nước: S...  27680  2022-01-04\n",
      "3775  Truyền hình K+ tặng đầu thu miễn phí đón ‘Tết ...  27680  2022-01-04\n",
      "3774  Licogi 14 (L14) “bơm” thêm 214 tỷ đồng đầu tư ...  27190  2022-01-05\n"
     ]
    }
   ],
   "source": [
    "\n",
    "data = get_data('TPB', '2022-01-01', '2023-09-29')\n",
    "print(data.head())"
   ]
  },
  {
   "cell_type": "code",
   "execution_count": 34,
   "metadata": {},
   "outputs": [],
   "source": [
    "\n",
    "def clear_text_vi(texts = []):\n",
    "    def split_sentences(text):\n",
    "        try:\n",
    "            sents = helper.NLP(text).split_sentences()\n",
    "        except Exception as e:\n",
    "            print('Error:', e, text)\n",
    "            sents = []\n",
    "        sents_1 = [sent for sent in sents if sent.strip() != \"\"]\n",
    "        return sents_1\n",
    "\n",
    "    t = map(split_sentences, texts)\n",
    "    return list(t)\n",
    "\n",
    "def flatten_list(l):\n",
    "    return [item for sublist in l for item in sublist]"
   ]
  },
  {
   "cell_type": "code",
   "execution_count": 19,
   "metadata": {},
   "outputs": [
    {
     "name": "stdout",
     "output_type": "stream",
     "text": [
      "Error: expected string or bytes-like object nan\n",
      "Error: expected string or bytes-like object nan\n",
      "Error: expected string or bytes-like object nan\n",
      "Error: expected string or bytes-like object nan\n",
      "Error: expected string or bytes-like object nan\n",
      "Error: expected string or bytes-like object nan\n",
      "Error: expected string or bytes-like object nan\n",
      "Error: expected string or bytes-like object nan\n",
      "Error: expected string or bytes-like object nan\n",
      "Error: expected string or bytes-like object nan\n"
     ]
    }
   ],
   "source": [
    "data_list = data['text'].values.tolist()\n",
    "sent = clear_text_vi(data_list)"
   ]
  },
  {
   "cell_type": "code",
   "execution_count": 22,
   "metadata": {},
   "outputs": [
    {
     "name": "stdout",
     "output_type": "stream",
     "text": [
      "5004 [['VNDIRECT: Hầu hết giá cổ phiếu của dệt may hiện đang gần với giá trị hợp lý, động lực tăng trưởng đến từ nhiều dự án khu công nghiệp\\n\\n\\n\\n\\r\\n                    TNG&MSH&STK&ADS&GIL&TCM&VGT: \\n\\n\\n\\n\\nGiá hiện tại\\n\\n\\n\\n\\nThay đổi\\n\\n\\n\\n\\n\\n\\n\\nXem hồ sơ doanh nghiệp \\n\\n\\n\\n\\nTIN MỚI\\n\\n\\n\\n\\nNhiều mã cổ phiếu dệt may tăng mạnhTheo phân tích mới đây từ Trung tâm Thông tin công nghiệp và thương mại (Bộ Công thương), năm 2021, ngành dệt may Việt Nam đã về đích với 39 tỷ USD kim ngạch xuất khẩu, tăng 11,2% so với năm 2020, tương đương với thời điểm trước dịch (năm 2019).', 'Nhiều doanh nghiệp dệt may có KQKD tăng trưởng ấn tượng: Theo ước tính của VNDIRECT, tổng doanh thu Q4/21 của các công ty dệt may niêm yết tăng 24,1% svck, trong khi LN ròng của ngành tăng 57,0% svck trong Q4/21, cao hơn 82,0% so với Q3/21.', 'Các doanh nghiệp có mức tăng trưởng LN ấn tượng phải kể đến ADS (+ 303,2% svck), VGT (+ 161,4% svck) và STK (+ 92,9% svck).So với thời điểm dịch Covid-19 lần thứ tư bùng phát (tháng 7/2021), nhiều mã cổ phiếu dệt may bật tăng mạnh, TNG (+ 131,76%), EVE (+62,62%), MSH (+64,62%), VGT (+80,85%), ADS (+76,1%), STK (+66,15%).Mức tăng trưởng này đến từ sự phục hồi trong Quý IV/2021, sau thời gian dài ảnh hưởng bởi giãn cách xã hội trong Quý III/2021.', 'Xuất khẩu vải và hàng may mặc trong Quý IV/2021 tăng 21,6% svck lên 9,5 tỷ USD.', 'Nguồn: MOIT, VNDIRECT ResearchHưởng lợi từ chiến tranh thương mại Mỹ-TrungViệt Nam còn được hưởng lợi từ việc dịch chuyển các đơn hàng vải, may mặc và xơ sợi từ Trung Quốc do chiến tranh thương mại Mỹ-Trung.', 'Tháng 12/2021, tổng thống Joe Biden ký sắc lệnh cấm nhập khẩu sợi từ Tân Cương (Trung Quốc), VNDIRECT kỳ vọng các doanh nghiệp sản xuất sợi như ADS, STK,VGT được hưởng lợi từ miếng bánh Tân Cương.', 'Đặc biệt, trong năm 2021, Việt Nam đã vượt qua Hàn Quốc, trở thành nước xuất khẩu xơ sợi lớn thứ 6 trên thế giới, với tổng giá trị xuất khẩu sợi đạt 5,6 tỷ USD vào năm 2021 (+ 50,8% svck).Nguồn: MOIT, VNDIRECT ResearchThị trường mỹ và EU phục hồiHiện tại, Mỹ vẫn là thị trường xuất khẩu lớn nhất của ngành dệt may Việt Nam.', 'Theo thống kê từ Tổng cục Hải quan, xuất khẩu hàng dệt may của Việt Nam sang thị trường Mỹ tháng 01/2022 đạt 1,85 tỷ USD, tăng 2% so với tháng 12/2021 và tăng 42% so với tháng 01/2021.Theo Liên đoàn Dệt may Châu Âu (Euratex), ngành dệt may EU tiếp tục chứng kiến sự phục hồi sau COVID-19.', 'Cụ thể, giá trị sản lượng dệt may đã trở lại mức trước đại dịch vào cuối T11/ 2021.Thời điểm hiện tại, nhiều doanh nghiệp đã nhận được các đơn hàng đến quý III/2022, tỷ lệ tiêm chủng vaccine của cả nước đạt hơn 81% giúp các doanh nghiệp có thể đảm bảo nguồn cung lao động, hoạt động tối đa công suất.Thị trường xuất khẩu ngành dệt may Việt NamVNDIRECT kỳ vọng cho thuê bất động sản KCN sẽ là động lực tăng trưởng doanh thu chính của một số công ty dệt may trong năm 2022Các doanh nghiệp dệt may như GIL, ADS, TCM, TNG đã mở rộng kinh doanh sang lĩnh vực bất động sản (BĐS) và BĐS khu công nghiệp.', 'VNDIRECT kỳ vọng mảng kinh doanh mới sẽ hỗ trợ các doanh nghiệp duy trì tăng trưởng lợi nhuận trong giai đoạn 2022-25.VNDIRECT cho rằng hầu hết giá cổ phiếu của dệt may hiện đang gần với giá trị hợp lý và nhà đầu tư nên có chọn lọc, tập trung đầu tư vào các doanh nghiệp đầu ngành và có kế hoạch mở rộng công suất nhà máy trong 2022-25.VNDIRECT lựa chọn 2 doanh nghiệp STK và MSH vì tiềm năng tăng trưởng từ các dự án Unitex và SH10.', 'Cụ thể, VNDIRECT kỳ vọng lợi nhuận STK sẽ tăng 90,4% svck trong năm 2021 và đạt CAGR 37,0% trong giai đoạn 2021-23.', 'Phân khúc sợi tái chế trong năm 2022 sẽ đặc biệt hưởng lợi từ sự phục hồi nhu cầu của thị trường nội địa và tình hình thiếu điện ở Trung Quốc.', 'Nhà máy Unitex giai đoạn 1 sẽ đi vào hoạt động thương mại trong Q1/23 nâng tổng sản lượng tiêu thụ trong năm dự kiến đạt 76.800 tấn/năm để đáp ứng nhu cầu ngày càng tăng đối với sợi tái chế và sợi nguyên sinh.Đối với MSH, VNDIRECT kỳ vọng doanh nghiệp sẽ tiếp tục duy trì triển vọng tích cực trong 2022-2023 nhờ lượng đơn đặt hàng từ các khách hàng Mỹ tăng trở lại và nhà máy SH10 sẽ giúp doanh thu FOB tăng trưởng 15%/20% svck trong 2022/23.', 'MSH đã bán các khoản phải thu từ New York & Company với giá trị thu hồi là 80 tỷ đồng.BSC: 2022 sẽ là năm của những doanh nghiệp Dệt may tăng trưởng cả mảng kinh doanh cốt lõi và \"lấn sân\" đầu tư bất động sản\\nhttps://cafef.vn/vndirect-hau-het-gia-co-phieu-cua-det-may-hien-dang-gan-voi-gia-tri-hop-ly-dong-luc-tang-truong-den-tu-nhieu-du-an-khu-cong-nghiep-20220331123159622.chn'], ['Cách tốt nhất để các nhà đầu tư bảo vệ mình khỏi hành vi thao túng thị trường là gì?', 'TIN MỚI\\n\\n\\n\\n\\nTheo Seeking Alpha (Mỹ), các nhà đầu tư cần bình tĩnh và nên đầu tư dài hạn để tránh được rủi ro do thao túng thị trường chứng khoán gây ra.Bên cạnh đó, theo Tập đoàn dịch vụ tài chính đa quốc gia Nasdaq (Mỹ), cách tốt nhất để các nhà đầu tư bảo vệ mình khỏi thao túng thị trường chứng khoán đó là đầu tư dài hạn.', 'Các nhà đầu tư cần hiểu được các kiểu thao túng thị trường để từ đó đưa ra quyết định đầu tư tốt hơn.Theo Investopedia, có 5 cách để thao túng thị trường chứng khoán.', 'Trên thực tế, thao túng đang diễn ra tràn lan trên thị trường chứng khoán ngày nay.', 'Hiểu được cách thức thao túng thị trường sẽ giúp cho nhà đầu tư có lợi thế hơn và kiếm được lời nhiều hơn.Fake News (tin tức giả)Đây là phương thức truyền bá thông tin sai lệch, gây hiểu lầm về một công ty.', 'Thông thường, thông tin giả được sử dụng bởi các nhà đầu tư trên thị trường chứng khoán lâu năm có độ am hiểu về phương tiện truyền thông.', 'Một số nhà đầu tư cố gắng truyền bá những tin tức giả mạo về một công ty hoặc thậm chí toàn bộ thị trường để làm thị trường đi theo hướng có lợi cho mình.Chính vì thế, các nhà đầu tư cá nhân cần phải xác minh kỹ nguồn thông tin trước khi quyết định là cách tốt nhất để tránh khỏi sự thao túng này.', 'Theo Nasdaq, có một cách có thể kiếm lời từ những thông tin giả đó là đợi cổ phiếu tăng đột biến cao hơn hoặc thấp hơn dựa trên những tin tức giả, sau đó tham gia giao dịch theo hướng ngược lại.Pump And Dump (bơm và xả)Đây là phương thức dùng để mua một lượng cổ phiếu lớn khiến giá và lượng tăng đột biến.', 'Nhờ đó, giá cổ phiếu bị thổi lên vượt hơn rất nhiều giá trị thực, từ đó tạo tín hiệu khiến nhiều nhà đầu tư mua vào.', 'Đến một thời điểm nhất định, người thực hiện bơm giá sẽ bán phần lớn hoặc toàn bộ cổ phiếu của mình để thu lợi.', 'Sau đó, giá cổ phiếu sẽ lao dốc và khi các nhà đầu tư phát hiện ra thì đã muộn, những người mua sau là những người gánh thiệt hại nhiều nhất.Cách để bảo vệ bản thân khỏi những đợt bơm giá và bán phá giá đó là tránh mua các cổ phiếu đang tăng giá quá cao hơn mức bình thường.', 'Trên thực tế, các nhà đầu tư nhỏ có thể kiếm được lời từ việc bơm giá bằng chiến lược thực hiện các giao dịch nghịch xu hướng thịnh hành để kiếm lợi nhuận.Spoofing The Tape (tạo lệnh mua giả)Đây là hình thức mà những người thao túng thị trường sẽ đặt mua một lượng lớn cổ phiếu nhưng lại không có ý định mua thật sự.', 'Từ việc tạo lệnh mua giả, người thao túng tạo ra một cái bẫy khiến các nhà đầu tư khác tưởng chừng như có \"miếng mồi ngon\" và mua/bán theo.Tuy nhiên, sau khi có một lượng lớn người đầu tư mua vào thì những người thao túng thị trường này sẽ rút lệnh mua trước vài giây giao dịch.', 'Sau khi người thao túng kéo lệnh về, thị trường sẽ giảm xuống.', 'Cuối cùng, các nhà đầu tư khác sẽ chịu thua lỗ sau khi rơi vào bẫy.Do đó, theo Investopedia, cách để nhà đầu tư bảo vệ bản thân trong trường hợp này đó là tránh đầu tư ngắn hạn.', 'Bên cạnh đó, theo Nasdaq, những nhà đầu tư tham gia vào thị trường chứng khoán lâu năm sẽ nhận biết được cách thao túng thị tường theo kiểu tạo lệnh giả.', 'Nếu nhà đầu tư thật sự sành sỏi thì có thể kiếm được lợi nhuận mặc dù thị trường đang bị thao túng do tạo lệnh mua giả.Wash Trading (mua và bán cùng một loại mã liên tục và ngay lập tức)Hình thức này diễn ra khi nhà đầu tư lớn thực hiện việc mua và bán cùng một loại mã liên tục và gần như ngay lập tức.', 'Việc mua và bán nhanh chóng làm tăng khối lượng, thu hút các nhà đầu tư bởi khối lượng tăng vọt.', 'Do đó, sẽ có nhiều nhà đầu tư ngắn hạn bị lừa và tạo ra lợi ích cho những người đang thao túng thị trường.Theo Nasdaq, thao túng thị trường bằng việc mua và bán cùng một loại mã liên tục và gần như ngay lập tức sẽ không làm ảnh hưởng đến các nhà đầu tư dài hạn.', 'Chính vì vậy, cách tốt nhất trong trường hợp này vẫn là tập trung đầu tư dài hạn hơn là ngắn hạn.Bear Raiding (sự săn lùng giá xuống)Trong trường hợp này, các nhà đầu tư cấu kết với nhau để đẩy giá cổ phiếu xuống thấp hơn thông qua việc bán khống và lan truyền những tin đồn bất lợi về công ty.', 'Mục đích của phương thức này vẫn là tạo ra một cái bẫy để dụ những nhà đầu tư chưa hiểu rõ các chiêu trò trong thao túng thị trường.Ngoài ra, hành động thao túng sẽ gây hoang mang cho những người lạc quan về thị trường.', 'Từ đó, người thao túng tạo áp lực buộc các nhà đầu tư cá nhân bán tống bán tháo quá mức cho phép để người thao túng có thể thanh lý các hợp đồng bán khống để kiếm lời.Theo Investopedia, trong trường hợp này nếu nhà đầu tư nắm được cách thức hoạt động của thị trường thì hoàn toàn có thể tránh được rủi ro và sinh lời.', '\"Các vụ Nguyễn Phương Hằng, thao túng chứng khoán có tính chất thách thức pháp luật\"\\nhttps://cafef.vn/cach-tot-nhat-de-cac-nha-dau-tu-bao-ve-minh-khoi-hanh-vi-thao-tung-thi-truong-la-gi-20220401091951827.chn']]\n"
     ]
    }
   ],
   "source": [
    "print(len(sent), sent[:2])"
   ]
  },
  {
   "cell_type": "code",
   "execution_count": 25,
   "metadata": {},
   "outputs": [
    {
     "name": "stdout",
     "output_type": "stream",
     "text": [
      "['VNDIRECT: Hầu hết giá cổ phiếu của dệt may hiện đang gần với giá trị hợp lý, động lực tăng trưởng đến từ nhiều dự án khu công nghiệp\\n\\n\\n\\n\\r\\n                    TNG&MSH&STK&ADS&GIL&TCM&VGT: \\n\\n\\n\\n\\nGiá hiện tại\\n\\n\\n\\n\\nThay đổi\\n\\n\\n\\n\\n\\n\\n\\nXem hồ sơ doanh nghiệp \\n\\n\\n\\n\\nTIN MỚI\\n\\n\\n\\n\\nNhiều mã cổ phiếu dệt may tăng mạnhTheo phân tích mới đây từ Trung tâm Thông tin công nghiệp và thương mại (Bộ Công thương), năm 2021, ngành dệt may Việt Nam đã về đích với 39 tỷ USD kim ngạch xuất khẩu, tăng 11,2% so với năm 2020, tương đương với thời điểm trước dịch (năm 2019).', 'Nhiều doanh nghiệp dệt may có KQKD tăng trưởng ấn tượng: Theo ước tính của VNDIRECT, tổng doanh thu Q4/21 của các công ty dệt may niêm yết tăng 24,1% svck, trong khi LN ròng của ngành tăng 57,0% svck trong Q4/21, cao hơn 82,0% so với Q3/21.']\n"
     ]
    }
   ],
   "source": [
    "sent_flat = [item for sent1 in sent for item in sent1]\n",
    "\n",
    "print(sent_flat[:2])"
   ]
  },
  {
   "cell_type": "code",
   "execution_count": 26,
   "metadata": {},
   "outputs": [
    {
     "data": {
      "application/vnd.jupyter.widget-view+json": {
       "model_id": "78d6460f6f1b445b83ad466561dad056",
       "version_major": 2,
       "version_minor": 0
      },
      "text/plain": [
       "Batches:   0%|          | 0/3542 [00:00<?, ?it/s]"
      ]
     },
     "metadata": {},
     "output_type": "display_data"
    },
    {
     "name": "stdout",
     "output_type": "stream",
     "text": [
      "113319\n"
     ]
    }
   ],
   "source": [
    "corpus_embeddings = bi_encoder.encode(sent_flat, convert_to_tensor=True, show_progress_bar=True)\n",
    "print(len(corpus_embeddings))"
   ]
  },
  {
   "cell_type": "code",
   "execution_count": 30,
   "metadata": {},
   "outputs": [],
   "source": [
    "#Store sentences & embeddings on disc\n",
    "with open('./data/sbas-embeddings.pkl', \"wb\") as fOut:\n",
    "    pickle.dump({'sentences': sent_flat, 'embeddings': corpus_embeddings}, fOut, protocol=pickle.HIGHEST_PROTOCOL)"
   ]
  },
  {
   "cell_type": "code",
   "execution_count": null,
   "metadata": {},
   "outputs": [],
   "source": [
    "#Load sentences & embeddings from disc\n",
    "with open('./data/sbas-embeddings.pkl', \"rb\") as fIn:\n",
    "    stored_data = pickle.load(fIn)\n",
    "    sent_flat = stored_data['sentences']\n",
    "    corpus_embeddings = stored_data['embeddings']"
   ]
  },
  {
   "cell_type": "code",
   "execution_count": 97,
   "metadata": {},
   "outputs": [],
   "source": [
    "def get_sent_seq_from_hit(hit, num_after = 3):\n",
    "    sent_seq = []\n",
    "    for i in range(num_after):\n",
    "        # check index exist in sent_flat before append\n",
    "        if (hit['corpus_id'] + i) < len(sent_flat):\n",
    "            sent_seq.append(sent_flat[hit['corpus_id'] + i])\n",
    "    return ' '.join(sent_seq)\n",
    "\n",
    "def search(query):\n",
    "    print(\"Input question:\", query)\n",
    "    ##### Sematic Search #####\n",
    "    query = clear_text_vi([query])\n",
    "    # print(\"Input question clean sentences:\", query)\n",
    "    query = flatten_list(query)\n",
    "    # print(\"Input question flattern:\", query)\n",
    "\n",
    "    # Encode the query using the bi-encoder and find potentially relevant passages\n",
    "    question_embedding = bi_encoder.encode(query, convert_to_tensor=True)\n",
    "    # print(\"Input question embedding:\", question_embedding)\n",
    "    # question_embedding = question_embedding\n",
    "    hits = util.semantic_search(question_embedding, corpus_embeddings, top_k=top_k)\n",
    "    hits = hits[0]  # Get the hits for the first query\n",
    "    \n",
    "    ##### Re-Ranking #####\n",
    "    # Now, score all retrieved passages with the cross_encoder\n",
    "    cross_inp = [[query[0], sent_flat[hit['corpus_id']]] for hit in hits]\n",
    "    \n",
    "    cross_scores = cross_encoder.predict(cross_inp)\n",
    "\n",
    "    # Sort results by the cross-encoder scores\n",
    "    for idx in range(len(cross_scores)):\n",
    "        hits[idx]['cross-score'] = cross_scores[idx]\n",
    "\n",
    "\n",
    "    # Output of top-5 hits from re-ranker\n",
    "    print(\"\\n-------------------------\\n\")\n",
    "    print(\"Top-3 Cross-Encoder Re-ranker hits\")\n",
    "    hits = sorted(hits, key=lambda x: x['cross-score'], reverse=True)\n",
    "    for hit in hits[0:3]:\n",
    "        print(\"Score:\", hit['cross-score'])\n",
    "        print(\"\\t \" + get_sent_seq_from_hit(hit).replace(\"\\n\", \" \"))"
   ]
  },
  {
   "cell_type": "code",
   "execution_count": 98,
   "metadata": {},
   "outputs": [
    {
     "name": "stdout",
     "output_type": "stream",
     "text": [
      "Input question: Tình hình chứng khoán thế giới trong tháng 9 ?\n",
      "\n",
      "-------------------------\n",
      "\n",
      "Top-3 Cross-Encoder Re-ranker hits\n",
      "Score: 6.6487575\n",
      "\t Tính từ khi thị trường chứng khoán Việt Nam được thành lập từ tháng 7-2000, trong tháng 5, chỉ số VN- Index có 12 lần giảm, 9 lần tăng. Trong đó, các năm có tháng 5 giảm mạnh nhất là năm 2008 (giảm 21,7%), 2006 (giảm 12,6%), 2011 (giảm 10,5%), 2012 (giảm 9,2%). Ngược lại, các năm có tháng 5 tăng mạnh nhất là năm 2009 (tăng 26,7%), 2001 (tăng 25,6%), 2007 và 2020 (cùng tăng 15,2%) và 2013 (tăng 9,3%).\n",
      "Score: 6.6434627\n",
      "\t Chứng khoán sẽ nối dài đà tăng trong tháng 9?Các chuyên gia nhận định, thị trường chứng khoán (TTCK) vẫn duy trì được đà tăng trong những tháng tới nhờ yếu tố lãi suất cũng như kỳ vọng về kết quả kinh doanh của các doanh nghiệp sẽ tốt hơn trong thời gian tới. Duy trì đà tăng Ông Nguyễn Thế Minh - Giám đốc phân tích khối khách hàng cá nhân CTCK Yuanta Việt Nam nhận định TTCK vẫn có đủ catalyst (yếu tố xúc tác) để thúc đẩy thị trường tiếp tục đi lên. Theo đó, thị trường vừa có nhịp giảm mạnh nhất (nửa cuối tháng 8) từ tháng 5 cho đến nay, nhưng vẫn giữ được mốc hỗ trợ là 1,160 điểm.\n",
      "Score: 6.2471952\n",
      "\t >>> * Chứng khoán sẽ nối dài đà tăng trong tháng 9?. Các chuyên gia nhận định, thị trường chứng khoán (TTCK) vẫn duy trì được đà tăng trong những tháng tới nhờ yếu tố lãi suất cũng như kỳ vọng về kết quả kinh doanh của các doanh nghiệp sẽ tốt hơn trong thời gian tới. >>> * Nhu cầu tài chính, ông Đoàn Văn Hiểu Em muốn bán bớt cổ phiếu MWG.\n"
     ]
    }
   ],
   "source": [
    "search(query = \"Tình hình chứng khoán thế giới trong tháng 9 ?\")"
   ]
  },
  {
   "cell_type": "code",
   "execution_count": 99,
   "metadata": {},
   "outputs": [
    {
     "name": "stdout",
     "output_type": "stream",
     "text": [
      "Input question: Giá kim loại, vàng miếng trong tháng 9, năm 2023 ?\n",
      "\n",
      "-------------------------\n",
      "\n",
      "Top-3 Cross-Encoder Re-ranker hits\n",
      "Score: 7.6517096\n",
      "         Giá vàng miếng SJC tăng 150.000 đồng mỗi lượng vào sáng 30.8. Công ty vàng bạc đá quý Sài Gòn - SJC mua vào lên 67,7 triệu đồng, bán ra 68,3 triệu đồng; Eximbank mua vào với giá 67,8 triệu đồng, bán ra 68,2 triệu đồng… So với đầu tháng 8, kim loại quý đã tăng 1,1 triệu đồng mỗi lượng.\n",
      "Score: 6.6588287\n",
      "         Giá vàng miếng SJC sáng ngày 13.6 giảm 300.000 đồng mỗi lượng, Eximbank mua vào với giá 68,2 triệu đồng/lượng và bán ra 69,1 triệu đồng/lượng; Công ty vàng bạc đá quý Sài Gòn – SJC mua vào với giá 68,45 triệu đồng/lượng và bán ra 69,35 triệu đồng/lượng… Tốc độ giảm giá của vàng trong nước nhanh hơn quốc tế khiến SJC cao hơn thế giới còn 17,15 triệu đồng/lượng.\n",
      "Score: 5.7673564\n",
      "\t So với giá kim loại quý thế giới, vàng miếng SJC cao hơn 11,7 triệu đồng/lượng, còn nữ trang và nhẫn cao hơn 2,2 - 3,3 triệu đồng/lượng. Giá vàng thế giới sáng 14.1 ít thay đổi so với mức giá chiều qua khi ở 1.822,5 USD/ounce. Trong phiên giao dịch Mỹ (đêm 13.1), giá kim loại quý đã lao dốc từ mức 1.825 USD/ounce xuống 1.810 USD/ounce nhưng sau đó dần hồi phục lên lại mức 1.822 USD/ounce.\n"
     ]
    }
   ],
   "source": [
    "search(query = \"Giá kim loại, vàng miếng trong tháng 9, năm 2023 ?\")"
   ]
  },
  {
   "cell_type": "code",
   "execution_count": 101,
   "metadata": {},
   "outputs": [
    {
     "name": "stdout",
     "output_type": "stream",
     "text": [
      "Input question: Kinh tế Trung Quốc trong quí 3 năm 2023 ?\n",
      "\n",
      "-------------------------\n",
      "\n",
      "Top-3 Cross-Encoder Re-ranker hits\n",
      "Score: 7.5959907\n",
      "                     // kiem tra xem co la anh khong? == 'div') { năm 2023. Thị trường chứng khoán Mỹ giảm điểm, chỉ số Dow Jones rớt 391,76 điểm (tương đương 1,14%) xuống 33.910,85 điểm; chỉ số S&P 500 mất 0,2% còn 3.990,97 điểm, còn chỉ số Nasdaq Composite giảm 0,14% xuống 11.095,11 điểm. //Chèn ads giữa bài\n",
      "Score: 7.553033\n",
      "\t Tại Hội nghị Công tác kinh tế Trung ương thường niên hôm 16/9, các nhà lãnh Trung Quốc đã vạch ra đường hướng cho phát triển kinh tế trong năm 2023. Theo đó, năm tới, nước này sẽ tập trung vào bình ổn nền kinh tế và tiến tới điều chỉnh chính sách để đảm bảo đạt được các mục tiêu chính của nền kinh tế. “Có thể mất ít nhất một quý nữa mọi thứ tại Trung Quốc mới bắt đầu khởi sắc”, ông Dan Wang, nhà kinh tế trưởng tại ngân hàng Hang Seng Bank China, nhận định.\n",
      "Score: 7.316267\n",
      "\t Citi trước đó dự báo kinh tế Trung Quốc tăng trưởng 5,7% trong năm 2023. Dù các dữ liệu kinh tế gần đây cho thấy hoạt động sản xuất tại Trung Quốc đã phục hồi nhanh chóng, nhưng một số chỉ số khác lại cho thấy những thách thức sâu sắc về mặt hệ thống. Doanh thu bất động sản so với năm trước vẫn đang giảm, dù tốc độ giảm ít nghiêm trọng hơn so với thời điểm cuối năm 2022.\n"
     ]
    }
   ],
   "source": [
    "search(query = \"Kinh tế Trung Quốc trong quí 3 năm 2023 ?\")"
   ]
  }
 ],
 "metadata": {
  "kernelspec": {
   "display_name": "Python 3",
   "language": "python",
   "name": "python3"
  },
  "language_info": {
   "codemirror_mode": {
    "name": "ipython",
    "version": 3
   },
   "file_extension": ".py",
   "mimetype": "text/x-python",
   "name": "python",
   "nbconvert_exporter": "python",
   "pygments_lexer": "ipython3",
   "version": "3.10.3"
  },
  "orig_nbformat": 4
 },
 "nbformat": 4,
 "nbformat_minor": 2
}

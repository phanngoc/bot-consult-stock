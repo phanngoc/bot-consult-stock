{
 "cells": [
  {
   "cell_type": "code",
   "execution_count": 11,
   "metadata": {},
   "outputs": [],
   "source": [
    "import matplotlib.pyplot as plt\n",
    "\n",
    "import pandas as pd # data processing, CSV file I/O (e.g. pd.read_csv)\n",
    "import mysql.connector\n",
    "from vnstock import *\n",
    "\n",
    "def get_news_date(date_start, date_end):\n",
    "    # Establish a connection to the MySQL database\n",
    "    connection = mysql.connector.connect(\n",
    "        host='127.0.0.1',\n",
    "        port=13306,\n",
    "        user='root',\n",
    "        password='root',\n",
    "        database='pyml'\n",
    "    )\n",
    "\n",
    "    # Read the table data using pandas\n",
    "    query = f\"\"\"\n",
    "        SELECT title, content, date FROM crawl_data\n",
    "        where DATE(date) >= '{date_start}' and DATE(date) <= '{date_end}'\n",
    "    \"\"\"\n",
    "    df = pd.read_sql(query, connection)\n",
    "    return df\n",
    "\n",
    "# Lấy data tin tức từ ngày {start} đến ngày {end} và merge với giá stock thành dataframe.\n",
    "# Return: dataframe with 3 columns: text, close, date\n",
    "def get_data_tendency(stock, date_start, date_end, export_url=None):\n",
    "    df = get_news_date(date_start, date_end)\n",
    "    # Concatenate columns A and B vertically\n",
    "    df['text'] = df['title'] + df['content']\n",
    "    df['date_only'] = pd.to_datetime(df['date'], format='%Y-%m-%d %H:%M:%S').dt.strftime('%Y-%m-%d')\n",
    "\n",
    "    df_his = stock_historical_data(stock, date_start, date_end, \"1D\", 'stock')\n",
    "\n",
    "    df_his['date'] = pd.to_datetime(df_his['time']).dt.strftime('%Y-%m-%d')\n",
    "    df_his = df_his.sort_values(by='date', ascending=True)\n",
    "    # Calculate the percentage increase and store it in a new column\n",
    "    df_his['percentage_increase'] = df_his['close'].pct_change() * 100\n",
    "    # Drop the first row since it doesn't have a previous date for comparison\n",
    "    df_his = df_his.dropna()\n",
    "\n",
    "    dfMerge = pd.merge(df, df_his, left_on=['date_only'], right_on=['date'], how='inner')\n",
    "    dfSumarize = dfMerge[['text', 'percentage_increase', 'date_y']]\n",
    "\n",
    "    # Sorting the DataFrame by the 'date_column' in ascending order\n",
    "\n",
    "    df_sorted = dfSumarize.sort_values(by='date_y', ascending=True)\n",
    "    if export_url:\n",
    "        df_sorted.to_csv(export_url, index=True)\n",
    "\n",
    "    return df_sorted"
   ]
  },
  {
   "cell_type": "code",
   "execution_count": 12,
   "metadata": {},
   "outputs": [
    {
     "name": "stderr",
     "output_type": "stream",
     "text": [
      "/var/folders/g6/37kt02914kx36yzcbbqfyck00000gn/T/ipykernel_66663/2512981761.py:22: UserWarning: pandas only supports SQLAlchemy connectable (engine/connection) or database string URI or sqlite3 DBAPI2 connection. Other DBAPI2 objects are not tested. Please consider using SQLAlchemy.\n",
      "  df = pd.read_sql(query, connection)\n"
     ]
    },
    {
     "name": "stdout",
     "output_type": "stream",
     "text": [
      "                                                   text  percentage_increase  \\\n",
      "3506  Doanh nghiệp nước ngoài lạc quan về tương lai ...             1.472810   \n",
      "3505  Mở đường bay vận chuyển hàng hóa giữa Việt Nam...             1.472810   \n",
      "3501  Đầu năm, 2 dự án bất động sản 'khủng' nhất TP....             2.642352   \n",
      "3502  Giá xăng dầu hôm nay 23.2.2022: Tiến gần đến m...             2.642352   \n",
      "3503  Đất Xanh (DXG): Chủ tịch Lương Trí Thìn sắp ch...             2.642352   \n",
      "3504  Lịch sự kiện và tin vắn chứng khoán ngày 23/2\\...             2.642352   \n",
      "3500  Có 2 cá nhân chi hơn 76 tỷ đồng mua đấu giá, Đ...            -3.190718   \n",
      "3499  Website công ty vàng SJC quá tải, vàng ‘bung n...            -3.190718   \n",
      "3498  Chiến sự nóng ở vựa lúa mì châu Âu, cổ phiếu l...             1.722846   \n",
      "3497  Vàng SJC ‘đắt’ hơn thế giới 25%, nên bán hay k...             1.722846   \n",
      "\n",
      "          date_y  \n",
      "3506  2022-02-22  \n",
      "3505  2022-02-22  \n",
      "3501  2022-02-23  \n",
      "3502  2022-02-23  \n",
      "3503  2022-02-23  \n",
      "3504  2022-02-23  \n",
      "3500  2022-02-24  \n",
      "3499  2022-02-24  \n",
      "3498  2022-02-25  \n",
      "3497  2022-02-25  \n"
     ]
    }
   ],
   "source": [
    "data = get_data_tendency('TPB', '2022-01-01', '2023-09-29')\n",
    "print(data[100:110])"
   ]
  }
 ],
 "metadata": {
  "kernelspec": {
   "display_name": "Python 3",
   "language": "python",
   "name": "python3"
  },
  "language_info": {
   "codemirror_mode": {
    "name": "ipython",
    "version": 3
   },
   "file_extension": ".py",
   "mimetype": "text/x-python",
   "name": "python",
   "nbconvert_exporter": "python",
   "pygments_lexer": "ipython3",
   "version": "3.10.3"
  },
  "orig_nbformat": 4
 },
 "nbformat": 4,
 "nbformat_minor": 2
}

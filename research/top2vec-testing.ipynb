{
 "cells": [
  {
   "cell_type": "markdown",
   "metadata": {},
   "source": [
    "# Thử nghiệm top2vec transformer\n",
    "\n",
    "https://github.com/ddangelov/Top2Vec\n",
    "https://arxiv.org/abs/2008.09470\n",
    "\n",
    "\n",
    "https://arxiv.org/pdf/2008.09470.pdf\n"
   ]
  },
  {
   "cell_type": "code",
   "execution_count": 4,
   "metadata": {},
   "outputs": [
    {
     "data": {
      "text/plain": [
       "<module 'regress_adapter' from '/Users/ngocp/Documents/projects/pyml/botapp/research/../algorithm/regress_adapter.py'>"
      ]
     },
     "execution_count": 4,
     "metadata": {},
     "output_type": "execute_result"
    }
   ],
   "source": [
    "# how to include modules from ../algorithm/regress_adapter.py\n",
    "import sys\n",
    "sys.path.append('../algorithm')\n",
    "\n",
    "from importlib import reload\n",
    "\n",
    "import regress_adapter\n",
    "reload(regress_adapter)"
   ]
  },
  {
   "cell_type": "code",
   "execution_count": 3,
   "metadata": {},
   "outputs": [
    {
     "name": "stderr",
     "output_type": "stream",
     "text": [
      "/Users/ngocp/Documents/projects/pyml/botapp/research/../algorithm/regress_adapter.py:28: UserWarning: pandas only supports SQLAlchemy connectable (engine/connection) or database string URI or sqlite3 DBAPI2 connection. Other DBAPI2 objects are not tested. Please consider using SQLAlchemy.\n",
      "  df = pd.read_sql(query, connection)\n"
     ]
    },
    {
     "name": "stdout",
     "output_type": "stream",
     "text": [
      "                                                   text  close      date_y\n",
      "3790  VNDIRECT: Hầu hết giá cổ phiếu của dệt may hiệ...  27680  2022-01-04\n",
      "3789  Cách tốt nhất để các nhà đầu tư bảo vệ mình kh...  27680  2022-01-04\n",
      "3788  Đảng uỷ cơ quan Uỷ ban Chứng khoán Nhà nước: S...  27680  2022-01-04\n",
      "3787  Truyền hình K+ tặng đầu thu miễn phí đón ‘Tết ...  27680  2022-01-04\n",
      "3786  Licogi 14 (L14) “bơm” thêm 214 tỷ đồng đầu tư ...  27190  2022-01-05\n"
     ]
    }
   ],
   "source": [
    "data = regress_adapter.get_data('TPB', '2022-01-01', '2023-09-30')\n",
    "print(data.head())"
   ]
  }
 ],
 "metadata": {
  "kernelspec": {
   "display_name": "Python 3",
   "language": "python",
   "name": "python3"
  },
  "language_info": {
   "codemirror_mode": {
    "name": "ipython",
    "version": 3
   },
   "file_extension": ".py",
   "mimetype": "text/x-python",
   "name": "python",
   "nbconvert_exporter": "python",
   "pygments_lexer": "ipython3",
   "version": "3.10.3"
  },
  "orig_nbformat": 4
 },
 "nbformat": 4,
 "nbformat_minor": 2
}

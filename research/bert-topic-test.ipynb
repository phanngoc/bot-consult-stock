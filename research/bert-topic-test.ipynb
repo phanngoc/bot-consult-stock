{
 "cells": [
  {
   "cell_type": "code",
   "execution_count": null,
   "metadata": {},
   "outputs": [],
   "source": [
    "english_stemmer = nltk.stem.SnowballStemmer('english') \n",
    "class StemmedCountVectorizer(CountVectorizer):\n",
    "    def build_analyzer(self):\n",
    "        analyzer = super(StemmedCountVectorizer, self).build_analyzer()\n",
    "        return lambda doc: ([english_stemmer.stem(w) for w in analyzer(doc)])\n",
    "\n",
    "def train_bert(docs,model_path):\n",
    "    embedding_model = SentenceTransformer(\"all-MiniLM-L6-v2\")\n",
    "\n",
    "    # Clustering model: See [2] for more details\n",
    "    cluster_model = HDBSCAN(min_cluster_size = 15, \n",
    "                            metric = 'euclidean', \n",
    "                            cluster_selection_method = 'eom', \n",
    "                            prediction_data = True)\n",
    "    \n",
    "    #Explicitly define, use, and adjust the ClassTfidfTransformer with new parameters, \n",
    "    #bm25_weighting and reduce_frequent_words, to potentially improve the topic representation\n",
    "    ctfidf_model = ClassTfidfTransformer(bm25_weighting=True)                         \n",
    "    #vectorizer_model = CountVectorizer(ngram_range=(1, 2),stop_words=stopwords)\n",
    "    vectorizer_model = StemmedCountVectorizer(analyzer=\"word\",stop_words=stopwords, ngram_range=(1, 2))\n",
    "\n",
    "    # BERTopic model\n",
    "    topic_model = BERTopic(embedding_model = embedding_model,\n",
    "                           hdbscan_model = cluster_model,\n",
    "                           ctfidf_model=ctfidf_model,\n",
    "                           vectorizer_model=vectorizer_model,\n",
    "                           language=\"english\")\n",
    "\n",
    "    # Fit the model on a corpus\n",
    "    topics, probs = topic_model.fit_transform(docs)\n",
    "    topic_model.save(model_path)\n",
    "    return topic_model"
   ]
  }
 ],
 "metadata": {
  "language_info": {
   "name": "python"
  }
 },
 "nbformat": 4,
 "nbformat_minor": 2
}

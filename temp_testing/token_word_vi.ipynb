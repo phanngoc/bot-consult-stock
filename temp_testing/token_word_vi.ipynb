{
 "cells": [
  {
   "cell_type": "code",
   "execution_count": 1,
   "metadata": {},
   "outputs": [
    {
     "name": "stdout",
     "output_type": "stream",
     "text": [
      "Collecting tiktoken\n",
      "  Downloading tiktoken-0.4.0-cp310-cp310-macosx_11_0_arm64.whl (761 kB)\n",
      "\u001b[2K     \u001b[90m━━━━━━━━━━━━━━━━━━━━━━━━━━━━━━━━━━━━━━━\u001b[0m \u001b[32m761.4/761.4 kB\u001b[0m \u001b[31m2.8 MB/s\u001b[0m eta \u001b[36m0:00:00\u001b[0ma \u001b[36m0:00:01\u001b[0m\n",
      "\u001b[?25hRequirement already satisfied: regex>=2022.1.18 in /Users/ngocp/.pyenv/versions/3.10.3/lib/python3.10/site-packages (from tiktoken) (2022.10.31)\n",
      "Requirement already satisfied: requests>=2.26.0 in /Users/ngocp/.pyenv/versions/3.10.3/lib/python3.10/site-packages (from tiktoken) (2.31.0)\n",
      "Requirement already satisfied: charset-normalizer<4,>=2 in /Users/ngocp/.pyenv/versions/3.10.3/lib/python3.10/site-packages (from requests>=2.26.0->tiktoken) (3.0.1)\n",
      "Requirement already satisfied: idna<4,>=2.5 in /Users/ngocp/.pyenv/versions/3.10.3/lib/python3.10/site-packages (from requests>=2.26.0->tiktoken) (3.4)\n",
      "Requirement already satisfied: urllib3<3,>=1.21.1 in /Users/ngocp/.pyenv/versions/3.10.3/lib/python3.10/site-packages (from requests>=2.26.0->tiktoken) (1.26.14)\n",
      "Requirement already satisfied: certifi>=2017.4.17 in /Users/ngocp/.pyenv/versions/3.10.3/lib/python3.10/site-packages (from requests>=2.26.0->tiktoken) (2022.12.7)\n",
      "Installing collected packages: tiktoken\n",
      "Successfully installed tiktoken-0.4.0\n",
      "\n",
      "\u001b[1m[\u001b[0m\u001b[34;49mnotice\u001b[0m\u001b[1;39;49m]\u001b[0m\u001b[39;49m A new release of pip is available: \u001b[0m\u001b[31;49m23.1.2\u001b[0m\u001b[39;49m -> \u001b[0m\u001b[32;49m23.2.1\u001b[0m\n",
      "\u001b[1m[\u001b[0m\u001b[34;49mnotice\u001b[0m\u001b[1;39;49m]\u001b[0m\u001b[39;49m To update, run: \u001b[0m\u001b[32;49mpip install --upgrade pip\u001b[0m\n"
     ]
    }
   ],
   "source": [
    "!pip install tiktoken"
   ]
  },
  {
   "cell_type": "code",
   "execution_count": 3,
   "metadata": {},
   "outputs": [
    {
     "name": "stdout",
     "output_type": "stream",
     "text": [
      "Collecting https://gitlab.com/trungtv/vi_spacy/-/raw/master/vi_core_news_lg/dist/vi_core_news_lg-0.0.1.tar.gz\n",
      "  Downloading https://gitlab.com/trungtv/vi_spacy/-/raw/master/vi_core_news_lg/dist/vi_core_news_lg-0.0.1.tar.gz (254.5 MB)\n",
      "\u001b[2K     \u001b[90m━━━━━━━━━━━━━━━━━━━━━━━━━━━━━━━━━━━━━━━\u001b[0m \u001b[32m254.5/254.5 MB\u001b[0m \u001b[31m5.8 MB/s\u001b[0m eta \u001b[36m0:00:00\u001b[0m00:01\u001b[0m00:01\u001b[0m\n",
      "\u001b[?25h  Preparing metadata (setup.py) ... \u001b[?25ldone\n",
      "\u001b[?25hCollecting spacy<3.1.0,>=3.0.5 (from vi-core-news-lg==0.0.1)\n",
      "  Downloading spacy-3.0.9-cp310-cp310-macosx_11_0_arm64.whl (5.9 MB)\n",
      "\u001b[2K     \u001b[90m━━━━━━━━━━━━━━━━━━━━━━━━━━━━━━━━━━━━━━━━\u001b[0m \u001b[32m5.9/5.9 MB\u001b[0m \u001b[31m3.4 MB/s\u001b[0m eta \u001b[36m0:00:00\u001b[0m00:01\u001b[0m00:01\u001b[0m\n",
      "\u001b[?25hRequirement already satisfied: spacy-legacy<3.1.0,>=3.0.5 in /Users/ngocp/.pyenv/versions/3.10.3/lib/python3.10/site-packages (from spacy<3.1.0,>=3.0.5->vi-core-news-lg==0.0.1) (3.0.12)\n",
      "Requirement already satisfied: murmurhash<1.1.0,>=0.28.0 in /Users/ngocp/.pyenv/versions/3.10.3/lib/python3.10/site-packages (from spacy<3.1.0,>=3.0.5->vi-core-news-lg==0.0.1) (1.0.9)\n",
      "Requirement already satisfied: cymem<2.1.0,>=2.0.2 in /Users/ngocp/.pyenv/versions/3.10.3/lib/python3.10/site-packages (from spacy<3.1.0,>=3.0.5->vi-core-news-lg==0.0.1) (2.0.7)\n",
      "Requirement already satisfied: preshed<3.1.0,>=3.0.2 in /Users/ngocp/.pyenv/versions/3.10.3/lib/python3.10/site-packages (from spacy<3.1.0,>=3.0.5->vi-core-news-lg==0.0.1) (3.0.8)\n",
      "Collecting thinc<8.1.0,>=8.0.3 (from spacy<3.1.0,>=3.0.5->vi-core-news-lg==0.0.1)\n",
      "  Downloading thinc-8.0.17-cp310-cp310-macosx_11_0_arm64.whl (584 kB)\n",
      "\u001b[2K     \u001b[90m━━━━━━━━━━━━━━━━━━━━━━━━━━━━━━━━━━━━━━━\u001b[0m \u001b[32m584.2/584.2 kB\u001b[0m \u001b[31m2.4 MB/s\u001b[0m eta \u001b[36m0:00:00\u001b[0m00:01\u001b[0m00:01\u001b[0m\n",
      "\u001b[?25hRequirement already satisfied: blis<0.8.0,>=0.4.0 in /Users/ngocp/.pyenv/versions/3.10.3/lib/python3.10/site-packages (from spacy<3.1.0,>=3.0.5->vi-core-news-lg==0.0.1) (0.7.9)\n",
      "Collecting wasabi<1.1.0,>=0.8.1 (from spacy<3.1.0,>=3.0.5->vi-core-news-lg==0.0.1)\n",
      "  Downloading wasabi-0.10.1-py3-none-any.whl (26 kB)\n",
      "Requirement already satisfied: srsly<3.0.0,>=2.4.1 in /Users/ngocp/.pyenv/versions/3.10.3/lib/python3.10/site-packages (from spacy<3.1.0,>=3.0.5->vi-core-news-lg==0.0.1) (2.4.6)\n",
      "Requirement already satisfied: catalogue<2.1.0,>=2.0.4 in /Users/ngocp/.pyenv/versions/3.10.3/lib/python3.10/site-packages (from spacy<3.1.0,>=3.0.5->vi-core-news-lg==0.0.1) (2.0.8)\n",
      "Collecting typer<0.4.0,>=0.3.0 (from spacy<3.1.0,>=3.0.5->vi-core-news-lg==0.0.1)\n",
      "  Downloading typer-0.3.2-py3-none-any.whl (21 kB)\n",
      "Requirement already satisfied: pathy>=0.3.5 in /Users/ngocp/.pyenv/versions/3.10.3/lib/python3.10/site-packages (from spacy<3.1.0,>=3.0.5->vi-core-news-lg==0.0.1) (0.10.1)\n",
      "Requirement already satisfied: smart-open<7.0.0,>=5.2.1 in /Users/ngocp/.pyenv/versions/3.10.3/lib/python3.10/site-packages (from spacy<3.1.0,>=3.0.5->vi-core-news-lg==0.0.1) (6.3.0)\n",
      "Requirement already satisfied: tqdm<5.0.0,>=4.38.0 in /Users/ngocp/.pyenv/versions/3.10.3/lib/python3.10/site-packages (from spacy<3.1.0,>=3.0.5->vi-core-news-lg==0.0.1) (4.64.1)\n",
      "Requirement already satisfied: numpy>=1.15.0 in /Users/ngocp/.pyenv/versions/3.10.3/lib/python3.10/site-packages (from spacy<3.1.0,>=3.0.5->vi-core-news-lg==0.0.1) (1.24.2)\n",
      "Requirement already satisfied: requests<3.0.0,>=2.13.0 in /Users/ngocp/.pyenv/versions/3.10.3/lib/python3.10/site-packages (from spacy<3.1.0,>=3.0.5->vi-core-news-lg==0.0.1) (2.31.0)\n",
      "Collecting pydantic!=1.8,!=1.8.1,<1.9.0,>=1.7.4 (from spacy<3.1.0,>=3.0.5->vi-core-news-lg==0.0.1)\n",
      "  Downloading pydantic-1.8.2-py3-none-any.whl (126 kB)\n",
      "\u001b[2K     \u001b[90m━━━━━━━━━━━━━━━━━━━━━━━━━━━━━━━━━━━━━━━\u001b[0m \u001b[32m126.0/126.0 kB\u001b[0m \u001b[31m3.6 MB/s\u001b[0m eta \u001b[36m0:00:00\u001b[0m00:01\u001b[0m\n",
      "\u001b[?25hRequirement already satisfied: jinja2 in /Users/ngocp/.pyenv/versions/3.10.3/lib/python3.10/site-packages (from spacy<3.1.0,>=3.0.5->vi-core-news-lg==0.0.1) (3.1.2)\n",
      "Requirement already satisfied: setuptools in /Users/ngocp/.pyenv/versions/3.10.3/lib/python3.10/site-packages (from spacy<3.1.0,>=3.0.5->vi-core-news-lg==0.0.1) (58.1.0)\n",
      "Requirement already satisfied: packaging>=20.0 in /Users/ngocp/.pyenv/versions/3.10.3/lib/python3.10/site-packages (from spacy<3.1.0,>=3.0.5->vi-core-news-lg==0.0.1) (23.0)\n",
      "Requirement already satisfied: typing-extensions>=3.7.4.3 in /Users/ngocp/.pyenv/versions/3.10.3/lib/python3.10/site-packages (from pydantic!=1.8,!=1.8.1,<1.9.0,>=1.7.4->spacy<3.1.0,>=3.0.5->vi-core-news-lg==0.0.1) (4.5.0)\n",
      "Requirement already satisfied: charset-normalizer<4,>=2 in /Users/ngocp/.pyenv/versions/3.10.3/lib/python3.10/site-packages (from requests<3.0.0,>=2.13.0->spacy<3.1.0,>=3.0.5->vi-core-news-lg==0.0.1) (3.0.1)\n",
      "Requirement already satisfied: idna<4,>=2.5 in /Users/ngocp/.pyenv/versions/3.10.3/lib/python3.10/site-packages (from requests<3.0.0,>=2.13.0->spacy<3.1.0,>=3.0.5->vi-core-news-lg==0.0.1) (3.4)\n",
      "Requirement already satisfied: urllib3<3,>=1.21.1 in /Users/ngocp/.pyenv/versions/3.10.3/lib/python3.10/site-packages (from requests<3.0.0,>=2.13.0->spacy<3.1.0,>=3.0.5->vi-core-news-lg==0.0.1) (1.26.14)\n",
      "Requirement already satisfied: certifi>=2017.4.17 in /Users/ngocp/.pyenv/versions/3.10.3/lib/python3.10/site-packages (from requests<3.0.0,>=2.13.0->spacy<3.1.0,>=3.0.5->vi-core-news-lg==0.0.1) (2022.12.7)\n",
      "Collecting click<7.2.0,>=7.1.1 (from typer<0.4.0,>=0.3.0->spacy<3.1.0,>=3.0.5->vi-core-news-lg==0.0.1)\n",
      "  Downloading click-7.1.2-py2.py3-none-any.whl (82 kB)\n",
      "\u001b[2K     \u001b[90m━━━━━━━━━━━━━━━━━━━━━━━━━━━━━━━━━━━━━━━━\u001b[0m \u001b[32m82.8/82.8 kB\u001b[0m \u001b[31m2.7 MB/s\u001b[0m eta \u001b[36m0:00:00\u001b[0m\n",
      "\u001b[?25hRequirement already satisfied: MarkupSafe>=2.0 in /Users/ngocp/.pyenv/versions/3.10.3/lib/python3.10/site-packages (from jinja2->spacy<3.1.0,>=3.0.5->vi-core-news-lg==0.0.1) (2.1.2)\n",
      "Building wheels for collected packages: vi-core-news-lg\n",
      "  Building wheel for vi-core-news-lg (setup.py) ... \u001b[?25ldone\n",
      "\u001b[?25h  Created wheel for vi-core-news-lg: filename=vi_core_news_lg-0.0.1-py3-none-any.whl size=254513618 sha256=8262c98c2458cab17dbcb970497187db3039bea638779b8ebd8a3a70c3b7b0ec\n",
      "  Stored in directory: /Users/ngocp/Library/Caches/pip/wheels/9f/44/ad/99e9a242b60be7acebe53f65724bbb52efc0e8d6449e5c7552\n",
      "Successfully built vi-core-news-lg\n",
      "Installing collected packages: wasabi, pydantic, click, typer, thinc, spacy, vi-core-news-lg\n",
      "  Attempting uninstall: wasabi\n",
      "    Found existing installation: wasabi 1.1.1\n",
      "    Uninstalling wasabi-1.1.1:\n",
      "      Successfully uninstalled wasabi-1.1.1\n",
      "  Attempting uninstall: pydantic\n",
      "    Found existing installation: pydantic 1.10.5\n",
      "    Uninstalling pydantic-1.10.5:\n",
      "      Successfully uninstalled pydantic-1.10.5\n",
      "  Attempting uninstall: click\n",
      "    Found existing installation: click 8.1.3\n",
      "    Uninstalling click-8.1.3:\n",
      "      Successfully uninstalled click-8.1.3\n",
      "  Attempting uninstall: typer\n",
      "    Found existing installation: typer 0.7.0\n",
      "    Uninstalling typer-0.7.0:\n",
      "      Successfully uninstalled typer-0.7.0\n",
      "  Attempting uninstall: thinc\n",
      "    Found existing installation: thinc 8.1.7\n",
      "    Uninstalling thinc-8.1.7:\n",
      "      Successfully uninstalled thinc-8.1.7\n",
      "  Attempting uninstall: spacy\n",
      "    Found existing installation: spacy 3.5.0\n",
      "    Uninstalling spacy-3.5.0:\n",
      "      Successfully uninstalled spacy-3.5.0\n",
      "\u001b[31mERROR: pip's dependency resolver does not currently take into account all the packages that are installed. This behaviour is the source of the following dependency conflicts.\n",
      "flask 2.3.2 requires click>=8.1.3, but you have click 7.1.2 which is incompatible.\u001b[0m\u001b[31m\n",
      "\u001b[0mSuccessfully installed click-7.1.2 pydantic-1.8.2 spacy-3.0.9 thinc-8.0.17 typer-0.3.2 vi-core-news-lg-0.0.1 wasabi-0.10.1\n",
      "\n",
      "\u001b[1m[\u001b[0m\u001b[34;49mnotice\u001b[0m\u001b[1;39;49m]\u001b[0m\u001b[39;49m A new release of pip is available: \u001b[0m\u001b[31;49m23.1.2\u001b[0m\u001b[39;49m -> \u001b[0m\u001b[32;49m23.2.1\u001b[0m\n",
      "\u001b[1m[\u001b[0m\u001b[34;49mnotice\u001b[0m\u001b[1;39;49m]\u001b[0m\u001b[39;49m To update, run: \u001b[0m\u001b[32;49mpip install --upgrade pip\u001b[0m\n"
     ]
    }
   ],
   "source": [
    "!pip install https://gitlab.com/trungtv/vi_spacy/-/raw/master/vi_core_news_lg/dist/vi_core_news_lg-0.0.1.tar.gz"
   ]
  },
  {
   "cell_type": "code",
   "execution_count": 5,
   "metadata": {},
   "outputs": [
    {
     "name": "stdout",
     "output_type": "stream",
     "text": [
      "\u001b[2K\u001b[38;5;2m✔ Loaded compatibility table\u001b[0m\n",
      "\u001b[1m\n",
      "================= Installed pipeline packages (spaCy v3.0.9) =================\u001b[0m\n",
      "\u001b[38;5;4mℹ spaCy installation:\n",
      "/Users/ngocp/.pyenv/versions/3.10.3/lib/python3.10/site-packages/spacy\u001b[0m\n",
      "\n",
      "NAME              SPACY            VERSION                            \n",
      "vi_core_news_lg   >=3.0.5,<3.1.0   \u001b[38;5;2m0.0.1\u001b[0m   \u001b[38;5;2m✔\u001b[0m\n",
      "\n"
     ]
    }
   ],
   "source": [
    "!python -m spacy validate"
   ]
  },
  {
   "cell_type": "code",
   "execution_count": 3,
   "metadata": {},
   "outputs": [
    {
     "name": "stdout",
     "output_type": "stream",
     "text": [
      "Requirement already satisfied: pyvi in /Users/ngocp/.pyenv/versions/3.10.3/lib/python3.10/site-packages (0.1.1)\n",
      "Requirement already satisfied: scikit-learn in /Users/ngocp/.pyenv/versions/3.10.3/lib/python3.10/site-packages (from pyvi) (1.2.1)\n",
      "Requirement already satisfied: sklearn-crfsuite in /Users/ngocp/.pyenv/versions/3.10.3/lib/python3.10/site-packages (from pyvi) (0.3.6)\n",
      "Requirement already satisfied: numpy>=1.17.3 in /Users/ngocp/.pyenv/versions/3.10.3/lib/python3.10/site-packages (from scikit-learn->pyvi) (1.24.2)\n",
      "Requirement already satisfied: scipy>=1.3.2 in /Users/ngocp/.pyenv/versions/3.10.3/lib/python3.10/site-packages (from scikit-learn->pyvi) (1.10.1)\n",
      "Requirement already satisfied: joblib>=1.1.1 in /Users/ngocp/.pyenv/versions/3.10.3/lib/python3.10/site-packages (from scikit-learn->pyvi) (1.2.0)\n",
      "Requirement already satisfied: threadpoolctl>=2.0.0 in /Users/ngocp/.pyenv/versions/3.10.3/lib/python3.10/site-packages (from scikit-learn->pyvi) (3.1.0)\n",
      "Requirement already satisfied: python-crfsuite>=0.8.3 in /Users/ngocp/.pyenv/versions/3.10.3/lib/python3.10/site-packages (from sklearn-crfsuite->pyvi) (0.9.9)\n",
      "Requirement already satisfied: six in /Users/ngocp/.pyenv/versions/3.10.3/lib/python3.10/site-packages (from sklearn-crfsuite->pyvi) (1.16.0)\n",
      "Requirement already satisfied: tabulate in /Users/ngocp/.pyenv/versions/3.10.3/lib/python3.10/site-packages (from sklearn-crfsuite->pyvi) (0.9.0)\n",
      "Requirement already satisfied: tqdm>=2.0 in /Users/ngocp/.pyenv/versions/3.10.3/lib/python3.10/site-packages (from sklearn-crfsuite->pyvi) (4.64.1)\n",
      "\n",
      "\u001b[1m[\u001b[0m\u001b[34;49mnotice\u001b[0m\u001b[1;39;49m]\u001b[0m\u001b[39;49m A new release of pip is available: \u001b[0m\u001b[31;49m23.1.2\u001b[0m\u001b[39;49m -> \u001b[0m\u001b[32;49m23.2.1\u001b[0m\n",
      "\u001b[1m[\u001b[0m\u001b[34;49mnotice\u001b[0m\u001b[1;39;49m]\u001b[0m\u001b[39;49m To update, run: \u001b[0m\u001b[32;49mpip install --upgrade pip\u001b[0m\n"
     ]
    }
   ],
   "source": [
    "!pip install pyvi"
   ]
  },
  {
   "cell_type": "code",
   "execution_count": 5,
   "metadata": {},
   "outputs": [
    {
     "name": "stdout",
     "output_type": "stream",
     "text": [
      "Bách_Khoa Hà_Nội\n"
     ]
    }
   ],
   "source": [
    "from spacy.lang.vi import Vietnamese\n",
    "nlp = Vietnamese()\n",
    "doc = nlp('Bách Khoa Hà Nội')\n",
    "print(doc)\n"
   ]
  },
  {
   "cell_type": "code",
   "execution_count": 6,
   "metadata": {},
   "outputs": [
    {
     "name": "stdout",
     "output_type": "stream",
     "text": [
      "Đây là đâu, tôi là ai?\n",
      "Căn phòng có nhiều cửa_sổ nên nó khá sáng\n",
      "Đại_dịch COVID vừa_qua đã gây ảnh_hưởng rất lớn tới nhiều doanh_nghiệp lớn nhỏ.\n",
      "Thành_phố Hồ_Chí_Minh đã bị ảnh_hưởng nặng_nề trong thời_gian vừa_qua.\n",
      "Ông bạn đang ở đâu thế?\n",
      "Ai là người giải_phóng đất_nước Việt_Nam khỏi ách đô_hộ?\n",
      "Vị tướng nào là người đã làm_nên chiến_thắng lịch_sử Điện_Biên_Phủ?\n",
      "Làm_việc nhiều chán quá, đi chơi đâu đi?\n"
     ]
    }
   ],
   "source": [
    "\n",
    "sentences = [\n",
    "    \"Đây là đâu, tôi là ai?\",\n",
    "    \"Căn phòng có nhiều cửa sổ nên nó khá sáng\",\n",
    "    \"Đại dịch COVID vừa qua đã gây ảnh hưởng rất lớn tới nhiều doanh nghiệp lớn nhỏ.\",\n",
    "    \"Thành phố Hồ Chí Minh đã bị ảnh hưởng nặng nề trong thời gian vừa qua.\",\n",
    "    \"Ông bạn đang ở đâu thế?\",\n",
    "    \"Ai là người giải phóng đất nước Việt Nam khỏi ách đô hộ?\",\n",
    "    \"Vị tướng nào là người đã làm nên chiến thắng lịch sử Điện Biên Phủ?\",\n",
    "    \"Làm việc nhiều chán quá, đi chơi đâu đi?\",\n",
    "]\n",
    "\n",
    "docs = nlp.pipe(sentences)\n",
    "for doc in docs:\n",
    "    print(doc)\n",
    "\n"
   ]
  },
  {
   "cell_type": "code",
   "execution_count": 7,
   "metadata": {},
   "outputs": [
    {
     "name": "stdout",
     "output_type": "stream",
     "text": [
      "Trường đại_học bách_khoa hà_nội\n",
      "(['Đây', 'là', 'đâu', ',', 'tôi', 'là', 'ai', '?'], ['P', 'V', 'P', 'F', 'P', 'V', 'P', 'F'])\n",
      "(['Căn', 'phòng', 'có', 'nhiều', 'cửa_sổ', 'nên', 'nó', 'khá', 'sáng'], ['Nc', 'N', 'V', 'A', 'N', 'C', 'P', 'R', 'A'])\n",
      "(['Đại_dịch', 'COVID', 'vừa_qua', 'đã', 'gây', 'ảnh_hưởng', 'rất', 'lớn', 'tới', 'nhiều', 'doanh_nghiệp', 'lớn', 'nhỏ', '.'], ['N', 'Ny', 'X', 'R', 'V', 'V', 'R', 'A', 'E', 'A', 'N', 'A', 'A', 'F'])\n",
      "(['Thành_phố', 'Hồ_Chí_Minh', 'đã', 'bị', 'ảnh_hưởng', 'nặng_nề', 'trong', 'thời_gian', 'vừa_qua', '.'], ['N', 'Np', 'R', 'V', 'V', 'A', 'E', 'N', 'X', 'F'])\n",
      "(['Ông', 'bạn', 'đang', 'ở', 'đâu', 'thế', '?'], ['Nc', 'N', 'R', 'V', 'P', 'T', 'F'])\n",
      "(['Ai', 'là', 'người', 'giải_phóng', 'đất_nước', 'Việt_Nam', 'khỏi', 'ách', 'đô_hộ', '?'], ['P', 'V', 'N', 'V', 'N', 'Np', 'V', 'N', 'V', 'F'])\n",
      "(['Vị', 'tướng', 'nào', 'là', 'người', 'đã', 'làm_nên', 'chiến_thắng', 'lịch_sử', 'Điện_Biên_Phủ', '?'], ['Nc', 'N', 'P', 'V', 'N', 'R', 'V', 'N', 'N', 'Np', 'F'])\n",
      "(['Làm_việc', 'nhiều', 'chán', 'quá', ',', 'đi', 'chơi', 'đâu', 'đi', '?'], ['V', 'A', 'V', 'R', 'F', 'V', 'V', 'P', 'V', 'F'])\n"
     ]
    },
    {
     "data": {
      "text/plain": [
       "'Trường Đại học Bách Khoa hà nội'"
      ]
     },
     "execution_count": 7,
     "metadata": {},
     "output_type": "execute_result"
    }
   ],
   "source": [
    "from pyvi import ViTokenizer, ViPosTagger\n",
    "\n",
    "t = ViTokenizer.tokenize(u\"Trường đại học bách khoa hà nội\")\n",
    "print(t)\n",
    "\n",
    "for i in sentences:\n",
    "    z = ViPosTagger.postagging(ViTokenizer.tokenize(i))\n",
    "    print(z)\n",
    "\n",
    "from pyvi import ViUtils\n",
    "ViUtils.remove_accents(u\"Trường đại học bách khoa hà nội\")\n",
    "\n",
    "from pyvi import ViUtils\n",
    "ViUtils.add_accents(u'truong dai hoc bach khoa ha noi')"
   ]
  }
 ],
 "metadata": {
  "kernelspec": {
   "display_name": "Python 3",
   "language": "python",
   "name": "python3"
  },
  "language_info": {
   "codemirror_mode": {
    "name": "ipython",
    "version": 3
   },
   "file_extension": ".py",
   "mimetype": "text/x-python",
   "name": "python",
   "nbconvert_exporter": "python",
   "pygments_lexer": "ipython3",
   "version": "3.10.3"
  },
  "orig_nbformat": 4
 },
 "nbformat": 4,
 "nbformat_minor": 2
}
